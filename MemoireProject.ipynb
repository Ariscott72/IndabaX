{
  "cells": [
    {
      "cell_type": "markdown",
      "metadata": {
        "id": "view-in-github",
        "colab_type": "text"
      },
      "source": [
        "<a href=\"https://colab.research.google.com/github/Ariscott72/IndabaX/blob/main/MemoireProject.ipynb\" target=\"_parent\"><img src=\"https://colab.research.google.com/assets/colab-badge.svg\" alt=\"Open In Colab\"/></a>"
      ]
    },
    {
      "cell_type": "code",
      "execution_count": 1,
      "metadata": {
        "id": "e0eb2124"
      },
      "outputs": [],
      "source": [
        "%%capture\n",
        "!pip install scikit-plot"
      ],
      "id": "e0eb2124"
    },
    {
      "cell_type": "code",
      "execution_count": 2,
      "metadata": {
        "id": "dc175406",
        "colab": {
          "base_uri": "https://localhost:8080/"
        },
        "outputId": "c4bf3049-030a-4496-c1c2-2bdcf1e28c18"
      },
      "outputs": [
        {
          "output_type": "stream",
          "name": "stdout",
          "text": [
            "Collecting plotly_express\n",
            "  Downloading plotly_express-0.4.1-py2.py3-none-any.whl (2.9 kB)\n",
            "Requirement already satisfied: pandas>=0.20.0 in /usr/local/lib/python3.10/dist-packages (from plotly_express) (1.5.3)\n",
            "Requirement already satisfied: plotly>=4.1.0 in /usr/local/lib/python3.10/dist-packages (from plotly_express) (5.15.0)\n",
            "Requirement already satisfied: statsmodels>=0.9.0 in /usr/local/lib/python3.10/dist-packages (from plotly_express) (0.14.0)\n",
            "Requirement already satisfied: scipy>=0.18 in /usr/local/lib/python3.10/dist-packages (from plotly_express) (1.11.4)\n",
            "Requirement already satisfied: patsy>=0.5 in /usr/local/lib/python3.10/dist-packages (from plotly_express) (0.5.4)\n",
            "Requirement already satisfied: numpy>=1.11 in /usr/local/lib/python3.10/dist-packages (from plotly_express) (1.23.5)\n",
            "Requirement already satisfied: python-dateutil>=2.8.1 in /usr/local/lib/python3.10/dist-packages (from pandas>=0.20.0->plotly_express) (2.8.2)\n",
            "Requirement already satisfied: pytz>=2020.1 in /usr/local/lib/python3.10/dist-packages (from pandas>=0.20.0->plotly_express) (2023.3.post1)\n",
            "Requirement already satisfied: six in /usr/local/lib/python3.10/dist-packages (from patsy>=0.5->plotly_express) (1.16.0)\n",
            "Requirement already satisfied: tenacity>=6.2.0 in /usr/local/lib/python3.10/dist-packages (from plotly>=4.1.0->plotly_express) (8.2.3)\n",
            "Requirement already satisfied: packaging in /usr/local/lib/python3.10/dist-packages (from plotly>=4.1.0->plotly_express) (23.2)\n",
            "Installing collected packages: plotly_express\n",
            "Successfully installed plotly_express-0.4.1\n"
          ]
        }
      ],
      "source": [
        "!pip install plotly_express"
      ],
      "id": "dc175406"
    },
    {
      "cell_type": "code",
      "execution_count": 3,
      "metadata": {
        "id": "4e291566",
        "colab": {
          "base_uri": "https://localhost:8080/"
        },
        "outputId": "b6ca85da-c616-436e-9fa7-530189e24741"
      },
      "outputs": [
        {
          "output_type": "stream",
          "name": "stdout",
          "text": [
            "Requirement already satisfied: tensorflow in /usr/local/lib/python3.10/dist-packages (2.14.0)\n",
            "Requirement already satisfied: absl-py>=1.0.0 in /usr/local/lib/python3.10/dist-packages (from tensorflow) (1.4.0)\n",
            "Requirement already satisfied: astunparse>=1.6.0 in /usr/local/lib/python3.10/dist-packages (from tensorflow) (1.6.3)\n",
            "Requirement already satisfied: flatbuffers>=23.5.26 in /usr/local/lib/python3.10/dist-packages (from tensorflow) (23.5.26)\n",
            "Requirement already satisfied: gast!=0.5.0,!=0.5.1,!=0.5.2,>=0.2.1 in /usr/local/lib/python3.10/dist-packages (from tensorflow) (0.5.4)\n",
            "Requirement already satisfied: google-pasta>=0.1.1 in /usr/local/lib/python3.10/dist-packages (from tensorflow) (0.2.0)\n",
            "Requirement already satisfied: h5py>=2.9.0 in /usr/local/lib/python3.10/dist-packages (from tensorflow) (3.9.0)\n",
            "Requirement already satisfied: libclang>=13.0.0 in /usr/local/lib/python3.10/dist-packages (from tensorflow) (16.0.6)\n",
            "Requirement already satisfied: ml-dtypes==0.2.0 in /usr/local/lib/python3.10/dist-packages (from tensorflow) (0.2.0)\n",
            "Requirement already satisfied: numpy>=1.23.5 in /usr/local/lib/python3.10/dist-packages (from tensorflow) (1.23.5)\n",
            "Requirement already satisfied: opt-einsum>=2.3.2 in /usr/local/lib/python3.10/dist-packages (from tensorflow) (3.3.0)\n",
            "Requirement already satisfied: packaging in /usr/local/lib/python3.10/dist-packages (from tensorflow) (23.2)\n",
            "Requirement already satisfied: protobuf!=4.21.0,!=4.21.1,!=4.21.2,!=4.21.3,!=4.21.4,!=4.21.5,<5.0.0dev,>=3.20.3 in /usr/local/lib/python3.10/dist-packages (from tensorflow) (3.20.3)\n",
            "Requirement already satisfied: setuptools in /usr/local/lib/python3.10/dist-packages (from tensorflow) (67.7.2)\n",
            "Requirement already satisfied: six>=1.12.0 in /usr/local/lib/python3.10/dist-packages (from tensorflow) (1.16.0)\n",
            "Requirement already satisfied: termcolor>=1.1.0 in /usr/local/lib/python3.10/dist-packages (from tensorflow) (2.4.0)\n",
            "Requirement already satisfied: typing-extensions>=3.6.6 in /usr/local/lib/python3.10/dist-packages (from tensorflow) (4.5.0)\n",
            "Requirement already satisfied: wrapt<1.15,>=1.11.0 in /usr/local/lib/python3.10/dist-packages (from tensorflow) (1.14.1)\n",
            "Requirement already satisfied: tensorflow-io-gcs-filesystem>=0.23.1 in /usr/local/lib/python3.10/dist-packages (from tensorflow) (0.34.0)\n",
            "Requirement already satisfied: grpcio<2.0,>=1.24.3 in /usr/local/lib/python3.10/dist-packages (from tensorflow) (1.59.3)\n",
            "Requirement already satisfied: tensorboard<2.15,>=2.14 in /usr/local/lib/python3.10/dist-packages (from tensorflow) (2.14.1)\n",
            "Requirement already satisfied: tensorflow-estimator<2.15,>=2.14.0 in /usr/local/lib/python3.10/dist-packages (from tensorflow) (2.14.0)\n",
            "Requirement already satisfied: keras<2.15,>=2.14.0 in /usr/local/lib/python3.10/dist-packages (from tensorflow) (2.14.0)\n",
            "Requirement already satisfied: wheel<1.0,>=0.23.0 in /usr/local/lib/python3.10/dist-packages (from astunparse>=1.6.0->tensorflow) (0.42.0)\n",
            "Requirement already satisfied: google-auth<3,>=1.6.3 in /usr/local/lib/python3.10/dist-packages (from tensorboard<2.15,>=2.14->tensorflow) (2.17.3)\n",
            "Requirement already satisfied: google-auth-oauthlib<1.1,>=0.5 in /usr/local/lib/python3.10/dist-packages (from tensorboard<2.15,>=2.14->tensorflow) (1.0.0)\n",
            "Requirement already satisfied: markdown>=2.6.8 in /usr/local/lib/python3.10/dist-packages (from tensorboard<2.15,>=2.14->tensorflow) (3.5.1)\n",
            "Requirement already satisfied: requests<3,>=2.21.0 in /usr/local/lib/python3.10/dist-packages (from tensorboard<2.15,>=2.14->tensorflow) (2.31.0)\n",
            "Requirement already satisfied: tensorboard-data-server<0.8.0,>=0.7.0 in /usr/local/lib/python3.10/dist-packages (from tensorboard<2.15,>=2.14->tensorflow) (0.7.2)\n",
            "Requirement already satisfied: werkzeug>=1.0.1 in /usr/local/lib/python3.10/dist-packages (from tensorboard<2.15,>=2.14->tensorflow) (3.0.1)\n",
            "Requirement already satisfied: cachetools<6.0,>=2.0.0 in /usr/local/lib/python3.10/dist-packages (from google-auth<3,>=1.6.3->tensorboard<2.15,>=2.14->tensorflow) (5.3.2)\n",
            "Requirement already satisfied: pyasn1-modules>=0.2.1 in /usr/local/lib/python3.10/dist-packages (from google-auth<3,>=1.6.3->tensorboard<2.15,>=2.14->tensorflow) (0.3.0)\n",
            "Requirement already satisfied: rsa<5,>=3.1.4 in /usr/local/lib/python3.10/dist-packages (from google-auth<3,>=1.6.3->tensorboard<2.15,>=2.14->tensorflow) (4.9)\n",
            "Requirement already satisfied: requests-oauthlib>=0.7.0 in /usr/local/lib/python3.10/dist-packages (from google-auth-oauthlib<1.1,>=0.5->tensorboard<2.15,>=2.14->tensorflow) (1.3.1)\n",
            "Requirement already satisfied: charset-normalizer<4,>=2 in /usr/local/lib/python3.10/dist-packages (from requests<3,>=2.21.0->tensorboard<2.15,>=2.14->tensorflow) (3.3.2)\n",
            "Requirement already satisfied: idna<4,>=2.5 in /usr/local/lib/python3.10/dist-packages (from requests<3,>=2.21.0->tensorboard<2.15,>=2.14->tensorflow) (3.6)\n",
            "Requirement already satisfied: urllib3<3,>=1.21.1 in /usr/local/lib/python3.10/dist-packages (from requests<3,>=2.21.0->tensorboard<2.15,>=2.14->tensorflow) (2.0.7)\n",
            "Requirement already satisfied: certifi>=2017.4.17 in /usr/local/lib/python3.10/dist-packages (from requests<3,>=2.21.0->tensorboard<2.15,>=2.14->tensorflow) (2023.11.17)\n",
            "Requirement already satisfied: MarkupSafe>=2.1.1 in /usr/local/lib/python3.10/dist-packages (from werkzeug>=1.0.1->tensorboard<2.15,>=2.14->tensorflow) (2.1.3)\n",
            "Requirement already satisfied: pyasn1<0.6.0,>=0.4.6 in /usr/local/lib/python3.10/dist-packages (from pyasn1-modules>=0.2.1->google-auth<3,>=1.6.3->tensorboard<2.15,>=2.14->tensorflow) (0.5.1)\n",
            "Requirement already satisfied: oauthlib>=3.0.0 in /usr/local/lib/python3.10/dist-packages (from requests-oauthlib>=0.7.0->google-auth-oauthlib<1.1,>=0.5->tensorboard<2.15,>=2.14->tensorflow) (3.2.2)\n"
          ]
        }
      ],
      "source": [
        "!pip install tensorflow"
      ],
      "id": "4e291566"
    },
    {
      "cell_type": "markdown",
      "source": [
        "**Visualisation des données**"
      ],
      "metadata": {
        "id": "mWvNQPUE4rJ5"
      },
      "id": "mWvNQPUE4rJ5"
    },
    {
      "cell_type": "code",
      "execution_count": 4,
      "metadata": {
        "id": "5b71804c"
      },
      "outputs": [],
      "source": [
        "import pandas as pd\n",
        "import numpy as np\n",
        "import io\n",
        "import scikitplot\n",
        "import random\n",
        "import seaborn as sns\n",
        "import keras\n",
        "import os\n",
        "from matplotlib import pyplot\n",
        "import matplotlib.pyplot as plt\n",
        "import tensorflow as tf\n",
        "from tensorflow.keras.utils import to_categorical\n",
        "import warnings\n",
        "from tensorflow.keras.models import Sequential\n",
        "from keras.callbacks import EarlyStopping\n",
        "from keras import regularizers\n",
        "from keras.callbacks import ModelCheckpoint,EarlyStopping\n",
        "from tensorflow.keras.optimizers import Adam,RMSprop,SGD,Adamax\n",
        "from keras.preprocessing.image import ImageDataGenerator\n",
        "from tensorflow.keras.preprocessing.image import load_img\n",
        "from keras.utils import plot_model\n",
        "from keras.layers import Conv2D, MaxPool2D, Flatten,Dense,Dropout,BatchNormalization,MaxPooling2D,Activation,Input\n",
        "from sklearn.model_selection import train_test_split\n",
        "from sklearn.preprocessing import StandardScaler\n",
        "warnings.simplefilter(\"ignore\")\n",
        "from keras.models import Model\n",
        "import plotly.express as px\n",
        "from sklearn.model_selection import train_test_split\n",
        "from sklearn.metrics import accuracy_score\n",
        "from keras.regularizers import l1, l2\n",
        "from matplotlib import pyplot as plt\n",
        "from sklearn.metrics import confusion_matrix\n",
        "from sklearn.metrics import classification_report\n",
        "import itertools\n",
        "import random"
      ],
      "id": "5b71804c"
    },
    {
      "cell_type": "code",
      "source": [
        "from google.colab import files\n",
        "data_to_load = files.upload()"
      ],
      "metadata": {
        "colab": {
          "base_uri": "https://localhost:8080/",
          "height": 73
        },
        "id": "MMnZ5C7YBv1C",
        "outputId": "565aa330-7394-4531-bbef-f8574de5d52b"
      },
      "id": "MMnZ5C7YBv1C",
      "execution_count": 5,
      "outputs": [
        {
          "output_type": "display_data",
          "data": {
            "text/plain": [
              "<IPython.core.display.HTML object>"
            ],
            "text/html": [
              "\n",
              "     <input type=\"file\" id=\"files-7b1fa2c1-bea4-42bf-ada3-5e83d1396a80\" name=\"files[]\" multiple disabled\n",
              "        style=\"border:none\" />\n",
              "     <output id=\"result-7b1fa2c1-bea4-42bf-ada3-5e83d1396a80\">\n",
              "      Upload widget is only available when the cell has been executed in the\n",
              "      current browser session. Please rerun this cell to enable.\n",
              "      </output>\n",
              "      <script>// Copyright 2017 Google LLC\n",
              "//\n",
              "// Licensed under the Apache License, Version 2.0 (the \"License\");\n",
              "// you may not use this file except in compliance with the License.\n",
              "// You may obtain a copy of the License at\n",
              "//\n",
              "//      http://www.apache.org/licenses/LICENSE-2.0\n",
              "//\n",
              "// Unless required by applicable law or agreed to in writing, software\n",
              "// distributed under the License is distributed on an \"AS IS\" BASIS,\n",
              "// WITHOUT WARRANTIES OR CONDITIONS OF ANY KIND, either express or implied.\n",
              "// See the License for the specific language governing permissions and\n",
              "// limitations under the License.\n",
              "\n",
              "/**\n",
              " * @fileoverview Helpers for google.colab Python module.\n",
              " */\n",
              "(function(scope) {\n",
              "function span(text, styleAttributes = {}) {\n",
              "  const element = document.createElement('span');\n",
              "  element.textContent = text;\n",
              "  for (const key of Object.keys(styleAttributes)) {\n",
              "    element.style[key] = styleAttributes[key];\n",
              "  }\n",
              "  return element;\n",
              "}\n",
              "\n",
              "// Max number of bytes which will be uploaded at a time.\n",
              "const MAX_PAYLOAD_SIZE = 100 * 1024;\n",
              "\n",
              "function _uploadFiles(inputId, outputId) {\n",
              "  const steps = uploadFilesStep(inputId, outputId);\n",
              "  const outputElement = document.getElementById(outputId);\n",
              "  // Cache steps on the outputElement to make it available for the next call\n",
              "  // to uploadFilesContinue from Python.\n",
              "  outputElement.steps = steps;\n",
              "\n",
              "  return _uploadFilesContinue(outputId);\n",
              "}\n",
              "\n",
              "// This is roughly an async generator (not supported in the browser yet),\n",
              "// where there are multiple asynchronous steps and the Python side is going\n",
              "// to poll for completion of each step.\n",
              "// This uses a Promise to block the python side on completion of each step,\n",
              "// then passes the result of the previous step as the input to the next step.\n",
              "function _uploadFilesContinue(outputId) {\n",
              "  const outputElement = document.getElementById(outputId);\n",
              "  const steps = outputElement.steps;\n",
              "\n",
              "  const next = steps.next(outputElement.lastPromiseValue);\n",
              "  return Promise.resolve(next.value.promise).then((value) => {\n",
              "    // Cache the last promise value to make it available to the next\n",
              "    // step of the generator.\n",
              "    outputElement.lastPromiseValue = value;\n",
              "    return next.value.response;\n",
              "  });\n",
              "}\n",
              "\n",
              "/**\n",
              " * Generator function which is called between each async step of the upload\n",
              " * process.\n",
              " * @param {string} inputId Element ID of the input file picker element.\n",
              " * @param {string} outputId Element ID of the output display.\n",
              " * @return {!Iterable<!Object>} Iterable of next steps.\n",
              " */\n",
              "function* uploadFilesStep(inputId, outputId) {\n",
              "  const inputElement = document.getElementById(inputId);\n",
              "  inputElement.disabled = false;\n",
              "\n",
              "  const outputElement = document.getElementById(outputId);\n",
              "  outputElement.innerHTML = '';\n",
              "\n",
              "  const pickedPromise = new Promise((resolve) => {\n",
              "    inputElement.addEventListener('change', (e) => {\n",
              "      resolve(e.target.files);\n",
              "    });\n",
              "  });\n",
              "\n",
              "  const cancel = document.createElement('button');\n",
              "  inputElement.parentElement.appendChild(cancel);\n",
              "  cancel.textContent = 'Cancel upload';\n",
              "  const cancelPromise = new Promise((resolve) => {\n",
              "    cancel.onclick = () => {\n",
              "      resolve(null);\n",
              "    };\n",
              "  });\n",
              "\n",
              "  // Wait for the user to pick the files.\n",
              "  const files = yield {\n",
              "    promise: Promise.race([pickedPromise, cancelPromise]),\n",
              "    response: {\n",
              "      action: 'starting',\n",
              "    }\n",
              "  };\n",
              "\n",
              "  cancel.remove();\n",
              "\n",
              "  // Disable the input element since further picks are not allowed.\n",
              "  inputElement.disabled = true;\n",
              "\n",
              "  if (!files) {\n",
              "    return {\n",
              "      response: {\n",
              "        action: 'complete',\n",
              "      }\n",
              "    };\n",
              "  }\n",
              "\n",
              "  for (const file of files) {\n",
              "    const li = document.createElement('li');\n",
              "    li.append(span(file.name, {fontWeight: 'bold'}));\n",
              "    li.append(span(\n",
              "        `(${file.type || 'n/a'}) - ${file.size} bytes, ` +\n",
              "        `last modified: ${\n",
              "            file.lastModifiedDate ? file.lastModifiedDate.toLocaleDateString() :\n",
              "                                    'n/a'} - `));\n",
              "    const percent = span('0% done');\n",
              "    li.appendChild(percent);\n",
              "\n",
              "    outputElement.appendChild(li);\n",
              "\n",
              "    const fileDataPromise = new Promise((resolve) => {\n",
              "      const reader = new FileReader();\n",
              "      reader.onload = (e) => {\n",
              "        resolve(e.target.result);\n",
              "      };\n",
              "      reader.readAsArrayBuffer(file);\n",
              "    });\n",
              "    // Wait for the data to be ready.\n",
              "    let fileData = yield {\n",
              "      promise: fileDataPromise,\n",
              "      response: {\n",
              "        action: 'continue',\n",
              "      }\n",
              "    };\n",
              "\n",
              "    // Use a chunked sending to avoid message size limits. See b/62115660.\n",
              "    let position = 0;\n",
              "    do {\n",
              "      const length = Math.min(fileData.byteLength - position, MAX_PAYLOAD_SIZE);\n",
              "      const chunk = new Uint8Array(fileData, position, length);\n",
              "      position += length;\n",
              "\n",
              "      const base64 = btoa(String.fromCharCode.apply(null, chunk));\n",
              "      yield {\n",
              "        response: {\n",
              "          action: 'append',\n",
              "          file: file.name,\n",
              "          data: base64,\n",
              "        },\n",
              "      };\n",
              "\n",
              "      let percentDone = fileData.byteLength === 0 ?\n",
              "          100 :\n",
              "          Math.round((position / fileData.byteLength) * 100);\n",
              "      percent.textContent = `${percentDone}% done`;\n",
              "\n",
              "    } while (position < fileData.byteLength);\n",
              "  }\n",
              "\n",
              "  // All done.\n",
              "  yield {\n",
              "    response: {\n",
              "      action: 'complete',\n",
              "    }\n",
              "  };\n",
              "}\n",
              "\n",
              "scope.google = scope.google || {};\n",
              "scope.google.colab = scope.google.colab || {};\n",
              "scope.google.colab._files = {\n",
              "  _uploadFiles,\n",
              "  _uploadFilesContinue,\n",
              "};\n",
              "})(self);\n",
              "</script> "
            ]
          },
          "metadata": {}
        },
        {
          "output_type": "stream",
          "name": "stdout",
          "text": [
            "Saving fer2013.csv to fer2013.csv\n"
          ]
        }
      ]
    },
    {
      "cell_type": "code",
      "execution_count": 6,
      "metadata": {
        "id": "qVEV_Vfcb0YC",
        "colab": {
          "base_uri": "https://localhost:8080/"
        },
        "outputId": "ae82a077-89d7-4a6a-9637-3d500b3ebbbb"
      },
      "outputs": [
        {
          "output_type": "execute_result",
          "data": {
            "text/plain": [
              "(35887, 3)"
            ]
          },
          "metadata": {},
          "execution_count": 6
        }
      ],
      "source": [
        "#importer notre dataset\n",
        "df = pd.read_csv('fer2013.csv')\n",
        "df.shape"
      ],
      "id": "qVEV_Vfcb0YC"
    },
    {
      "cell_type": "code",
      "source": [
        "#Pour voir l'ensemble de données a des valeurs manquantes.\n",
        "df.isnull().sum()"
      ],
      "metadata": {
        "colab": {
          "base_uri": "https://localhost:8080/"
        },
        "id": "Zhm9TclLCJCc",
        "outputId": "c6d6b264-1612-402a-d3a7-b5c86c36436a"
      },
      "id": "Zhm9TclLCJCc",
      "execution_count": 7,
      "outputs": [
        {
          "output_type": "execute_result",
          "data": {
            "text/plain": [
              "emotion    0\n",
              "pixels     0\n",
              "Usage      0\n",
              "dtype: int64"
            ]
          },
          "metadata": {},
          "execution_count": 7
        }
      ]
    },
    {
      "cell_type": "code",
      "execution_count": 8,
      "metadata": {
        "colab": {
          "base_uri": "https://localhost:8080/",
          "height": 206
        },
        "id": "uo7G-fZ8p45c",
        "outputId": "6029f4ff-a48c-435d-d14d-904f6f8692bf"
      },
      "outputs": [
        {
          "output_type": "execute_result",
          "data": {
            "text/plain": [
              "   emotion                                             pixels     Usage\n",
              "0        0  70 80 82 72 58 58 60 63 54 58 60 48 89 115 121...  Training\n",
              "1        0  151 150 147 155 148 133 111 140 170 174 182 15...  Training\n",
              "2        2  231 212 156 164 174 138 161 173 182 200 106 38...  Training\n",
              "3        4  24 32 36 30 32 23 19 20 30 41 21 22 32 34 21 1...  Training\n",
              "4        6  4 0 0 0 0 0 0 0 0 0 0 0 3 15 23 28 48 50 58 84...  Training"
            ],
            "text/html": [
              "\n",
              "  <div id=\"df-c221d1ac-ba1f-451a-8679-c804082be87f\" class=\"colab-df-container\">\n",
              "    <div>\n",
              "<style scoped>\n",
              "    .dataframe tbody tr th:only-of-type {\n",
              "        vertical-align: middle;\n",
              "    }\n",
              "\n",
              "    .dataframe tbody tr th {\n",
              "        vertical-align: top;\n",
              "    }\n",
              "\n",
              "    .dataframe thead th {\n",
              "        text-align: right;\n",
              "    }\n",
              "</style>\n",
              "<table border=\"1\" class=\"dataframe\">\n",
              "  <thead>\n",
              "    <tr style=\"text-align: right;\">\n",
              "      <th></th>\n",
              "      <th>emotion</th>\n",
              "      <th>pixels</th>\n",
              "      <th>Usage</th>\n",
              "    </tr>\n",
              "  </thead>\n",
              "  <tbody>\n",
              "    <tr>\n",
              "      <th>0</th>\n",
              "      <td>0</td>\n",
              "      <td>70 80 82 72 58 58 60 63 54 58 60 48 89 115 121...</td>\n",
              "      <td>Training</td>\n",
              "    </tr>\n",
              "    <tr>\n",
              "      <th>1</th>\n",
              "      <td>0</td>\n",
              "      <td>151 150 147 155 148 133 111 140 170 174 182 15...</td>\n",
              "      <td>Training</td>\n",
              "    </tr>\n",
              "    <tr>\n",
              "      <th>2</th>\n",
              "      <td>2</td>\n",
              "      <td>231 212 156 164 174 138 161 173 182 200 106 38...</td>\n",
              "      <td>Training</td>\n",
              "    </tr>\n",
              "    <tr>\n",
              "      <th>3</th>\n",
              "      <td>4</td>\n",
              "      <td>24 32 36 30 32 23 19 20 30 41 21 22 32 34 21 1...</td>\n",
              "      <td>Training</td>\n",
              "    </tr>\n",
              "    <tr>\n",
              "      <th>4</th>\n",
              "      <td>6</td>\n",
              "      <td>4 0 0 0 0 0 0 0 0 0 0 0 3 15 23 28 48 50 58 84...</td>\n",
              "      <td>Training</td>\n",
              "    </tr>\n",
              "  </tbody>\n",
              "</table>\n",
              "</div>\n",
              "    <div class=\"colab-df-buttons\">\n",
              "\n",
              "  <div class=\"colab-df-container\">\n",
              "    <button class=\"colab-df-convert\" onclick=\"convertToInteractive('df-c221d1ac-ba1f-451a-8679-c804082be87f')\"\n",
              "            title=\"Convert this dataframe to an interactive table.\"\n",
              "            style=\"display:none;\">\n",
              "\n",
              "  <svg xmlns=\"http://www.w3.org/2000/svg\" height=\"24px\" viewBox=\"0 -960 960 960\">\n",
              "    <path d=\"M120-120v-720h720v720H120Zm60-500h600v-160H180v160Zm220 220h160v-160H400v160Zm0 220h160v-160H400v160ZM180-400h160v-160H180v160Zm440 0h160v-160H620v160ZM180-180h160v-160H180v160Zm440 0h160v-160H620v160Z\"/>\n",
              "  </svg>\n",
              "    </button>\n",
              "\n",
              "  <style>\n",
              "    .colab-df-container {\n",
              "      display:flex;\n",
              "      gap: 12px;\n",
              "    }\n",
              "\n",
              "    .colab-df-convert {\n",
              "      background-color: #E8F0FE;\n",
              "      border: none;\n",
              "      border-radius: 50%;\n",
              "      cursor: pointer;\n",
              "      display: none;\n",
              "      fill: #1967D2;\n",
              "      height: 32px;\n",
              "      padding: 0 0 0 0;\n",
              "      width: 32px;\n",
              "    }\n",
              "\n",
              "    .colab-df-convert:hover {\n",
              "      background-color: #E2EBFA;\n",
              "      box-shadow: 0px 1px 2px rgba(60, 64, 67, 0.3), 0px 1px 3px 1px rgba(60, 64, 67, 0.15);\n",
              "      fill: #174EA6;\n",
              "    }\n",
              "\n",
              "    .colab-df-buttons div {\n",
              "      margin-bottom: 4px;\n",
              "    }\n",
              "\n",
              "    [theme=dark] .colab-df-convert {\n",
              "      background-color: #3B4455;\n",
              "      fill: #D2E3FC;\n",
              "    }\n",
              "\n",
              "    [theme=dark] .colab-df-convert:hover {\n",
              "      background-color: #434B5C;\n",
              "      box-shadow: 0px 1px 3px 1px rgba(0, 0, 0, 0.15);\n",
              "      filter: drop-shadow(0px 1px 2px rgba(0, 0, 0, 0.3));\n",
              "      fill: #FFFFFF;\n",
              "    }\n",
              "  </style>\n",
              "\n",
              "    <script>\n",
              "      const buttonEl =\n",
              "        document.querySelector('#df-c221d1ac-ba1f-451a-8679-c804082be87f button.colab-df-convert');\n",
              "      buttonEl.style.display =\n",
              "        google.colab.kernel.accessAllowed ? 'block' : 'none';\n",
              "\n",
              "      async function convertToInteractive(key) {\n",
              "        const element = document.querySelector('#df-c221d1ac-ba1f-451a-8679-c804082be87f');\n",
              "        const dataTable =\n",
              "          await google.colab.kernel.invokeFunction('convertToInteractive',\n",
              "                                                    [key], {});\n",
              "        if (!dataTable) return;\n",
              "\n",
              "        const docLinkHtml = 'Like what you see? Visit the ' +\n",
              "          '<a target=\"_blank\" href=https://colab.research.google.com/notebooks/data_table.ipynb>data table notebook</a>'\n",
              "          + ' to learn more about interactive tables.';\n",
              "        element.innerHTML = '';\n",
              "        dataTable['output_type'] = 'display_data';\n",
              "        await google.colab.output.renderOutput(dataTable, element);\n",
              "        const docLink = document.createElement('div');\n",
              "        docLink.innerHTML = docLinkHtml;\n",
              "        element.appendChild(docLink);\n",
              "      }\n",
              "    </script>\n",
              "  </div>\n",
              "\n",
              "\n",
              "<div id=\"df-89e59540-cf02-41a7-9565-d5b84472ee74\">\n",
              "  <button class=\"colab-df-quickchart\" onclick=\"quickchart('df-89e59540-cf02-41a7-9565-d5b84472ee74')\"\n",
              "            title=\"Suggest charts\"\n",
              "            style=\"display:none;\">\n",
              "\n",
              "<svg xmlns=\"http://www.w3.org/2000/svg\" height=\"24px\"viewBox=\"0 0 24 24\"\n",
              "     width=\"24px\">\n",
              "    <g>\n",
              "        <path d=\"M19 3H5c-1.1 0-2 .9-2 2v14c0 1.1.9 2 2 2h14c1.1 0 2-.9 2-2V5c0-1.1-.9-2-2-2zM9 17H7v-7h2v7zm4 0h-2V7h2v10zm4 0h-2v-4h2v4z\"/>\n",
              "    </g>\n",
              "</svg>\n",
              "  </button>\n",
              "\n",
              "<style>\n",
              "  .colab-df-quickchart {\n",
              "      --bg-color: #E8F0FE;\n",
              "      --fill-color: #1967D2;\n",
              "      --hover-bg-color: #E2EBFA;\n",
              "      --hover-fill-color: #174EA6;\n",
              "      --disabled-fill-color: #AAA;\n",
              "      --disabled-bg-color: #DDD;\n",
              "  }\n",
              "\n",
              "  [theme=dark] .colab-df-quickchart {\n",
              "      --bg-color: #3B4455;\n",
              "      --fill-color: #D2E3FC;\n",
              "      --hover-bg-color: #434B5C;\n",
              "      --hover-fill-color: #FFFFFF;\n",
              "      --disabled-bg-color: #3B4455;\n",
              "      --disabled-fill-color: #666;\n",
              "  }\n",
              "\n",
              "  .colab-df-quickchart {\n",
              "    background-color: var(--bg-color);\n",
              "    border: none;\n",
              "    border-radius: 50%;\n",
              "    cursor: pointer;\n",
              "    display: none;\n",
              "    fill: var(--fill-color);\n",
              "    height: 32px;\n",
              "    padding: 0;\n",
              "    width: 32px;\n",
              "  }\n",
              "\n",
              "  .colab-df-quickchart:hover {\n",
              "    background-color: var(--hover-bg-color);\n",
              "    box-shadow: 0 1px 2px rgba(60, 64, 67, 0.3), 0 1px 3px 1px rgba(60, 64, 67, 0.15);\n",
              "    fill: var(--button-hover-fill-color);\n",
              "  }\n",
              "\n",
              "  .colab-df-quickchart-complete:disabled,\n",
              "  .colab-df-quickchart-complete:disabled:hover {\n",
              "    background-color: var(--disabled-bg-color);\n",
              "    fill: var(--disabled-fill-color);\n",
              "    box-shadow: none;\n",
              "  }\n",
              "\n",
              "  .colab-df-spinner {\n",
              "    border: 2px solid var(--fill-color);\n",
              "    border-color: transparent;\n",
              "    border-bottom-color: var(--fill-color);\n",
              "    animation:\n",
              "      spin 1s steps(1) infinite;\n",
              "  }\n",
              "\n",
              "  @keyframes spin {\n",
              "    0% {\n",
              "      border-color: transparent;\n",
              "      border-bottom-color: var(--fill-color);\n",
              "      border-left-color: var(--fill-color);\n",
              "    }\n",
              "    20% {\n",
              "      border-color: transparent;\n",
              "      border-left-color: var(--fill-color);\n",
              "      border-top-color: var(--fill-color);\n",
              "    }\n",
              "    30% {\n",
              "      border-color: transparent;\n",
              "      border-left-color: var(--fill-color);\n",
              "      border-top-color: var(--fill-color);\n",
              "      border-right-color: var(--fill-color);\n",
              "    }\n",
              "    40% {\n",
              "      border-color: transparent;\n",
              "      border-right-color: var(--fill-color);\n",
              "      border-top-color: var(--fill-color);\n",
              "    }\n",
              "    60% {\n",
              "      border-color: transparent;\n",
              "      border-right-color: var(--fill-color);\n",
              "    }\n",
              "    80% {\n",
              "      border-color: transparent;\n",
              "      border-right-color: var(--fill-color);\n",
              "      border-bottom-color: var(--fill-color);\n",
              "    }\n",
              "    90% {\n",
              "      border-color: transparent;\n",
              "      border-bottom-color: var(--fill-color);\n",
              "    }\n",
              "  }\n",
              "</style>\n",
              "\n",
              "  <script>\n",
              "    async function quickchart(key) {\n",
              "      const quickchartButtonEl =\n",
              "        document.querySelector('#' + key + ' button');\n",
              "      quickchartButtonEl.disabled = true;  // To prevent multiple clicks.\n",
              "      quickchartButtonEl.classList.add('colab-df-spinner');\n",
              "      try {\n",
              "        const charts = await google.colab.kernel.invokeFunction(\n",
              "            'suggestCharts', [key], {});\n",
              "      } catch (error) {\n",
              "        console.error('Error during call to suggestCharts:', error);\n",
              "      }\n",
              "      quickchartButtonEl.classList.remove('colab-df-spinner');\n",
              "      quickchartButtonEl.classList.add('colab-df-quickchart-complete');\n",
              "    }\n",
              "    (() => {\n",
              "      let quickchartButtonEl =\n",
              "        document.querySelector('#df-89e59540-cf02-41a7-9565-d5b84472ee74 button');\n",
              "      quickchartButtonEl.style.display =\n",
              "        google.colab.kernel.accessAllowed ? 'block' : 'none';\n",
              "    })();\n",
              "  </script>\n",
              "</div>\n",
              "\n",
              "    </div>\n",
              "  </div>\n"
            ]
          },
          "metadata": {},
          "execution_count": 8
        }
      ],
      "source": [
        "df.head()"
      ],
      "id": "uo7G-fZ8p45c"
    },
    {
      "cell_type": "code",
      "source": [
        "df"
      ],
      "metadata": {
        "colab": {
          "base_uri": "https://localhost:8080/",
          "height": 424
        },
        "id": "9fAsS9JLZIXK",
        "outputId": "26a14ce5-e9b2-4a68-ee05-58199e933e2e"
      },
      "id": "9fAsS9JLZIXK",
      "execution_count": 9,
      "outputs": [
        {
          "output_type": "execute_result",
          "data": {
            "text/plain": [
              "       emotion                                             pixels        Usage\n",
              "0            0  70 80 82 72 58 58 60 63 54 58 60 48 89 115 121...     Training\n",
              "1            0  151 150 147 155 148 133 111 140 170 174 182 15...     Training\n",
              "2            2  231 212 156 164 174 138 161 173 182 200 106 38...     Training\n",
              "3            4  24 32 36 30 32 23 19 20 30 41 21 22 32 34 21 1...     Training\n",
              "4            6  4 0 0 0 0 0 0 0 0 0 0 0 3 15 23 28 48 50 58 84...     Training\n",
              "...        ...                                                ...          ...\n",
              "35882        6  50 36 17 22 23 29 33 39 34 37 37 37 39 43 48 5...  PrivateTest\n",
              "35883        3  178 174 172 173 181 188 191 194 196 199 200 20...  PrivateTest\n",
              "35884        0  17 17 16 23 28 22 19 17 25 26 20 24 31 19 27 9...  PrivateTest\n",
              "35885        3  30 28 28 29 31 30 42 68 79 81 77 67 67 71 63 6...  PrivateTest\n",
              "35886        2  19 13 14 12 13 16 21 33 50 57 71 84 97 108 122...  PrivateTest\n",
              "\n",
              "[35887 rows x 3 columns]"
            ],
            "text/html": [
              "\n",
              "  <div id=\"df-7c4162a0-c12b-430e-9496-772e1a65c080\" class=\"colab-df-container\">\n",
              "    <div>\n",
              "<style scoped>\n",
              "    .dataframe tbody tr th:only-of-type {\n",
              "        vertical-align: middle;\n",
              "    }\n",
              "\n",
              "    .dataframe tbody tr th {\n",
              "        vertical-align: top;\n",
              "    }\n",
              "\n",
              "    .dataframe thead th {\n",
              "        text-align: right;\n",
              "    }\n",
              "</style>\n",
              "<table border=\"1\" class=\"dataframe\">\n",
              "  <thead>\n",
              "    <tr style=\"text-align: right;\">\n",
              "      <th></th>\n",
              "      <th>emotion</th>\n",
              "      <th>pixels</th>\n",
              "      <th>Usage</th>\n",
              "    </tr>\n",
              "  </thead>\n",
              "  <tbody>\n",
              "    <tr>\n",
              "      <th>0</th>\n",
              "      <td>0</td>\n",
              "      <td>70 80 82 72 58 58 60 63 54 58 60 48 89 115 121...</td>\n",
              "      <td>Training</td>\n",
              "    </tr>\n",
              "    <tr>\n",
              "      <th>1</th>\n",
              "      <td>0</td>\n",
              "      <td>151 150 147 155 148 133 111 140 170 174 182 15...</td>\n",
              "      <td>Training</td>\n",
              "    </tr>\n",
              "    <tr>\n",
              "      <th>2</th>\n",
              "      <td>2</td>\n",
              "      <td>231 212 156 164 174 138 161 173 182 200 106 38...</td>\n",
              "      <td>Training</td>\n",
              "    </tr>\n",
              "    <tr>\n",
              "      <th>3</th>\n",
              "      <td>4</td>\n",
              "      <td>24 32 36 30 32 23 19 20 30 41 21 22 32 34 21 1...</td>\n",
              "      <td>Training</td>\n",
              "    </tr>\n",
              "    <tr>\n",
              "      <th>4</th>\n",
              "      <td>6</td>\n",
              "      <td>4 0 0 0 0 0 0 0 0 0 0 0 3 15 23 28 48 50 58 84...</td>\n",
              "      <td>Training</td>\n",
              "    </tr>\n",
              "    <tr>\n",
              "      <th>...</th>\n",
              "      <td>...</td>\n",
              "      <td>...</td>\n",
              "      <td>...</td>\n",
              "    </tr>\n",
              "    <tr>\n",
              "      <th>35882</th>\n",
              "      <td>6</td>\n",
              "      <td>50 36 17 22 23 29 33 39 34 37 37 37 39 43 48 5...</td>\n",
              "      <td>PrivateTest</td>\n",
              "    </tr>\n",
              "    <tr>\n",
              "      <th>35883</th>\n",
              "      <td>3</td>\n",
              "      <td>178 174 172 173 181 188 191 194 196 199 200 20...</td>\n",
              "      <td>PrivateTest</td>\n",
              "    </tr>\n",
              "    <tr>\n",
              "      <th>35884</th>\n",
              "      <td>0</td>\n",
              "      <td>17 17 16 23 28 22 19 17 25 26 20 24 31 19 27 9...</td>\n",
              "      <td>PrivateTest</td>\n",
              "    </tr>\n",
              "    <tr>\n",
              "      <th>35885</th>\n",
              "      <td>3</td>\n",
              "      <td>30 28 28 29 31 30 42 68 79 81 77 67 67 71 63 6...</td>\n",
              "      <td>PrivateTest</td>\n",
              "    </tr>\n",
              "    <tr>\n",
              "      <th>35886</th>\n",
              "      <td>2</td>\n",
              "      <td>19 13 14 12 13 16 21 33 50 57 71 84 97 108 122...</td>\n",
              "      <td>PrivateTest</td>\n",
              "    </tr>\n",
              "  </tbody>\n",
              "</table>\n",
              "<p>35887 rows × 3 columns</p>\n",
              "</div>\n",
              "    <div class=\"colab-df-buttons\">\n",
              "\n",
              "  <div class=\"colab-df-container\">\n",
              "    <button class=\"colab-df-convert\" onclick=\"convertToInteractive('df-7c4162a0-c12b-430e-9496-772e1a65c080')\"\n",
              "            title=\"Convert this dataframe to an interactive table.\"\n",
              "            style=\"display:none;\">\n",
              "\n",
              "  <svg xmlns=\"http://www.w3.org/2000/svg\" height=\"24px\" viewBox=\"0 -960 960 960\">\n",
              "    <path d=\"M120-120v-720h720v720H120Zm60-500h600v-160H180v160Zm220 220h160v-160H400v160Zm0 220h160v-160H400v160ZM180-400h160v-160H180v160Zm440 0h160v-160H620v160ZM180-180h160v-160H180v160Zm440 0h160v-160H620v160Z\"/>\n",
              "  </svg>\n",
              "    </button>\n",
              "\n",
              "  <style>\n",
              "    .colab-df-container {\n",
              "      display:flex;\n",
              "      gap: 12px;\n",
              "    }\n",
              "\n",
              "    .colab-df-convert {\n",
              "      background-color: #E8F0FE;\n",
              "      border: none;\n",
              "      border-radius: 50%;\n",
              "      cursor: pointer;\n",
              "      display: none;\n",
              "      fill: #1967D2;\n",
              "      height: 32px;\n",
              "      padding: 0 0 0 0;\n",
              "      width: 32px;\n",
              "    }\n",
              "\n",
              "    .colab-df-convert:hover {\n",
              "      background-color: #E2EBFA;\n",
              "      box-shadow: 0px 1px 2px rgba(60, 64, 67, 0.3), 0px 1px 3px 1px rgba(60, 64, 67, 0.15);\n",
              "      fill: #174EA6;\n",
              "    }\n",
              "\n",
              "    .colab-df-buttons div {\n",
              "      margin-bottom: 4px;\n",
              "    }\n",
              "\n",
              "    [theme=dark] .colab-df-convert {\n",
              "      background-color: #3B4455;\n",
              "      fill: #D2E3FC;\n",
              "    }\n",
              "\n",
              "    [theme=dark] .colab-df-convert:hover {\n",
              "      background-color: #434B5C;\n",
              "      box-shadow: 0px 1px 3px 1px rgba(0, 0, 0, 0.15);\n",
              "      filter: drop-shadow(0px 1px 2px rgba(0, 0, 0, 0.3));\n",
              "      fill: #FFFFFF;\n",
              "    }\n",
              "  </style>\n",
              "\n",
              "    <script>\n",
              "      const buttonEl =\n",
              "        document.querySelector('#df-7c4162a0-c12b-430e-9496-772e1a65c080 button.colab-df-convert');\n",
              "      buttonEl.style.display =\n",
              "        google.colab.kernel.accessAllowed ? 'block' : 'none';\n",
              "\n",
              "      async function convertToInteractive(key) {\n",
              "        const element = document.querySelector('#df-7c4162a0-c12b-430e-9496-772e1a65c080');\n",
              "        const dataTable =\n",
              "          await google.colab.kernel.invokeFunction('convertToInteractive',\n",
              "                                                    [key], {});\n",
              "        if (!dataTable) return;\n",
              "\n",
              "        const docLinkHtml = 'Like what you see? Visit the ' +\n",
              "          '<a target=\"_blank\" href=https://colab.research.google.com/notebooks/data_table.ipynb>data table notebook</a>'\n",
              "          + ' to learn more about interactive tables.';\n",
              "        element.innerHTML = '';\n",
              "        dataTable['output_type'] = 'display_data';\n",
              "        await google.colab.output.renderOutput(dataTable, element);\n",
              "        const docLink = document.createElement('div');\n",
              "        docLink.innerHTML = docLinkHtml;\n",
              "        element.appendChild(docLink);\n",
              "      }\n",
              "    </script>\n",
              "  </div>\n",
              "\n",
              "\n",
              "<div id=\"df-716e4405-c7df-419b-88ca-90fdb07a54e4\">\n",
              "  <button class=\"colab-df-quickchart\" onclick=\"quickchart('df-716e4405-c7df-419b-88ca-90fdb07a54e4')\"\n",
              "            title=\"Suggest charts\"\n",
              "            style=\"display:none;\">\n",
              "\n",
              "<svg xmlns=\"http://www.w3.org/2000/svg\" height=\"24px\"viewBox=\"0 0 24 24\"\n",
              "     width=\"24px\">\n",
              "    <g>\n",
              "        <path d=\"M19 3H5c-1.1 0-2 .9-2 2v14c0 1.1.9 2 2 2h14c1.1 0 2-.9 2-2V5c0-1.1-.9-2-2-2zM9 17H7v-7h2v7zm4 0h-2V7h2v10zm4 0h-2v-4h2v4z\"/>\n",
              "    </g>\n",
              "</svg>\n",
              "  </button>\n",
              "\n",
              "<style>\n",
              "  .colab-df-quickchart {\n",
              "      --bg-color: #E8F0FE;\n",
              "      --fill-color: #1967D2;\n",
              "      --hover-bg-color: #E2EBFA;\n",
              "      --hover-fill-color: #174EA6;\n",
              "      --disabled-fill-color: #AAA;\n",
              "      --disabled-bg-color: #DDD;\n",
              "  }\n",
              "\n",
              "  [theme=dark] .colab-df-quickchart {\n",
              "      --bg-color: #3B4455;\n",
              "      --fill-color: #D2E3FC;\n",
              "      --hover-bg-color: #434B5C;\n",
              "      --hover-fill-color: #FFFFFF;\n",
              "      --disabled-bg-color: #3B4455;\n",
              "      --disabled-fill-color: #666;\n",
              "  }\n",
              "\n",
              "  .colab-df-quickchart {\n",
              "    background-color: var(--bg-color);\n",
              "    border: none;\n",
              "    border-radius: 50%;\n",
              "    cursor: pointer;\n",
              "    display: none;\n",
              "    fill: var(--fill-color);\n",
              "    height: 32px;\n",
              "    padding: 0;\n",
              "    width: 32px;\n",
              "  }\n",
              "\n",
              "  .colab-df-quickchart:hover {\n",
              "    background-color: var(--hover-bg-color);\n",
              "    box-shadow: 0 1px 2px rgba(60, 64, 67, 0.3), 0 1px 3px 1px rgba(60, 64, 67, 0.15);\n",
              "    fill: var(--button-hover-fill-color);\n",
              "  }\n",
              "\n",
              "  .colab-df-quickchart-complete:disabled,\n",
              "  .colab-df-quickchart-complete:disabled:hover {\n",
              "    background-color: var(--disabled-bg-color);\n",
              "    fill: var(--disabled-fill-color);\n",
              "    box-shadow: none;\n",
              "  }\n",
              "\n",
              "  .colab-df-spinner {\n",
              "    border: 2px solid var(--fill-color);\n",
              "    border-color: transparent;\n",
              "    border-bottom-color: var(--fill-color);\n",
              "    animation:\n",
              "      spin 1s steps(1) infinite;\n",
              "  }\n",
              "\n",
              "  @keyframes spin {\n",
              "    0% {\n",
              "      border-color: transparent;\n",
              "      border-bottom-color: var(--fill-color);\n",
              "      border-left-color: var(--fill-color);\n",
              "    }\n",
              "    20% {\n",
              "      border-color: transparent;\n",
              "      border-left-color: var(--fill-color);\n",
              "      border-top-color: var(--fill-color);\n",
              "    }\n",
              "    30% {\n",
              "      border-color: transparent;\n",
              "      border-left-color: var(--fill-color);\n",
              "      border-top-color: var(--fill-color);\n",
              "      border-right-color: var(--fill-color);\n",
              "    }\n",
              "    40% {\n",
              "      border-color: transparent;\n",
              "      border-right-color: var(--fill-color);\n",
              "      border-top-color: var(--fill-color);\n",
              "    }\n",
              "    60% {\n",
              "      border-color: transparent;\n",
              "      border-right-color: var(--fill-color);\n",
              "    }\n",
              "    80% {\n",
              "      border-color: transparent;\n",
              "      border-right-color: var(--fill-color);\n",
              "      border-bottom-color: var(--fill-color);\n",
              "    }\n",
              "    90% {\n",
              "      border-color: transparent;\n",
              "      border-bottom-color: var(--fill-color);\n",
              "    }\n",
              "  }\n",
              "</style>\n",
              "\n",
              "  <script>\n",
              "    async function quickchart(key) {\n",
              "      const quickchartButtonEl =\n",
              "        document.querySelector('#' + key + ' button');\n",
              "      quickchartButtonEl.disabled = true;  // To prevent multiple clicks.\n",
              "      quickchartButtonEl.classList.add('colab-df-spinner');\n",
              "      try {\n",
              "        const charts = await google.colab.kernel.invokeFunction(\n",
              "            'suggestCharts', [key], {});\n",
              "      } catch (error) {\n",
              "        console.error('Error during call to suggestCharts:', error);\n",
              "      }\n",
              "      quickchartButtonEl.classList.remove('colab-df-spinner');\n",
              "      quickchartButtonEl.classList.add('colab-df-quickchart-complete');\n",
              "    }\n",
              "    (() => {\n",
              "      let quickchartButtonEl =\n",
              "        document.querySelector('#df-716e4405-c7df-419b-88ca-90fdb07a54e4 button');\n",
              "      quickchartButtonEl.style.display =\n",
              "        google.colab.kernel.accessAllowed ? 'block' : 'none';\n",
              "    })();\n",
              "  </script>\n",
              "</div>\n",
              "\n",
              "  <div id=\"id_bae4829a-5f2a-49da-92f3-bb16e7dc4c92\">\n",
              "    <style>\n",
              "      .colab-df-generate {\n",
              "        background-color: #E8F0FE;\n",
              "        border: none;\n",
              "        border-radius: 50%;\n",
              "        cursor: pointer;\n",
              "        display: none;\n",
              "        fill: #1967D2;\n",
              "        height: 32px;\n",
              "        padding: 0 0 0 0;\n",
              "        width: 32px;\n",
              "      }\n",
              "\n",
              "      .colab-df-generate:hover {\n",
              "        background-color: #E2EBFA;\n",
              "        box-shadow: 0px 1px 2px rgba(60, 64, 67, 0.3), 0px 1px 3px 1px rgba(60, 64, 67, 0.15);\n",
              "        fill: #174EA6;\n",
              "      }\n",
              "\n",
              "      [theme=dark] .colab-df-generate {\n",
              "        background-color: #3B4455;\n",
              "        fill: #D2E3FC;\n",
              "      }\n",
              "\n",
              "      [theme=dark] .colab-df-generate:hover {\n",
              "        background-color: #434B5C;\n",
              "        box-shadow: 0px 1px 3px 1px rgba(0, 0, 0, 0.15);\n",
              "        filter: drop-shadow(0px 1px 2px rgba(0, 0, 0, 0.3));\n",
              "        fill: #FFFFFF;\n",
              "      }\n",
              "    </style>\n",
              "    <button class=\"colab-df-generate\" onclick=\"generateWithVariable('df')\"\n",
              "            title=\"Generate code using this dataframe.\"\n",
              "            style=\"display:none;\">\n",
              "\n",
              "  <svg xmlns=\"http://www.w3.org/2000/svg\" height=\"24px\"viewBox=\"0 0 24 24\"\n",
              "       width=\"24px\">\n",
              "    <path d=\"M7,19H8.4L18.45,9,17,7.55,7,17.6ZM5,21V16.75L18.45,3.32a2,2,0,0,1,2.83,0l1.4,1.43a1.91,1.91,0,0,1,.58,1.4,1.91,1.91,0,0,1-.58,1.4L9.25,21ZM18.45,9,17,7.55Zm-12,3A5.31,5.31,0,0,0,4.9,8.1,5.31,5.31,0,0,0,1,6.5,5.31,5.31,0,0,0,4.9,4.9,5.31,5.31,0,0,0,6.5,1,5.31,5.31,0,0,0,8.1,4.9,5.31,5.31,0,0,0,12,6.5,5.46,5.46,0,0,0,6.5,12Z\"/>\n",
              "  </svg>\n",
              "    </button>\n",
              "    <script>\n",
              "      (() => {\n",
              "      const buttonEl =\n",
              "        document.querySelector('#id_bae4829a-5f2a-49da-92f3-bb16e7dc4c92 button.colab-df-generate');\n",
              "      buttonEl.style.display =\n",
              "        google.colab.kernel.accessAllowed ? 'block' : 'none';\n",
              "\n",
              "      buttonEl.onclick = () => {\n",
              "        google.colab.notebook.generateWithVariable('df');\n",
              "      }\n",
              "      })();\n",
              "    </script>\n",
              "  </div>\n",
              "\n",
              "    </div>\n",
              "  </div>\n"
            ]
          },
          "metadata": {},
          "execution_count": 9
        }
      ]
    },
    {
      "cell_type": "markdown",
      "source": [
        "**Pré-traitement des données**"
      ],
      "metadata": {
        "id": "i1AXOy-p5ysL"
      },
      "id": "i1AXOy-p5ysL"
    },
    {
      "cell_type": "code",
      "execution_count": 10,
      "metadata": {
        "id": "d3f278be",
        "colab": {
          "base_uri": "https://localhost:8080/",
          "height": 542
        },
        "outputId": "3c8c6437-7a08-4495-970d-93cf05bca03d"
      },
      "outputs": [
        {
          "output_type": "display_data",
          "data": {
            "text/html": [
              "<html>\n",
              "<head><meta charset=\"utf-8\" /></head>\n",
              "<body>\n",
              "    <div>            <script src=\"https://cdnjs.cloudflare.com/ajax/libs/mathjax/2.7.5/MathJax.js?config=TeX-AMS-MML_SVG\"></script><script type=\"text/javascript\">if (window.MathJax && window.MathJax.Hub && window.MathJax.Hub.Config) {window.MathJax.Hub.Config({SVG: {font: \"STIX-Web\"}});}</script>                <script type=\"text/javascript\">window.PlotlyConfig = {MathJaxConfig: 'local'};</script>\n",
              "        <script charset=\"utf-8\" src=\"https://cdn.plot.ly/plotly-2.24.1.min.js\"></script>                <div id=\"9e5c5393-9017-4058-b0ec-cf7fc77884b8\" class=\"plotly-graph-div\" style=\"height:525px; width:100%;\"></div>            <script type=\"text/javascript\">                                    window.PLOTLYENV=window.PLOTLYENV || {};                                    if (document.getElementById(\"9e5c5393-9017-4058-b0ec-cf7fc77884b8\")) {                    Plotly.newPlot(                        \"9e5c5393-9017-4058-b0ec-cf7fc77884b8\",                        [{\"alignmentgroup\":\"True\",\"hovertemplate\":\"x=%{x}\\u003cbr\\u003ey=%{y}\\u003cbr\\u003ecolor=%{marker.color}\\u003cextra\\u003e\\u003c\\u002fextra\\u003e\",\"legendgroup\":\"\",\"marker\":{\"color\":[0,1,2,3,4,5,6],\"coloraxis\":\"coloraxis\",\"pattern\":{\"shape\":\"\"}},\"name\":\"\",\"offsetgroup\":\"\",\"orientation\":\"v\",\"showlegend\":false,\"textposition\":\"auto\",\"x\":[\"Colere\",\"Degout\",\"Peur\",\"Joie\",\"Neutre\",\"Triste\",\"Surpris(e)\"],\"xaxis\":\"x\",\"y\":[4953,547,5121,8989,6077,4002,6198],\"yaxis\":\"y\",\"type\":\"bar\"}],                        {\"template\":{\"data\":{\"histogram2dcontour\":[{\"type\":\"histogram2dcontour\",\"colorbar\":{\"outlinewidth\":0,\"ticks\":\"\"},\"colorscale\":[[0.0,\"#0d0887\"],[0.1111111111111111,\"#46039f\"],[0.2222222222222222,\"#7201a8\"],[0.3333333333333333,\"#9c179e\"],[0.4444444444444444,\"#bd3786\"],[0.5555555555555556,\"#d8576b\"],[0.6666666666666666,\"#ed7953\"],[0.7777777777777778,\"#fb9f3a\"],[0.8888888888888888,\"#fdca26\"],[1.0,\"#f0f921\"]]}],\"choropleth\":[{\"type\":\"choropleth\",\"colorbar\":{\"outlinewidth\":0,\"ticks\":\"\"}}],\"histogram2d\":[{\"type\":\"histogram2d\",\"colorbar\":{\"outlinewidth\":0,\"ticks\":\"\"},\"colorscale\":[[0.0,\"#0d0887\"],[0.1111111111111111,\"#46039f\"],[0.2222222222222222,\"#7201a8\"],[0.3333333333333333,\"#9c179e\"],[0.4444444444444444,\"#bd3786\"],[0.5555555555555556,\"#d8576b\"],[0.6666666666666666,\"#ed7953\"],[0.7777777777777778,\"#fb9f3a\"],[0.8888888888888888,\"#fdca26\"],[1.0,\"#f0f921\"]]}],\"heatmap\":[{\"type\":\"heatmap\",\"colorbar\":{\"outlinewidth\":0,\"ticks\":\"\"},\"colorscale\":[[0.0,\"#0d0887\"],[0.1111111111111111,\"#46039f\"],[0.2222222222222222,\"#7201a8\"],[0.3333333333333333,\"#9c179e\"],[0.4444444444444444,\"#bd3786\"],[0.5555555555555556,\"#d8576b\"],[0.6666666666666666,\"#ed7953\"],[0.7777777777777778,\"#fb9f3a\"],[0.8888888888888888,\"#fdca26\"],[1.0,\"#f0f921\"]]}],\"heatmapgl\":[{\"type\":\"heatmapgl\",\"colorbar\":{\"outlinewidth\":0,\"ticks\":\"\"},\"colorscale\":[[0.0,\"#0d0887\"],[0.1111111111111111,\"#46039f\"],[0.2222222222222222,\"#7201a8\"],[0.3333333333333333,\"#9c179e\"],[0.4444444444444444,\"#bd3786\"],[0.5555555555555556,\"#d8576b\"],[0.6666666666666666,\"#ed7953\"],[0.7777777777777778,\"#fb9f3a\"],[0.8888888888888888,\"#fdca26\"],[1.0,\"#f0f921\"]]}],\"contourcarpet\":[{\"type\":\"contourcarpet\",\"colorbar\":{\"outlinewidth\":0,\"ticks\":\"\"}}],\"contour\":[{\"type\":\"contour\",\"colorbar\":{\"outlinewidth\":0,\"ticks\":\"\"},\"colorscale\":[[0.0,\"#0d0887\"],[0.1111111111111111,\"#46039f\"],[0.2222222222222222,\"#7201a8\"],[0.3333333333333333,\"#9c179e\"],[0.4444444444444444,\"#bd3786\"],[0.5555555555555556,\"#d8576b\"],[0.6666666666666666,\"#ed7953\"],[0.7777777777777778,\"#fb9f3a\"],[0.8888888888888888,\"#fdca26\"],[1.0,\"#f0f921\"]]}],\"surface\":[{\"type\":\"surface\",\"colorbar\":{\"outlinewidth\":0,\"ticks\":\"\"},\"colorscale\":[[0.0,\"#0d0887\"],[0.1111111111111111,\"#46039f\"],[0.2222222222222222,\"#7201a8\"],[0.3333333333333333,\"#9c179e\"],[0.4444444444444444,\"#bd3786\"],[0.5555555555555556,\"#d8576b\"],[0.6666666666666666,\"#ed7953\"],[0.7777777777777778,\"#fb9f3a\"],[0.8888888888888888,\"#fdca26\"],[1.0,\"#f0f921\"]]}],\"mesh3d\":[{\"type\":\"mesh3d\",\"colorbar\":{\"outlinewidth\":0,\"ticks\":\"\"}}],\"scatter\":[{\"fillpattern\":{\"fillmode\":\"overlay\",\"size\":10,\"solidity\":0.2},\"type\":\"scatter\"}],\"parcoords\":[{\"type\":\"parcoords\",\"line\":{\"colorbar\":{\"outlinewidth\":0,\"ticks\":\"\"}}}],\"scatterpolargl\":[{\"type\":\"scatterpolargl\",\"marker\":{\"colorbar\":{\"outlinewidth\":0,\"ticks\":\"\"}}}],\"bar\":[{\"error_x\":{\"color\":\"#2a3f5f\"},\"error_y\":{\"color\":\"#2a3f5f\"},\"marker\":{\"line\":{\"color\":\"#E5ECF6\",\"width\":0.5},\"pattern\":{\"fillmode\":\"overlay\",\"size\":10,\"solidity\":0.2}},\"type\":\"bar\"}],\"scattergeo\":[{\"type\":\"scattergeo\",\"marker\":{\"colorbar\":{\"outlinewidth\":0,\"ticks\":\"\"}}}],\"scatterpolar\":[{\"type\":\"scatterpolar\",\"marker\":{\"colorbar\":{\"outlinewidth\":0,\"ticks\":\"\"}}}],\"histogram\":[{\"marker\":{\"pattern\":{\"fillmode\":\"overlay\",\"size\":10,\"solidity\":0.2}},\"type\":\"histogram\"}],\"scattergl\":[{\"type\":\"scattergl\",\"marker\":{\"colorbar\":{\"outlinewidth\":0,\"ticks\":\"\"}}}],\"scatter3d\":[{\"type\":\"scatter3d\",\"line\":{\"colorbar\":{\"outlinewidth\":0,\"ticks\":\"\"}},\"marker\":{\"colorbar\":{\"outlinewidth\":0,\"ticks\":\"\"}}}],\"scattermapbox\":[{\"type\":\"scattermapbox\",\"marker\":{\"colorbar\":{\"outlinewidth\":0,\"ticks\":\"\"}}}],\"scatterternary\":[{\"type\":\"scatterternary\",\"marker\":{\"colorbar\":{\"outlinewidth\":0,\"ticks\":\"\"}}}],\"scattercarpet\":[{\"type\":\"scattercarpet\",\"marker\":{\"colorbar\":{\"outlinewidth\":0,\"ticks\":\"\"}}}],\"carpet\":[{\"aaxis\":{\"endlinecolor\":\"#2a3f5f\",\"gridcolor\":\"white\",\"linecolor\":\"white\",\"minorgridcolor\":\"white\",\"startlinecolor\":\"#2a3f5f\"},\"baxis\":{\"endlinecolor\":\"#2a3f5f\",\"gridcolor\":\"white\",\"linecolor\":\"white\",\"minorgridcolor\":\"white\",\"startlinecolor\":\"#2a3f5f\"},\"type\":\"carpet\"}],\"table\":[{\"cells\":{\"fill\":{\"color\":\"#EBF0F8\"},\"line\":{\"color\":\"white\"}},\"header\":{\"fill\":{\"color\":\"#C8D4E3\"},\"line\":{\"color\":\"white\"}},\"type\":\"table\"}],\"barpolar\":[{\"marker\":{\"line\":{\"color\":\"#E5ECF6\",\"width\":0.5},\"pattern\":{\"fillmode\":\"overlay\",\"size\":10,\"solidity\":0.2}},\"type\":\"barpolar\"}],\"pie\":[{\"automargin\":true,\"type\":\"pie\"}]},\"layout\":{\"autotypenumbers\":\"strict\",\"colorway\":[\"#636efa\",\"#EF553B\",\"#00cc96\",\"#ab63fa\",\"#FFA15A\",\"#19d3f3\",\"#FF6692\",\"#B6E880\",\"#FF97FF\",\"#FECB52\"],\"font\":{\"color\":\"#2a3f5f\"},\"hovermode\":\"closest\",\"hoverlabel\":{\"align\":\"left\"},\"paper_bgcolor\":\"white\",\"plot_bgcolor\":\"#E5ECF6\",\"polar\":{\"bgcolor\":\"#E5ECF6\",\"angularaxis\":{\"gridcolor\":\"white\",\"linecolor\":\"white\",\"ticks\":\"\"},\"radialaxis\":{\"gridcolor\":\"white\",\"linecolor\":\"white\",\"ticks\":\"\"}},\"ternary\":{\"bgcolor\":\"#E5ECF6\",\"aaxis\":{\"gridcolor\":\"white\",\"linecolor\":\"white\",\"ticks\":\"\"},\"baxis\":{\"gridcolor\":\"white\",\"linecolor\":\"white\",\"ticks\":\"\"},\"caxis\":{\"gridcolor\":\"white\",\"linecolor\":\"white\",\"ticks\":\"\"}},\"coloraxis\":{\"colorbar\":{\"outlinewidth\":0,\"ticks\":\"\"}},\"colorscale\":{\"sequential\":[[0.0,\"#0d0887\"],[0.1111111111111111,\"#46039f\"],[0.2222222222222222,\"#7201a8\"],[0.3333333333333333,\"#9c179e\"],[0.4444444444444444,\"#bd3786\"],[0.5555555555555556,\"#d8576b\"],[0.6666666666666666,\"#ed7953\"],[0.7777777777777778,\"#fb9f3a\"],[0.8888888888888888,\"#fdca26\"],[1.0,\"#f0f921\"]],\"sequentialminus\":[[0.0,\"#0d0887\"],[0.1111111111111111,\"#46039f\"],[0.2222222222222222,\"#7201a8\"],[0.3333333333333333,\"#9c179e\"],[0.4444444444444444,\"#bd3786\"],[0.5555555555555556,\"#d8576b\"],[0.6666666666666666,\"#ed7953\"],[0.7777777777777778,\"#fb9f3a\"],[0.8888888888888888,\"#fdca26\"],[1.0,\"#f0f921\"]],\"diverging\":[[0,\"#8e0152\"],[0.1,\"#c51b7d\"],[0.2,\"#de77ae\"],[0.3,\"#f1b6da\"],[0.4,\"#fde0ef\"],[0.5,\"#f7f7f7\"],[0.6,\"#e6f5d0\"],[0.7,\"#b8e186\"],[0.8,\"#7fbc41\"],[0.9,\"#4d9221\"],[1,\"#276419\"]]},\"xaxis\":{\"gridcolor\":\"white\",\"linecolor\":\"white\",\"ticks\":\"\",\"title\":{\"standoff\":15},\"zerolinecolor\":\"white\",\"automargin\":true,\"zerolinewidth\":2},\"yaxis\":{\"gridcolor\":\"white\",\"linecolor\":\"white\",\"ticks\":\"\",\"title\":{\"standoff\":15},\"zerolinecolor\":\"white\",\"automargin\":true,\"zerolinewidth\":2},\"scene\":{\"xaxis\":{\"backgroundcolor\":\"#E5ECF6\",\"gridcolor\":\"white\",\"linecolor\":\"white\",\"showbackground\":true,\"ticks\":\"\",\"zerolinecolor\":\"white\",\"gridwidth\":2},\"yaxis\":{\"backgroundcolor\":\"#E5ECF6\",\"gridcolor\":\"white\",\"linecolor\":\"white\",\"showbackground\":true,\"ticks\":\"\",\"zerolinecolor\":\"white\",\"gridwidth\":2},\"zaxis\":{\"backgroundcolor\":\"#E5ECF6\",\"gridcolor\":\"white\",\"linecolor\":\"white\",\"showbackground\":true,\"ticks\":\"\",\"zerolinecolor\":\"white\",\"gridwidth\":2}},\"shapedefaults\":{\"line\":{\"color\":\"#2a3f5f\"}},\"annotationdefaults\":{\"arrowcolor\":\"#2a3f5f\",\"arrowhead\":0,\"arrowwidth\":1},\"geo\":{\"bgcolor\":\"white\",\"landcolor\":\"#E5ECF6\",\"subunitcolor\":\"white\",\"showland\":true,\"showlakes\":true,\"lakecolor\":\"white\"},\"title\":{\"x\":0.05},\"mapbox\":{\"style\":\"light\"}}},\"xaxis\":{\"anchor\":\"y\",\"domain\":[0.0,1.0],\"title\":{\"text\":\"Emotions\"}},\"yaxis\":{\"anchor\":\"x\",\"domain\":[0.0,1.0],\"title\":{\"text\":\"Number of Images\"}},\"coloraxis\":{\"colorbar\":{\"title\":{\"text\":\"color\"}},\"colorscale\":[[0.0,\"rgb(211, 242, 163)\"],[0.16666666666666666,\"rgb(151, 225, 150)\"],[0.3333333333333333,\"rgb(108, 192, 139)\"],[0.5,\"rgb(76, 155, 130)\"],[0.6666666666666666,\"rgb(33, 122, 121)\"],[0.8333333333333334,\"rgb(16, 89, 101)\"],[1.0,\"rgb(7, 64, 80)\"]]},\"legend\":{\"tracegroupgap\":0},\"margin\":{\"t\":60},\"barmode\":\"relative\",\"title\":{\"text\":\"Train Data Distribution \",\"y\":0.95,\"x\":0.5,\"xanchor\":\"center\",\"yanchor\":\"top\"},\"showlegend\":true},                        {\"responsive\": true}                    ).then(function(){\n",
              "                            \n",
              "var gd = document.getElementById('9e5c5393-9017-4058-b0ec-cf7fc77884b8');\n",
              "var x = new MutationObserver(function (mutations, observer) {{\n",
              "        var display = window.getComputedStyle(gd).display;\n",
              "        if (!display || display === 'none') {{\n",
              "            console.log([gd, 'removed!']);\n",
              "            Plotly.purge(gd);\n",
              "            observer.disconnect();\n",
              "        }}\n",
              "}});\n",
              "\n",
              "// Listen for the removal of the full notebook cells\n",
              "var notebookContainer = gd.closest('#notebook-container');\n",
              "if (notebookContainer) {{\n",
              "    x.observe(notebookContainer, {childList: true});\n",
              "}}\n",
              "\n",
              "// Listen for the clearing of the current output cell\n",
              "var outputEl = gd.closest('.output');\n",
              "if (outputEl) {{\n",
              "    x.observe(outputEl, {childList: true});\n",
              "}}\n",
              "\n",
              "                        })                };                            </script>        </div>\n",
              "</body>\n",
              "</html>"
            ]
          },
          "metadata": {}
        }
      ],
      "source": [
        "CLASS_LABELS  = ['Colere', 'Degout', 'Peur', 'Joie', 'Neutre', 'Triste', \"Surpris(e)\"]\n",
        "fig = px.bar(x = CLASS_LABELS,\n",
        "             y = [list(df['emotion']).count(i) for i in np.unique(df['emotion'])] ,\n",
        "             color = np.unique(df['emotion']) ,\n",
        "             color_continuous_scale=\"Emrld\")\n",
        "fig.update_xaxes(title=\"Emotions\")\n",
        "fig.update_yaxes(title = \"Number of Images\")\n",
        "fig.update_layout(showlegend = True,\n",
        "    title = {\n",
        "        'text': 'Train Data Distribution ',\n",
        "        'y':0.95,\n",
        "        'x':0.5,\n",
        "        'xanchor': 'center',\n",
        "        'yanchor': 'top'})\n",
        "fig.show()"
      ],
      "id": "d3f278be"
    },
    {
      "cell_type": "code",
      "execution_count": 11,
      "metadata": {
        "id": "qMypM-_elgLJ"
      },
      "outputs": [],
      "source": [
        "import cv2\n",
        "image_size=(48,48)"
      ],
      "id": "qMypM-_elgLJ"
    },
    {
      "cell_type": "code",
      "execution_count": 12,
      "metadata": {
        "id": "SnEeuo9ylk0t"
      },
      "outputs": [],
      "source": [
        "pixels = df['pixels'].tolist() # Converting the relevant column element into a list for each row\n",
        "width, height = 48, 48\n",
        "faces = []\n",
        "\n",
        "for pixel_sequence in pixels:\n",
        "  face = [int(pixel) for pixel in pixel_sequence.split(' ')] # Splitting the string by space character as a list\n",
        "  face = np.asarray(face).reshape(width, height) #converting the list to numpy array in size of 48*48\n",
        "  face = cv2.resize(face.astype('uint8'),image_size) #resize the image to have 48 cols (width) and 48 rows (height)\n",
        "  faces.append(face.astype('float32')) #makes the list of each images of 48*48 and their pixels in numpyarray form\n",
        "\n",
        "faces = np.asarray(faces) #converting the list into numpy array\n",
        "faces = np.expand_dims(faces, -1) #Expand the shape of an array -1=last dimension => means color space\n",
        "emotions = pd.get_dummies(df['emotion']).to_numpy() #doing the one hot encoding type on emotions"
      ],
      "id": "SnEeuo9ylk0t"
    },
    {
      "cell_type": "code",
      "execution_count": 13,
      "metadata": {
        "id": "1hCh0dIEnml0",
        "colab": {
          "base_uri": "https://localhost:8080/"
        },
        "outputId": "10da1901-7b0e-4e94-c961-67b0f1ca8c11"
      },
      "outputs": [
        {
          "output_type": "stream",
          "name": "stdout",
          "text": [
            "[[[ 70.]\n",
            "  [ 80.]\n",
            "  [ 82.]\n",
            "  ...\n",
            "  [ 52.]\n",
            "  [ 43.]\n",
            "  [ 41.]]\n",
            "\n",
            " [[ 65.]\n",
            "  [ 61.]\n",
            "  [ 58.]\n",
            "  ...\n",
            "  [ 56.]\n",
            "  [ 52.]\n",
            "  [ 44.]]\n",
            "\n",
            " [[ 50.]\n",
            "  [ 43.]\n",
            "  [ 54.]\n",
            "  ...\n",
            "  [ 49.]\n",
            "  [ 56.]\n",
            "  [ 47.]]\n",
            "\n",
            " ...\n",
            "\n",
            " [[ 91.]\n",
            "  [ 65.]\n",
            "  [ 42.]\n",
            "  ...\n",
            "  [ 72.]\n",
            "  [ 56.]\n",
            "  [ 43.]]\n",
            "\n",
            " [[ 77.]\n",
            "  [ 82.]\n",
            "  [ 79.]\n",
            "  ...\n",
            "  [105.]\n",
            "  [ 70.]\n",
            "  [ 46.]]\n",
            "\n",
            " [[ 77.]\n",
            "  [ 72.]\n",
            "  [ 84.]\n",
            "  ...\n",
            "  [106.]\n",
            "  [109.]\n",
            "  [ 82.]]]\n"
          ]
        }
      ],
      "source": [
        "print(faces[0]) #Pixels after preprocessing"
      ],
      "id": "1hCh0dIEnml0"
    },
    {
      "cell_type": "code",
      "execution_count": 14,
      "metadata": {
        "id": "yNytyjTjpALJ",
        "colab": {
          "base_uri": "https://localhost:8080/"
        },
        "outputId": "e087c8d6-7919-44da-8dee-f6c7f861a0ef"
      },
      "outputs": [
        {
          "output_type": "stream",
          "name": "stdout",
          "text": [
            "(35887, 48, 48, 1)\n",
            "3\n",
            "<class 'numpy.ndarray'>\n"
          ]
        }
      ],
      "source": [
        "print(faces.shape)\n",
        "print(faces[0].ndim)\n",
        "print(type(faces))"
      ],
      "id": "yNytyjTjpALJ"
    },
    {
      "cell_type": "code",
      "execution_count": 15,
      "metadata": {
        "id": "E20V88repOF8",
        "colab": {
          "base_uri": "https://localhost:8080/"
        },
        "outputId": "122d109a-298e-4f2d-ecc2-ef132e8fe742"
      },
      "outputs": [
        {
          "output_type": "stream",
          "name": "stdout",
          "text": [
            "[1 0 0 0 0 0 0]\n"
          ]
        }
      ],
      "source": [
        "print(emotions[0]) #Emotion after preprocessing"
      ],
      "id": "E20V88repOF8"
    },
    {
      "cell_type": "markdown",
      "metadata": {
        "id": "NAo8JrjQpbdz"
      },
      "source": [
        "## Splitting the dataset\n",
        "# Scaling the pixels between -1 and 1"
      ],
      "id": "NAo8JrjQpbdz"
    },
    {
      "cell_type": "code",
      "execution_count": 16,
      "metadata": {
        "id": "6T3tNxAPpifV"
      },
      "outputs": [],
      "source": [
        "x = faces.astype('float32')\n",
        "x = x / 255.0 #Dividing the pixels by 255 for normalization  => range(0,1)\n",
        "\n",
        "# Scaling the pixels value in range(-1,1)\n",
        "x = x - 0.5\n",
        "x = x * 2.0"
      ],
      "id": "6T3tNxAPpifV"
    },
    {
      "cell_type": "code",
      "execution_count": 17,
      "metadata": {
        "id": "2lWCNTXOpqKU",
        "colab": {
          "base_uri": "https://localhost:8080/"
        },
        "outputId": "2b65fbdc-896b-4242-8a67-943a99202471"
      },
      "outputs": [
        {
          "output_type": "stream",
          "name": "stdout",
          "text": [
            "[[[-0.45098037]\n",
            "  [-0.372549  ]\n",
            "  [-0.35686272]\n",
            "  ...\n",
            "  [-0.5921569 ]\n",
            "  [-0.6627451 ]\n",
            "  [-0.6784314 ]]\n",
            "\n",
            " [[-0.49019605]\n",
            "  [-0.52156866]\n",
            "  [-0.54509807]\n",
            "  ...\n",
            "  [-0.56078434]\n",
            "  [-0.5921569 ]\n",
            "  [-0.654902  ]]\n",
            "\n",
            " [[-0.60784316]\n",
            "  [-0.6627451 ]\n",
            "  [-0.5764706 ]\n",
            "  ...\n",
            "  [-0.6156863 ]\n",
            "  [-0.56078434]\n",
            "  [-0.6313726 ]]\n",
            "\n",
            " ...\n",
            "\n",
            " [[-0.2862745 ]\n",
            "  [-0.49019605]\n",
            "  [-0.67058825]\n",
            "  ...\n",
            "  [-0.4352941 ]\n",
            "  [-0.56078434]\n",
            "  [-0.6627451 ]]\n",
            "\n",
            " [[-0.3960784 ]\n",
            "  [-0.35686272]\n",
            "  [-0.38039213]\n",
            "  ...\n",
            "  [-0.17647058]\n",
            "  [-0.45098037]\n",
            "  [-0.6392157 ]]\n",
            "\n",
            " [[-0.3960784 ]\n",
            "  [-0.4352941 ]\n",
            "  [-0.34117645]\n",
            "  ...\n",
            "  [-0.16862744]\n",
            "  [-0.14509803]\n",
            "  [-0.35686272]]]\n"
          ]
        }
      ],
      "source": [
        "print(x[0])"
      ],
      "id": "2lWCNTXOpqKU"
    },
    {
      "cell_type": "code",
      "execution_count": 18,
      "metadata": {
        "id": "zAtFvN97p1VZ",
        "colab": {
          "base_uri": "https://localhost:8080/"
        },
        "outputId": "f7ee98e7-76cb-4c48-94b6-b1cbde2e6cd1"
      },
      "outputs": [
        {
          "output_type": "execute_result",
          "data": {
            "text/plain": [
              "numpy.ndarray"
            ]
          },
          "metadata": {},
          "execution_count": 18
        }
      ],
      "source": [
        "type(x)"
      ],
      "id": "zAtFvN97p1VZ"
    },
    {
      "cell_type": "code",
      "execution_count": 19,
      "metadata": {
        "id": "_8-hpnqpp5Td",
        "colab": {
          "base_uri": "https://localhost:8080/",
          "height": 435
        },
        "outputId": "874e469f-3d74-4345-c4f0-f1f6a2263fb2"
      },
      "outputs": [
        {
          "output_type": "display_data",
          "data": {
            "text/plain": [
              "<Figure size 640x480 with 1 Axes>"
            ],
            "image/png": "[encoded data removed]"
          },
          "metadata": {}
        }
      ],
      "source": [
        "plt.plot(x[0,0])\n",
        "plt.show()"
      ],
      "id": "_8-hpnqpp5Td"
    },
    {
      "cell_type": "code",
      "execution_count": 20,
      "metadata": {
        "id": "Qxwjhcvkp-Tg",
        "colab": {
          "base_uri": "https://localhost:8080/"
        },
        "outputId": "0071bdb5-50f3-46b3-81c2-488c21bf7c91"
      },
      "outputs": [
        {
          "output_type": "stream",
          "name": "stdout",
          "text": [
            "-1.0 1.0\n"
          ]
        }
      ],
      "source": [
        "print(x.min(),x.max()) # we can observe that pixels are scale"
      ],
      "id": "Qxwjhcvkp-Tg"
    },
    {
      "cell_type": "markdown",
      "source": [
        "**Fractionner le jeu de données dans le jeu d'entraînement et de validation**"
      ],
      "metadata": {
        "id": "wnhKvmvbFbD6"
      },
      "id": "wnhKvmvbFbD6"
    },
    {
      "cell_type": "code",
      "execution_count": 21,
      "metadata": {
        "id": "l_QoF5n0qN6H"
      },
      "outputs": [],
      "source": [
        "num_samples, num_classes = emotions.shape\n",
        "\n",
        "num_samples = len(x)\n",
        "num_train_samples = int((1 - 0.2)*num_samples)\n",
        "\n",
        "# Traning data\n",
        "train_x = x[:num_train_samples]\n",
        "train_y = emotions[:num_train_samples]\n",
        "\n",
        "# Validation data\n",
        "val_x = x[num_train_samples:]\n",
        "val_y = emotions[num_train_samples:]\n",
        "\n",
        "train_data = (train_x, train_y)\n",
        "val_data = (val_x, val_y)"
      ],
      "id": "l_QoF5n0qN6H"
    },
    {
      "cell_type": "code",
      "execution_count": 22,
      "metadata": {
        "id": "Ibp54hK9qRpZ",
        "colab": {
          "base_uri": "https://localhost:8080/"
        },
        "outputId": "f6079d39-68c2-4a77-8931-1cc48270f7bc"
      },
      "outputs": [
        {
          "output_type": "stream",
          "name": "stdout",
          "text": [
            "Training Pixels (28709, 48, 48, 1)\n",
            "Training labels (28709, 7)\n",
            "Validation Pixels (7178, 48, 48, 1)\n",
            "Validation labels (7178, 7)\n"
          ]
        }
      ],
      "source": [
        "print('Training Pixels',train_x.shape)  # ==> 4 dims -  no of images , width , height , color\n",
        "print('Training labels',train_y.shape)\n",
        "\n",
        "print('Validation Pixels',val_x.shape)\n",
        "print('Validation labels',val_y.shape)"
      ],
      "id": "Ibp54hK9qRpZ"
    },
    {
      "cell_type": "markdown",
      "metadata": {
        "id": "1b6ff686"
      },
      "source": [
        "### Shuffling the data (Mélanger les données)\n",
        "\n",
        "Tout d'abord, nous allons mélanger les données à l'aide de la fonction sample () et déterminer la fraction comme 1 pour mélanger les données en modifiant les lignes."
      ],
      "id": "1b6ff686"
    },
    {
      "cell_type": "code",
      "execution_count": 23,
      "metadata": {
        "id": "e7b4b68a"
      },
      "outputs": [],
      "source": [
        "data=df.sample(frac=1)"
      ],
      "id": "e7b4b68a"
    },
    {
      "cell_type": "markdown",
      "metadata": {
        "id": "7198f7fa"
      },
      "source": [
        "### One Hot Encoding (Un encodage à chaud)\n",
        "\n",
        "Ensuite, nous effectuerons une opération d'encodage à chaud pour modifier les étiquettes catégorielles, car les étiquettes numériques de l'algorithme d'apprentissage peuvent mieux fonctionner dans le processus de prédiction."
      ],
      "id": "7198f7fa"
    },
    {
      "cell_type": "code",
      "execution_count": 24,
      "metadata": {
        "id": "e597815f"
      },
      "outputs": [],
      "source": [
        "labels = to_categorical(df[['emotion']], num_classes=7)"
      ],
      "id": "e597815f"
    },
    {
      "cell_type": "markdown",
      "metadata": {
        "id": "4d81fcca"
      },
      "source": [
        "\n",
        "Changer les pixels de l'image en tableau Numpy\n"
      ],
      "id": "4d81fcca"
    },
    {
      "cell_type": "code",
      "execution_count": 25,
      "metadata": {
        "id": "2afc568c"
      },
      "outputs": [],
      "source": [
        "train_pixels = df[\"pixels\"].astype(str).str.split(\" \").tolist()\n",
        "train_pixels = np.uint8(train_pixels)"
      ],
      "id": "2afc568c"
    },
    {
      "cell_type": "markdown",
      "metadata": {
        "id": "d533056f"
      },
      "source": [
        "### Standardisation\n",
        "\n",
        "Nous allons modifier la structure des données pour alimenter le scaler standard afin de mettre en œuvre le processus de normalisation de nos données. Étant donné que la fonction StandartScaler() ne prend qu'un tableau à 2 dimensions, nous allons remodeler les données, puis appliquer notre scaler pour faire de la moyenne zéro et de l'écart standard comme unité."
      ],
      "id": "d533056f"
    },
    {
      "cell_type": "code",
      "execution_count": 26,
      "metadata": {
        "id": "cf659624"
      },
      "outputs": [],
      "source": [
        "pixels = train_pixels.reshape((35887*2304,1))"
      ],
      "id": "cf659624"
    },
    {
      "cell_type": "code",
      "execution_count": 27,
      "metadata": {
        "id": "31a58e4e"
      },
      "outputs": [],
      "source": [
        "scaler = StandardScaler()\n",
        "pixels = scaler.fit_transform(pixels)"
      ],
      "id": "31a58e4e"
    },
    {
      "cell_type": "markdown",
      "metadata": {
        "id": "ef75d0fc"
      },
      "source": [
        "### Reshaping the data (48,48)\n",
        "\n",
        "Après cela, nous allons remodeler les données pour que nos pixels d'image soient prêts à être divisés."
      ],
      "id": "ef75d0fc"
    },
    {
      "cell_type": "code",
      "execution_count": 28,
      "metadata": {
        "id": "d7aec598"
      },
      "outputs": [],
      "source": [
        "pixels = train_pixels.reshape((35887, 48, 48,1))"
      ],
      "id": "d7aec598"
    },
    {
      "cell_type": "markdown",
      "metadata": {
        "id": "t79vPTodyx3N"
      },
      "source": [
        "## Former la division de validation des tests\n",
        "\n",
        "Maintenant, nous avons 35887 images contenant chacune 48x48 pixels. Nous diviserons les données en données d'apprentissage, de test et de validation pour alimenter, évaluer et valider nos données avec un ratio de 10 %."
      ],
      "id": "t79vPTodyx3N"
    },
    {
      "cell_type": "code",
      "execution_count": 29,
      "metadata": {
        "id": "FqpX6kpMzL4I"
      },
      "outputs": [],
      "source": [
        "X_train, X_test, y_train, y_test = train_test_split(pixels, labels, test_size=0.1, shuffle=False)\n",
        "X_train, X_val, y_train, y_val = train_test_split(X_train, y_train, test_size=0.1, shuffle=False)"
      ],
      "id": "FqpX6kpMzL4I"
    },
    {
      "cell_type": "code",
      "execution_count": 30,
      "metadata": {
        "id": "lnLFi8r8zWTE",
        "colab": {
          "base_uri": "https://localhost:8080/"
        },
        "outputId": "0b1a35fe-1485-4385-c554-c483383ed47d"
      },
      "outputs": [
        {
          "output_type": "stream",
          "name": "stdout",
          "text": [
            "(29068, 48, 48, 1)\n",
            "(3589, 48, 48, 1)\n",
            "(3230, 48, 48, 1)\n"
          ]
        }
      ],
      "source": [
        "print(X_train.shape)\n",
        "print(X_test.shape)\n",
        "print(X_val.shape)"
      ],
      "id": "lnLFi8r8zWTE"
    },
    {
      "cell_type": "markdown",
      "metadata": {
        "id": "t2YgbqQgzfc7"
      },
      "source": [
        "\n",
        "Nous pouvons voir des données d'entrainement contenant un échantillon de chaque classe à l'aide de ce code de tracé."
      ],
      "id": "t2YgbqQgzfc7"
    },
    {
      "cell_type": "code",
      "execution_count": 31,
      "metadata": {
        "id": "dCAL_9k9zhnK",
        "colab": {
          "base_uri": "https://localhost:8080/",
          "height": 201
        },
        "outputId": "8e93469b-4690-4335-b6af-28e2495ff37c"
      },
      "outputs": [
        {
          "output_type": "display_data",
          "data": {
            "text/plain": [
              "<Figure size 1500x2300 with 7 Axes>"
            ],
            "image/png": "[encoded data removed]"
          },
          "metadata": {}
        }
      ],
      "source": [
        "plt.figure(figsize=(15,23))\n",
        "label_dict = {0 : 'Colere', 1 : 'Degout', 2 : 'Peur', 3 : 'Joie', 4 : 'Triste', 5 : 'Surpris(e)', 6 : 'Neutre'}\n",
        "i = 1\n",
        "for i in range (7):\n",
        "    img = np.squeeze(X_train[i])\n",
        "    plt.subplot(1,7,i+1)\n",
        "    plt.imshow(img)\n",
        "    index = np.argmax(y_train[i])\n",
        "    plt.title(label_dict[index])\n",
        "    plt.axis('off')\n",
        "    i += 1\n",
        "plt.show()"
      ],
      "id": "dCAL_9k9zhnK"
    },
    {
      "cell_type": "markdown",
      "metadata": {
        "id": "Vz8Lv0M60nXC"
      },
      "source": [
        "## Augmentation des données à l'aide d'ImageDataGenerato\n",
        "\n",
        "Nous pouvons faire une augmentation des données pour avoir plus de données à former et valider notre modèle pour éviter le surajustement. L'augmentation des données peut être effectuée sur des ensembles de formation et de validation, car elle aide le modèle à devenir plus général et plus robuste."
      ],
      "id": "Vz8Lv0M60nXC"
    },
    {
      "cell_type": "code",
      "execution_count": 32,
      "metadata": {
        "id": "sXZtoh9_00Dl"
      },
      "outputs": [],
      "source": [
        "datagen = ImageDataGenerator(  width_shift_range = 0.1,\n",
        "                               height_shift_range = 0.1,\n",
        "                               horizontal_flip = True,\n",
        "                               zoom_range = 0.2)\n",
        "valgen = ImageDataGenerator(   width_shift_range = 0.1,\n",
        "                               height_shift_range = 0.1,\n",
        "                               horizontal_flip = True,\n",
        "                               zoom_range = 0.2)"
      ],
      "id": "sXZtoh9_00Dl"
    },
    {
      "cell_type": "code",
      "execution_count": 33,
      "metadata": {
        "id": "4eL8m9Jz0-CC"
      },
      "outputs": [],
      "source": [
        "datagen.fit(X_train)\n",
        "valgen.fit(X_val)"
      ],
      "id": "4eL8m9Jz0-CC"
    },
    {
      "cell_type": "code",
      "execution_count": 34,
      "metadata": {
        "id": "FdLkdSyd1EKi"
      },
      "outputs": [],
      "source": [
        "train_generator = datagen.flow(X_train, y_train, batch_size=64)\n",
        "val_generator = datagen.flow(X_val, y_val, batch_size=64)"
      ],
      "id": "FdLkdSyd1EKi"
    },
    {
      "cell_type": "markdown",
      "metadata": {
        "id": "x7XX9Rer1MSM"
      },
      "source": [
        "\n",
        "Notre jeu de données est prêt à alimenter notre modèle. Nous allons regarder notre architecture de modèle."
      ],
      "id": "x7XX9Rer1MSM"
    },
    {
      "cell_type": "markdown",
      "metadata": {
        "id": "GHlt9x-n1cn_"
      },
      "source": [
        "\n",
        "#Concevoir un modèle\n"
      ],
      "id": "GHlt9x-n1cn_"
    },
    {
      "cell_type": "markdown",
      "metadata": {
        "id": "zfQqrTld1fwf"
      },
      "source": [
        "## Modèle CNN\n",
        "\n",
        "Le modèle CNN comporte de nombreuses couches avec différentes unités telles que la couche convolutive, la couche de regroupement maximale, la normalisation par lots et la couche d'abandon pour régulariser le modèle."
      ],
      "id": "zfQqrTld1fwf"
    },
    {
      "cell_type": "code",
      "execution_count": 35,
      "metadata": {
        "id": "oYPXJj8N1thO",
        "colab": {
          "base_uri": "https://localhost:8080/",
          "height": 516
        },
        "outputId": "1139b657-1db6-40bc-cf22-e89469e5d82b"
      },
      "outputs": [
        {
          "output_type": "stream",
          "name": "stdout",
          "text": [
            "Requirement already satisfied: keras in /usr/local/lib/python3.10/dist-packages (2.14.0)\n",
            "Collecting keras\n",
            "  Downloading keras-3.0.1-py3-none-any.whl (999 kB)\n",
            "\u001b[2K     \u001b[90m━━━━━━━━━━━━━━━━━━━━━━━━━━━━━━━━━━━━━━━━\u001b[0m \u001b[32m999.1/999.1 kB\u001b[0m \u001b[31m7.0 MB/s\u001b[0m eta \u001b[36m0:00:00\u001b[0m\n",
            "\u001b[?25hRequirement already satisfied: absl-py in /usr/local/lib/python3.10/dist-packages (from keras) (1.4.0)\n",
            "Requirement already satisfied: numpy in /usr/local/lib/python3.10/dist-packages (from keras) (1.23.5)\n",
            "Requirement already satisfied: rich in /usr/local/lib/python3.10/dist-packages (from keras) (13.7.0)\n",
            "Collecting namex (from keras)\n",
            "  Downloading namex-0.0.7-py3-none-any.whl (5.8 kB)\n",
            "Requirement already satisfied: h5py in /usr/local/lib/python3.10/dist-packages (from keras) (3.9.0)\n",
            "Requirement already satisfied: dm-tree in /usr/local/lib/python3.10/dist-packages (from keras) (0.1.8)\n",
            "Requirement already satisfied: markdown-it-py>=2.2.0 in /usr/local/lib/python3.10/dist-packages (from rich->keras) (3.0.0)\n",
            "Requirement already satisfied: pygments<3.0.0,>=2.13.0 in /usr/local/lib/python3.10/dist-packages (from rich->keras) (2.16.1)\n",
            "Requirement already satisfied: mdurl~=0.1 in /usr/local/lib/python3.10/dist-packages (from markdown-it-py>=2.2.0->rich->keras) (0.1.2)\n",
            "Installing collected packages: namex, keras\n",
            "  Attempting uninstall: keras\n",
            "    Found existing installation: keras 2.14.0\n",
            "    Uninstalling keras-2.14.0:\n",
            "      Successfully uninstalled keras-2.14.0\n",
            "\u001b[31mERROR: pip's dependency resolver does not currently take into account all the packages that are installed. This behaviour is the source of the following dependency conflicts.\n",
            "tensorflow 2.14.0 requires keras<2.15,>=2.14.0, but you have keras 3.0.1 which is incompatible.\u001b[0m\u001b[31m\n",
            "\u001b[0mSuccessfully installed keras-3.0.1 namex-0.0.7\n"
          ]
        },
        {
          "output_type": "display_data",
          "data": {
            "application/vnd.colab-display-data+json": {
              "pip_warning": {
                "packages": [
                  "keras"
                ]
              }
            }
          },
          "metadata": {}
        }
      ],
      "source": [
        "!pip install --upgrade keras"
      ],
      "id": "oYPXJj8N1thO"
    },
    {
      "cell_type": "code",
      "execution_count": 36,
      "metadata": {
        "id": "fAr92MZL2jZH"
      },
      "outputs": [],
      "source": [
        "input_shape=(48, 48, 1)\n",
        "num_classes = 7"
      ],
      "id": "fAr92MZL2jZH"
    },
    {
      "cell_type": "code",
      "source": [
        "pip install --upgrade tensorflow"
      ],
      "metadata": {
        "colab": {
          "base_uri": "https://localhost:8080/",
          "height": 1000
        },
        "id": "xdCAvqXSJJgU",
        "outputId": "5bea4ca0-e8c0-4b0b-a6d5-35f56119f4ab"
      },
      "id": "xdCAvqXSJJgU",
      "execution_count": 44,
      "outputs": [
        {
          "output_type": "stream",
          "name": "stdout",
          "text": [
            "Requirement already satisfied: tensorflow in /usr/local/lib/python3.10/dist-packages (2.14.0)\n",
            "Collecting tensorflow\n",
            "  Downloading tensorflow-2.15.0.post1-cp310-cp310-manylinux_2_17_x86_64.manylinux2014_x86_64.whl (475.2 MB)\n",
            "\u001b[2K     \u001b[90m━━━━━━━━━━━━━━━━━━━━━━━━━━━━━━━━━━━━━━━━\u001b[0m \u001b[32m475.2/475.2 MB\u001b[0m \u001b[31m3.5 MB/s\u001b[0m eta \u001b[36m0:00:00\u001b[0m\n",
            "\u001b[?25hRequirement already satisfied: absl-py>=1.0.0 in /usr/local/lib/python3.10/dist-packages (from tensorflow) (1.4.0)\n",
            "Requirement already satisfied: astunparse>=1.6.0 in /usr/local/lib/python3.10/dist-packages (from tensorflow) (1.6.3)\n",
            "Requirement already satisfied: flatbuffers>=23.5.26 in /usr/local/lib/python3.10/dist-packages (from tensorflow) (23.5.26)\n",
            "Requirement already satisfied: gast!=0.5.0,!=0.5.1,!=0.5.2,>=0.2.1 in /usr/local/lib/python3.10/dist-packages (from tensorflow) (0.5.4)\n",
            "Requirement already satisfied: google-pasta>=0.1.1 in /usr/local/lib/python3.10/dist-packages (from tensorflow) (0.2.0)\n",
            "Requirement already satisfied: h5py>=2.9.0 in /usr/local/lib/python3.10/dist-packages (from tensorflow) (3.9.0)\n",
            "Requirement already satisfied: libclang>=13.0.0 in /usr/local/lib/python3.10/dist-packages (from tensorflow) (16.0.6)\n",
            "Requirement already satisfied: ml-dtypes~=0.2.0 in /usr/local/lib/python3.10/dist-packages (from tensorflow) (0.2.0)\n",
            "Requirement already satisfied: numpy<2.0.0,>=1.23.5 in /usr/local/lib/python3.10/dist-packages (from tensorflow) (1.23.5)\n",
            "Requirement already satisfied: opt-einsum>=2.3.2 in /usr/local/lib/python3.10/dist-packages (from tensorflow) (3.3.0)\n",
            "Requirement already satisfied: packaging in /usr/local/lib/python3.10/dist-packages (from tensorflow) (23.2)\n",
            "Requirement already satisfied: protobuf!=4.21.0,!=4.21.1,!=4.21.2,!=4.21.3,!=4.21.4,!=4.21.5,<5.0.0dev,>=3.20.3 in /usr/local/lib/python3.10/dist-packages (from tensorflow) (3.20.3)\n",
            "Requirement already satisfied: setuptools in /usr/local/lib/python3.10/dist-packages (from tensorflow) (67.7.2)\n",
            "Requirement already satisfied: six>=1.12.0 in /usr/local/lib/python3.10/dist-packages (from tensorflow) (1.16.0)\n",
            "Requirement already satisfied: termcolor>=1.1.0 in /usr/local/lib/python3.10/dist-packages (from tensorflow) (2.4.0)\n",
            "Requirement already satisfied: typing-extensions>=3.6.6 in /usr/local/lib/python3.10/dist-packages (from tensorflow) (4.5.0)\n",
            "Requirement already satisfied: wrapt<1.15,>=1.11.0 in /usr/local/lib/python3.10/dist-packages (from tensorflow) (1.14.1)\n",
            "Requirement already satisfied: tensorflow-io-gcs-filesystem>=0.23.1 in /usr/local/lib/python3.10/dist-packages (from tensorflow) (0.34.0)\n",
            "Requirement already satisfied: grpcio<2.0,>=1.24.3 in /usr/local/lib/python3.10/dist-packages (from tensorflow) (1.59.3)\n",
            "Collecting tensorboard<2.16,>=2.15 (from tensorflow)\n",
            "  Downloading tensorboard-2.15.1-py3-none-any.whl (5.5 MB)\n",
            "\u001b[2K     \u001b[90m━━━━━━━━━━━━━━━━━━━━━━━━━━━━━━━━━━━━━━━━\u001b[0m \u001b[32m5.5/5.5 MB\u001b[0m \u001b[31m37.4 MB/s\u001b[0m eta \u001b[36m0:00:00\u001b[0m\n",
            "\u001b[?25hCollecting tensorflow-estimator<2.16,>=2.15.0 (from tensorflow)\n",
            "  Downloading tensorflow_estimator-2.15.0-py2.py3-none-any.whl (441 kB)\n",
            "\u001b[2K     \u001b[90m━━━━━━━━━━━━━━━━━━━━━━━━━━━━━━━━━━━━━━━━\u001b[0m \u001b[32m442.0/442.0 kB\u001b[0m \u001b[31m46.8 MB/s\u001b[0m eta \u001b[36m0:00:00\u001b[0m\n",
            "\u001b[?25hCollecting keras<2.16,>=2.15.0 (from tensorflow)\n",
            "  Downloading keras-2.15.0-py3-none-any.whl (1.7 MB)\n",
            "\u001b[2K     \u001b[90m━━━━━━━━━━━━━━━━━━━━━━━━━━━━━━━━━━━━━━━━\u001b[0m \u001b[32m1.7/1.7 MB\u001b[0m \u001b[31m87.6 MB/s\u001b[0m eta \u001b[36m0:00:00\u001b[0m\n",
            "\u001b[?25hRequirement already satisfied: wheel<1.0,>=0.23.0 in /usr/local/lib/python3.10/dist-packages (from astunparse>=1.6.0->tensorflow) (0.42.0)\n",
            "Requirement already satisfied: google-auth<3,>=1.6.3 in /usr/local/lib/python3.10/dist-packages (from tensorboard<2.16,>=2.15->tensorflow) (2.17.3)\n",
            "Requirement already satisfied: google-auth-oauthlib<2,>=0.5 in /usr/local/lib/python3.10/dist-packages (from tensorboard<2.16,>=2.15->tensorflow) (1.0.0)\n",
            "Requirement already satisfied: markdown>=2.6.8 in /usr/local/lib/python3.10/dist-packages (from tensorboard<2.16,>=2.15->tensorflow) (3.5.1)\n",
            "Requirement already satisfied: requests<3,>=2.21.0 in /usr/local/lib/python3.10/dist-packages (from tensorboard<2.16,>=2.15->tensorflow) (2.31.0)\n",
            "Requirement already satisfied: tensorboard-data-server<0.8.0,>=0.7.0 in /usr/local/lib/python3.10/dist-packages (from tensorboard<2.16,>=2.15->tensorflow) (0.7.2)\n",
            "Requirement already satisfied: werkzeug>=1.0.1 in /usr/local/lib/python3.10/dist-packages (from tensorboard<2.16,>=2.15->tensorflow) (3.0.1)\n",
            "Requirement already satisfied: cachetools<6.0,>=2.0.0 in /usr/local/lib/python3.10/dist-packages (from google-auth<3,>=1.6.3->tensorboard<2.16,>=2.15->tensorflow) (5.3.2)\n",
            "Requirement already satisfied: pyasn1-modules>=0.2.1 in /usr/local/lib/python3.10/dist-packages (from google-auth<3,>=1.6.3->tensorboard<2.16,>=2.15->tensorflow) (0.3.0)\n",
            "Requirement already satisfied: rsa<5,>=3.1.4 in /usr/local/lib/python3.10/dist-packages (from google-auth<3,>=1.6.3->tensorboard<2.16,>=2.15->tensorflow) (4.9)\n",
            "Requirement already satisfied: requests-oauthlib>=0.7.0 in /usr/local/lib/python3.10/dist-packages (from google-auth-oauthlib<2,>=0.5->tensorboard<2.16,>=2.15->tensorflow) (1.3.1)\n",
            "Requirement already satisfied: charset-normalizer<4,>=2 in /usr/local/lib/python3.10/dist-packages (from requests<3,>=2.21.0->tensorboard<2.16,>=2.15->tensorflow) (3.3.2)\n",
            "Requirement already satisfied: idna<4,>=2.5 in /usr/local/lib/python3.10/dist-packages (from requests<3,>=2.21.0->tensorboard<2.16,>=2.15->tensorflow) (3.6)\n",
            "Requirement already satisfied: urllib3<3,>=1.21.1 in /usr/local/lib/python3.10/dist-packages (from requests<3,>=2.21.0->tensorboard<2.16,>=2.15->tensorflow) (2.0.7)\n",
            "Requirement already satisfied: certifi>=2017.4.17 in /usr/local/lib/python3.10/dist-packages (from requests<3,>=2.21.0->tensorboard<2.16,>=2.15->tensorflow) (2023.11.17)\n",
            "Requirement already satisfied: MarkupSafe>=2.1.1 in /usr/local/lib/python3.10/dist-packages (from werkzeug>=1.0.1->tensorboard<2.16,>=2.15->tensorflow) (2.1.3)\n",
            "Requirement already satisfied: pyasn1<0.6.0,>=0.4.6 in /usr/local/lib/python3.10/dist-packages (from pyasn1-modules>=0.2.1->google-auth<3,>=1.6.3->tensorboard<2.16,>=2.15->tensorflow) (0.5.1)\n",
            "Requirement already satisfied: oauthlib>=3.0.0 in /usr/local/lib/python3.10/dist-packages (from requests-oauthlib>=0.7.0->google-auth-oauthlib<2,>=0.5->tensorboard<2.16,>=2.15->tensorflow) (3.2.2)\n",
            "Installing collected packages: tensorflow-estimator, keras, tensorboard, tensorflow\n",
            "  Attempting uninstall: tensorflow-estimator\n",
            "    Found existing installation: tensorflow-estimator 2.14.0\n",
            "    Uninstalling tensorflow-estimator-2.14.0:\n",
            "      Successfully uninstalled tensorflow-estimator-2.14.0\n",
            "  Attempting uninstall: keras\n",
            "    Found existing installation: keras 3.0.1\n",
            "    Uninstalling keras-3.0.1:\n",
            "      Successfully uninstalled keras-3.0.1\n",
            "  Attempting uninstall: tensorboard\n",
            "    Found existing installation: tensorboard 2.14.1\n",
            "    Uninstalling tensorboard-2.14.1:\n",
            "      Successfully uninstalled tensorboard-2.14.1\n",
            "  Attempting uninstall: tensorflow\n",
            "    Found existing installation: tensorflow 2.14.0\n",
            "    Uninstalling tensorflow-2.14.0:\n",
            "      Successfully uninstalled tensorflow-2.14.0\n",
            "Successfully installed keras-2.15.0 tensorboard-2.15.1 tensorflow-2.15.0.post1 tensorflow-estimator-2.15.0\n"
          ]
        },
        {
          "output_type": "display_data",
          "data": {
            "application/vnd.colab-display-data+json": {
              "pip_warning": {
                "packages": [
                  "keras",
                  "tensorboard",
                  "tensorflow"
                ]
              }
            }
          },
          "metadata": {}
        }
      ]
    },
    {
      "cell_type": "code",
      "execution_count": 45,
      "metadata": {
        "id": "Q7ywx5c1f7S7"
      },
      "outputs": [],
      "source": [
        "from keras.layers import Activation, Convolution2D, Dropout, Conv2D\n",
        "from keras.layers import AveragePooling2D, BatchNormalization\n",
        "from keras.layers import GlobalAveragePooling2D\n",
        "from keras.models import Sequential\n",
        "from keras.layers import Flatten\n",
        "# from keras.utils.vis_utils import plot_model\n",
        "from keras.models import Model\n",
        "from keras.layers import Input\n",
        "from keras.layers import MaxPooling2D\n",
        "from keras.layers import SeparableConv2D\n",
        "from keras import layers\n",
        "from keras.regularizers import l2\n",
        "from tensorflow.keras.applications import MobileNet\n",
        "\n",
        "# base_model = MobileNet( weights = 'imagenet', input_shape = (224,224,3), include_top = False )\n",
        "\n",
        "# for layer in base_model.layers[:-10]:\n",
        "#     layer.trainable = False\n",
        "\n",
        "# for layer in base_model.layers[-10:]:\n",
        "#     layer.trainable = True\n",
        "\n",
        "\n",
        "# # Entrée pour les images\n",
        "# image_input = Input(shape=(48, 48, 1), name='image_input')\n",
        "# z = Conv2D(32, (3, 3), activation='relu')(image_input)\n",
        "# z = MaxPooling2D((2, 2))(z)\n",
        "# # ... Ajoutez d'autres couches de votre modèle ici ...\n",
        "\n",
        "# # Entrée pour les étiquettes\n",
        "# label_input = Input(shape=(7,), name='label_input')\n",
        "\n",
        "# # Fusionnez les deux entrées\n",
        "# z = Flatten()(z)\n",
        "# combined = concatenate([z, label_input])\n",
        "\n",
        "# z = base_model.output\n",
        "# z = Conv2D(filters = 32, kernel_size = (1,1), strides = (1,1), activation = 'relu', padding = 'same')(z)\n",
        "\n",
        "# z = Conv2D(filters = 64, kernel_size = (3,3), activation = 'relu', padding = 'same')(z)\n",
        "\n",
        "# z = Conv2D(filters = 128, kernel_size = (3,3), activation = 'relu', padding = 'same')(z)\n",
        "\n",
        "# z = Conv2D(filters = 256, kernel_size = (3,3), activation = 'relu', padding = 'same')(z)\n",
        "\n",
        "# z = Conv2D(filters = 512, kernel_size = (3,3), activation = 'relu', padding = 'same')(z)\n",
        "\n",
        "# z = GlobalAveragePooling2D()(z)\n",
        "\n",
        "# z = Flatten()(z)\n",
        "\n",
        "# z = Dense(units = 256 , activation = 'relu' )(z)\n",
        "# z = Dropout(0.3)(z)\n",
        "\n",
        "# z = Dense(units = 512 , activation = 'relu' )(z)\n",
        "# z = Dropout(0.3)(z)\n",
        "\n",
        "# z = Dense(units=7 , activation = 'softmax' )(z)\n",
        "\n",
        "\n",
        "\n",
        "# # Couche de sortie\n",
        "# output = Dense(7, activation='softmax')(combined)\n",
        "\n",
        "# # Créez le modèle\n",
        "# model = Model(inputs=[image_input, label_input], outputs=output)\n",
        "\n",
        "\n",
        "def create_convolutional_model(classes):\n",
        "    model = Sequential()\n",
        "    model.add(Conv2D(32,kernel_size=(2,2),strides=(1,1),activation='relu',input_shape=(48,48,1)))\n",
        "    model.add(BatchNormalization())\n",
        "    model.add(MaxPooling2D(pool_size=(2,2),strides=(2,2)))\n",
        "    model.add(Dropout(0.25))\n",
        "\n",
        "    model.add(Conv2D(filters=64,kernel_size=(2,2),strides=(1,1),activation='relu'))\n",
        "    model.add(BatchNormalization())\n",
        "    model.add(MaxPooling2D(pool_size=(2,2),strides=(1,1)))\n",
        "    model.add(Dropout(0.25))\n",
        "\n",
        "\n",
        "    model.add(Conv2D(filters=128,kernel_size=(2,2),strides=(1,1),activation='relu'))\n",
        "    model.add(BatchNormalization())\n",
        "    model.add(MaxPooling2D(pool_size=(2,2),strides=(1,1)))\n",
        "    model.add(Dropout(0.25))\n",
        "\n",
        "    model.add(Conv2D(filters=256,kernel_size=(2,2),strides=(1,1),activation='relu'))\n",
        "    model.add(BatchNormalization())\n",
        "    model.add(MaxPooling2D(pool_size=(2,2),strides=(1,1)))\n",
        "    model.add(Dropout(0.25))\n",
        "\n",
        "    model.add(Flatten())\n",
        "\n",
        "    model.add(Dense(256,activation='relu'))\n",
        "    model.add(BatchNormalization())\n",
        "    model.add(Dropout(0.25))\n",
        "\n",
        "    model.add(Dense(512,activation='relu'))\n",
        "    model.add(BatchNormalization())\n",
        "    model.add(Dropout(0.25))\n",
        "\n",
        "    model.add(Dense(classes,activation='softmax'))\n",
        "\n",
        "\n",
        "    model.compile(optimizer='adam', loss='categorical_crossentropy', metrics=['accuracy'])\n",
        "\n",
        "    return model"
      ],
      "id": "Q7ywx5c1f7S7"
    },
    {
      "cell_type": "code",
      "source": [
        "hiddenimports=['tensorflow.python.keras.engine.base_layer_v1']\n",
        "classes=7\n",
        "model = create_convolutional_model(classes)\n",
        "model.summary()"
      ],
      "metadata": {
        "colab": {
          "base_uri": "https://localhost:8080/"
        },
        "id": "8j8jG9OXbgna",
        "outputId": "f1c32aeb-2b22-45b8-8fba-bf85671bf793"
      },
      "id": "8j8jG9OXbgna",
      "execution_count": 46,
      "outputs": [
        {
          "output_type": "stream",
          "name": "stdout",
          "text": [
            "Model: \"sequential\"\n",
            "_________________________________________________________________\n",
            " Layer (type)                Output Shape              Param #   \n",
            "=================================================================\n",
            " conv2d (Conv2D)             (None, 47, 47, 32)        160       \n",
            "                                                                 \n",
            " batch_normalization (Batch  (None, 47, 47, 32)        128       \n",
            " Normalization)                                                  \n",
            "                                                                 \n",
            " max_pooling2d (MaxPooling2  (None, 23, 23, 32)        0         \n",
            " D)                                                              \n",
            "                                                                 \n",
            " dropout (Dropout)           (None, 23, 23, 32)        0         \n",
            "                                                                 \n",
            " conv2d_1 (Conv2D)           (None, 22, 22, 64)        8256      \n",
            "                                                                 \n",
            " batch_normalization_1 (Bat  (None, 22, 22, 64)        256       \n",
            " chNormalization)                                                \n",
            "                                                                 \n",
            " max_pooling2d_1 (MaxPoolin  (None, 21, 21, 64)        0         \n",
            " g2D)                                                            \n",
            "                                                                 \n",
            " dropout_1 (Dropout)         (None, 21, 21, 64)        0         \n",
            "                                                                 \n",
            " conv2d_2 (Conv2D)           (None, 20, 20, 128)       32896     \n",
            "                                                                 \n",
            " batch_normalization_2 (Bat  (None, 20, 20, 128)       512       \n",
            " chNormalization)                                                \n",
            "                                                                 \n",
            " max_pooling2d_2 (MaxPoolin  (None, 19, 19, 128)       0         \n",
            " g2D)                                                            \n",
            "                                                                 \n",
            " dropout_2 (Dropout)         (None, 19, 19, 128)       0         \n",
            "                                                                 \n",
            " conv2d_3 (Conv2D)           (None, 18, 18, 256)       131328    \n",
            "                                                                 \n",
            " batch_normalization_3 (Bat  (None, 18, 18, 256)       1024      \n",
            " chNormalization)                                                \n",
            "                                                                 \n",
            " max_pooling2d_3 (MaxPoolin  (None, 17, 17, 256)       0         \n",
            " g2D)                                                            \n",
            "                                                                 \n",
            " dropout_3 (Dropout)         (None, 17, 17, 256)       0         \n",
            "                                                                 \n",
            " flatten (Flatten)           (None, 73984)             0         \n",
            "                                                                 \n",
            " dense (Dense)               (None, 256)               18940160  \n",
            "                                                                 \n",
            " batch_normalization_4 (Bat  (None, 256)               1024      \n",
            " chNormalization)                                                \n",
            "                                                                 \n",
            " dropout_4 (Dropout)         (None, 256)               0         \n",
            "                                                                 \n",
            " dense_1 (Dense)             (None, 512)               131584    \n",
            "                                                                 \n",
            " batch_normalization_5 (Bat  (None, 512)               2048      \n",
            " chNormalization)                                                \n",
            "                                                                 \n",
            " dropout_5 (Dropout)         (None, 512)               0         \n",
            "                                                                 \n",
            " dense_2 (Dense)             (None, 7)                 3591      \n",
            "                                                                 \n",
            "=================================================================\n",
            "Total params: 19252967 (73.44 MB)\n",
            "Trainable params: 19250471 (73.43 MB)\n",
            "Non-trainable params: 2496 (9.75 KB)\n",
            "_________________________________________________________________\n"
          ]
        }
      ]
    },
    {
      "cell_type": "code",
      "source": [
        "from keras.callbacks import CSVLogger, ModelCheckpoint, EarlyStopping\n",
        "from keras.callbacks import ModelCheckpoint, EarlyStopping, ReduceLROnPlateau"
      ],
      "metadata": {
        "id": "Mr3_bL-hGvkn"
      },
      "id": "Mr3_bL-hGvkn",
      "execution_count": 47,
      "outputs": []
    },
    {
      "cell_type": "code",
      "source": [
        "checkpoint = ModelCheckpoint(filepath=\"mobilenet_1_0_224_tf_no_top.h5\", monitor='val_accuracy', verbose=1, save_best_only=True, mode='max')\n",
        "\n",
        "early_stopping = EarlyStopping(monitor='val_accuracy',\n",
        "                          min_delta=0.01,\n",
        "                          patience=10,\n",
        "                          verbose=1,\n",
        "                          restore_best_weights=True\n",
        "                          )\n",
        "\n",
        "reduce_learningrate = ReduceLROnPlateau(monitor='val_loss',\n",
        "                              factor=0.2,\n",
        "                              patience=3,\n",
        "                              verbose=1,\n",
        "                              min_delta=0.0001)\n",
        "\n",
        "callbacks_list = [early_stopping,checkpoint,reduce_learningrate]"
      ],
      "metadata": {
        "id": "hmHPAg0RG4zG"
      },
      "id": "hmHPAg0RG4zG",
      "execution_count": 48,
      "outputs": []
    },
    {
      "cell_type": "code",
      "source": [
        "\"\"\" Data Augmentation => taking the batch and apply some series of random transformations (random rotation, resizing, shearing)\n",
        "\n",
        "      ===> to increase generalizability of model  \"\"\"\n",
        "\n",
        "\n",
        "# data generator Generate batches of tensor image data with real-time data augmentation\n",
        "data_generator = ImageDataGenerator(\n",
        "                        featurewise_center=False,\n",
        "                        featurewise_std_normalization=False,\n",
        "                        rotation_range=10,\n",
        "                        width_shift_range=0.1,\n",
        "                        height_shift_range=0.1,\n",
        "                        zoom_range=.1,\n",
        "                        horizontal_flip=True)"
      ],
      "metadata": {
        "id": "ufuZadGBO5od"
      },
      "id": "ufuZadGBO5od",
      "execution_count": 49,
      "outputs": []
    },
    {
      "cell_type": "code",
      "source": [
        "# parameters\n",
        "batch_size = 32 #Number of samples per gradient update\n",
        "num_epochs = 200 # Number of epochs to train the model.\n",
        "#input_shape = (64, 64, 1)\n",
        "verbose = 1 #per epohs  progress bar\n",
        "num_classes = 7\n",
        "patience = 50\n",
        "\n",
        "datasets = ['fer2013']\n",
        "num_epochs = 200\n",
        "base_path=\"/content\"\n",
        "for dataset_name in datasets:\n",
        "    print('Training dataset:', dataset_name)\n",
        "\n",
        "    #callbacks\n",
        "    log_file_path = dataset_name + '_emotion_training.log'\n",
        "\n",
        "    csv_logger = CSVLogger(log_file_path, append=False)\n",
        "    early_stop = EarlyStopping('val_loss', patience=patience)\n",
        "    reduce_lr = ReduceLROnPlateau('val_loss', factor=0.1,patience=int(patience/4), verbose=1)\n",
        "\n",
        "    trained_models_path = base_path + dataset_name + 'simple_cnn'\n",
        "    model_names = trained_models_path + '.{epoch:02d}-{val_loss:.2f}.hdf5'      # if error \"acc\" in 1 line ... don't confuse check entire block since fit() generates a inner loop\n",
        "    model_checkpoint = ModelCheckpoint(model_names, 'val_loss', verbose=1,save_best_only=True)\n",
        "    my_callbacks = [model_checkpoint, csv_logger, early_stop, reduce_lr]\n",
        "\n",
        "     # loading dataset\n",
        "    train_faces, train_emotions = train_data\n",
        "    history=model.fit_generator(data_generator.flow(train_faces, train_emotions,\n",
        "                                            batch_size),\n",
        "                        epochs=num_epochs, verbose=1\n",
        "                        ,callbacks=my_callbacks,validation_data =val_data)   #not callbacks = [my_callbacks] since we m\n",
        "\n",
        "#    model.fit(X_train, y_train, batch_size=105, epochs=30, verbose=1)"
      ],
      "metadata": {
        "colab": {
          "base_uri": "https://localhost:8080/"
        },
        "id": "LMuCc_1YPjjK",
        "outputId": "37f5551c-a945-4d4f-cf6f-0ac7b285535b"
      },
      "id": "LMuCc_1YPjjK",
      "execution_count": 50,
      "outputs": [
        {
          "output_type": "stream",
          "name": "stdout",
          "text": [
            "Training dataset: fer2013\n",
            "Epoch 1/200\n"
          ]
        },
        {
          "output_type": "stream",
          "name": "stderr",
          "text": [
            "WARNING:tensorflow:AutoGraph could not transform <function Model.make_train_function.<locals>.train_function at 0x7fad4a63cf70> and will run it as-is.\n",
            "Please report this to the TensorFlow team. When filing the bug, set the verbosity to 10 (on Linux, `export AUTOGRAPH_VERBOSITY=10`) and attach the full output.\n",
            "Cause: closure mismatch, requested ('self', 'step_function'), but source function had ()\n",
            "To silence this warning, decorate the function with @tf.autograph.experimental.do_not_convert\n"
          ]
        },
        {
          "output_type": "stream",
          "name": "stdout",
          "text": [
            "WARNING: AutoGraph could not transform <function Model.make_train_function.<locals>.train_function at 0x7fad4a63cf70> and will run it as-is.\n",
            "Please report this to the TensorFlow team. When filing the bug, set the verbosity to 10 (on Linux, `export AUTOGRAPH_VERBOSITY=10`) and attach the full output.\n",
            "Cause: closure mismatch, requested ('self', 'step_function'), but source function had ()\n",
            "To silence this warning, decorate the function with @tf.autograph.experimental.do_not_convert\n",
            "897/898 [============================>.] - ETA: 0s - loss: 1.9183 - accuracy: 0.2850"
          ]
        },
        {
          "output_type": "stream",
          "name": "stderr",
          "text": [
            "WARNING:tensorflow:AutoGraph could not transform <function Model.make_test_function.<locals>.test_function at 0x7fae88fe1a20> and will run it as-is.\n",
            "Please report this to the TensorFlow team. When filing the bug, set the verbosity to 10 (on Linux, `export AUTOGRAPH_VERBOSITY=10`) and attach the full output.\n",
            "Cause: closure mismatch, requested ('self', 'step_function'), but source function had ()\n",
            "To silence this warning, decorate the function with @tf.autograph.experimental.do_not_convert\n"
          ]
        },
        {
          "output_type": "stream",
          "name": "stdout",
          "text": [
            "WARNING: AutoGraph could not transform <function Model.make_test_function.<locals>.test_function at 0x7fae88fe1a20> and will run it as-is.\n",
            "Please report this to the TensorFlow team. When filing the bug, set the verbosity to 10 (on Linux, `export AUTOGRAPH_VERBOSITY=10`) and attach the full output.\n",
            "Cause: closure mismatch, requested ('self', 'step_function'), but source function had ()\n",
            "To silence this warning, decorate the function with @tf.autograph.experimental.do_not_convert\n",
            "\n",
            "Epoch 1: val_loss improved from inf to 1.62151, saving model to /contentfer2013simple_cnn.01-1.62.hdf5\n",
            "898/898 [==============================] - 45s 31ms/step - loss: 1.9179 - accuracy: 0.2851 - val_loss: 1.6215 - val_accuracy: 0.4067 - lr: 0.0010\n",
            "Epoch 2/200\n",
            "897/898 [============================>.] - ETA: 0s - loss: 1.6117 - accuracy: 0.3752\n",
            "Epoch 2: val_loss improved from 1.62151 to 1.36663, saving model to /contentfer2013simple_cnn.02-1.37.hdf5\n",
            "898/898 [==============================] - 23s 25ms/step - loss: 1.6115 - accuracy: 0.3752 - val_loss: 1.3666 - val_accuracy: 0.4780 - lr: 0.0010\n",
            "Epoch 3/200\n",
            "897/898 [============================>.] - ETA: 0s - loss: 1.4696 - accuracy: 0.4325\n",
            "Epoch 3: val_loss improved from 1.36663 to 1.31567, saving model to /contentfer2013simple_cnn.03-1.32.hdf5\n",
            "898/898 [==============================] - 22s 25ms/step - loss: 1.4698 - accuracy: 0.4325 - val_loss: 1.3157 - val_accuracy: 0.5067 - lr: 0.0010\n",
            "Epoch 4/200\n",
            "896/898 [============================>.] - ETA: 0s - loss: 1.3935 - accuracy: 0.4647\n",
            "Epoch 4: val_loss improved from 1.31567 to 1.23739, saving model to /contentfer2013simple_cnn.04-1.24.hdf5\n",
            "898/898 [==============================] - 25s 28ms/step - loss: 1.3930 - accuracy: 0.4648 - val_loss: 1.2374 - val_accuracy: 0.5242 - lr: 0.0010\n",
            "Epoch 5/200\n",
            "897/898 [============================>.] - ETA: 0s - loss: 1.3420 - accuracy: 0.4869\n",
            "Epoch 5: val_loss improved from 1.23739 to 1.20603, saving model to /contentfer2013simple_cnn.05-1.21.hdf5\n",
            "898/898 [==============================] - 23s 25ms/step - loss: 1.3420 - accuracy: 0.4869 - val_loss: 1.2060 - val_accuracy: 0.5410 - lr: 0.0010\n",
            "Epoch 6/200\n",
            "897/898 [============================>.] - ETA: 0s - loss: 1.3065 - accuracy: 0.4997\n",
            "Epoch 6: val_loss did not improve from 1.20603\n",
            "898/898 [==============================] - 22s 25ms/step - loss: 1.3066 - accuracy: 0.4997 - val_loss: 1.2232 - val_accuracy: 0.5351 - lr: 0.0010\n",
            "Epoch 7/200\n",
            "897/898 [============================>.] - ETA: 0s - loss: 1.2775 - accuracy: 0.5079\n",
            "Epoch 7: val_loss improved from 1.20603 to 1.18256, saving model to /contentfer2013simple_cnn.07-1.18.hdf5\n",
            "898/898 [==============================] - 23s 26ms/step - loss: 1.2774 - accuracy: 0.5078 - val_loss: 1.1826 - val_accuracy: 0.5554 - lr: 0.0010\n",
            "Epoch 8/200\n",
            "896/898 [============================>.] - ETA: 0s - loss: 1.2551 - accuracy: 0.5224\n",
            "Epoch 8: val_loss improved from 1.18256 to 1.14454, saving model to /contentfer2013simple_cnn.08-1.14.hdf5\n",
            "898/898 [==============================] - 23s 26ms/step - loss: 1.2549 - accuracy: 0.5225 - val_loss: 1.1445 - val_accuracy: 0.5607 - lr: 0.0010\n",
            "Epoch 9/200\n",
            "898/898 [==============================] - ETA: 0s - loss: 1.2592 - accuracy: 0.5183\n",
            "Epoch 9: val_loss improved from 1.14454 to 1.11024, saving model to /contentfer2013simple_cnn.09-1.11.hdf5\n",
            "898/898 [==============================] - 23s 25ms/step - loss: 1.2592 - accuracy: 0.5183 - val_loss: 1.1102 - val_accuracy: 0.5808 - lr: 0.0010\n",
            "Epoch 10/200\n",
            "898/898 [==============================] - ETA: 0s - loss: 1.2136 - accuracy: 0.5398\n",
            "Epoch 10: val_loss did not improve from 1.11024\n",
            "898/898 [==============================] - 21s 23ms/step - loss: 1.2136 - accuracy: 0.5398 - val_loss: 1.1123 - val_accuracy: 0.5783 - lr: 0.0010\n",
            "Epoch 11/200\n",
            "896/898 [============================>.] - ETA: 0s - loss: 1.1970 - accuracy: 0.5444\n",
            "Epoch 11: val_loss improved from 1.11024 to 1.10917, saving model to /contentfer2013simple_cnn.11-1.11.hdf5\n",
            "898/898 [==============================] - 23s 26ms/step - loss: 1.1969 - accuracy: 0.5446 - val_loss: 1.1092 - val_accuracy: 0.5727 - lr: 0.0010\n",
            "Epoch 12/200\n",
            "896/898 [============================>.] - ETA: 0s - loss: 1.2050 - accuracy: 0.5460\n",
            "Epoch 12: val_loss improved from 1.10917 to 1.05726, saving model to /contentfer2013simple_cnn.12-1.06.hdf5\n",
            "898/898 [==============================] - 23s 25ms/step - loss: 1.2053 - accuracy: 0.5458 - val_loss: 1.0573 - val_accuracy: 0.5950 - lr: 0.0010\n",
            "Epoch 13/200\n",
            "897/898 [============================>.] - ETA: 0s - loss: 1.1786 - accuracy: 0.5511\n",
            "Epoch 13: val_loss did not improve from 1.05726\n",
            "898/898 [==============================] - 23s 26ms/step - loss: 1.1783 - accuracy: 0.5512 - val_loss: 1.1044 - val_accuracy: 0.5883 - lr: 0.0010\n",
            "Epoch 14/200\n",
            "898/898 [==============================] - ETA: 0s - loss: 1.1602 - accuracy: 0.5620\n",
            "Epoch 14: val_loss did not improve from 1.05726\n",
            "898/898 [==============================] - 22s 24ms/step - loss: 1.1602 - accuracy: 0.5620 - val_loss: 1.0773 - val_accuracy: 0.5970 - lr: 0.0010\n",
            "Epoch 15/200\n",
            "898/898 [==============================] - ETA: 0s - loss: 1.1552 - accuracy: 0.5625\n",
            "Epoch 15: val_loss improved from 1.05726 to 1.04594, saving model to /contentfer2013simple_cnn.15-1.05.hdf5\n",
            "898/898 [==============================] - 22s 25ms/step - loss: 1.1552 - accuracy: 0.5625 - val_loss: 1.0459 - val_accuracy: 0.6103 - lr: 0.0010\n",
            "Epoch 16/200\n",
            "896/898 [============================>.] - ETA: 0s - loss: 1.1352 - accuracy: 0.5685\n",
            "Epoch 16: val_loss did not improve from 1.04594\n",
            "898/898 [==============================] - 22s 25ms/step - loss: 1.1352 - accuracy: 0.5686 - val_loss: 1.1254 - val_accuracy: 0.5812 - lr: 0.0010\n",
            "Epoch 17/200\n",
            "898/898 [==============================] - ETA: 0s - loss: 1.1263 - accuracy: 0.5744\n",
            "Epoch 17: val_loss improved from 1.04594 to 1.02861, saving model to /contentfer2013simple_cnn.17-1.03.hdf5\n",
            "898/898 [==============================] - 23s 25ms/step - loss: 1.1263 - accuracy: 0.5744 - val_loss: 1.0286 - val_accuracy: 0.6155 - lr: 0.0010\n",
            "Epoch 18/200\n",
            "896/898 [============================>.] - ETA: 0s - loss: 1.1158 - accuracy: 0.5750\n",
            "Epoch 18: val_loss did not improve from 1.02861\n",
            "898/898 [==============================] - 22s 25ms/step - loss: 1.1159 - accuracy: 0.5750 - val_loss: 1.0309 - val_accuracy: 0.6131 - lr: 0.0010\n",
            "Epoch 19/200\n",
            "896/898 [============================>.] - ETA: 0s - loss: 1.1130 - accuracy: 0.5831\n",
            "Epoch 19: val_loss improved from 1.02861 to 1.02218, saving model to /contentfer2013simple_cnn.19-1.02.hdf5\n",
            "898/898 [==============================] - 22s 24ms/step - loss: 1.1128 - accuracy: 0.5831 - val_loss: 1.0222 - val_accuracy: 0.6134 - lr: 0.0010\n",
            "Epoch 20/200\n",
            "897/898 [============================>.] - ETA: 0s - loss: 1.1080 - accuracy: 0.5842\n",
            "Epoch 20: val_loss did not improve from 1.02218\n",
            "898/898 [==============================] - 25s 27ms/step - loss: 1.1081 - accuracy: 0.5842 - val_loss: 1.0293 - val_accuracy: 0.6140 - lr: 0.0010\n",
            "Epoch 21/200\n",
            "898/898 [==============================] - ETA: 0s - loss: 1.1151 - accuracy: 0.5795\n",
            "Epoch 21: val_loss did not improve from 1.02218\n",
            "898/898 [==============================] - 22s 25ms/step - loss: 1.1151 - accuracy: 0.5795 - val_loss: 1.0504 - val_accuracy: 0.6046 - lr: 0.0010\n",
            "Epoch 22/200\n",
            "898/898 [==============================] - ETA: 0s - loss: 1.0907 - accuracy: 0.5877\n",
            "Epoch 22: val_loss improved from 1.02218 to 1.00576, saving model to /contentfer2013simple_cnn.22-1.01.hdf5\n",
            "898/898 [==============================] - 23s 25ms/step - loss: 1.0907 - accuracy: 0.5877 - val_loss: 1.0058 - val_accuracy: 0.6252 - lr: 0.0010\n",
            "Epoch 23/200\n",
            "897/898 [============================>.] - ETA: 0s - loss: 1.0734 - accuracy: 0.5946\n",
            "Epoch 23: val_loss did not improve from 1.00576\n",
            "898/898 [==============================] - 23s 25ms/step - loss: 1.0733 - accuracy: 0.5946 - val_loss: 1.0090 - val_accuracy: 0.6169 - lr: 0.0010\n",
            "Epoch 24/200\n",
            "897/898 [============================>.] - ETA: 0s - loss: 1.0696 - accuracy: 0.5936\n",
            "Epoch 24: val_loss did not improve from 1.00576\n",
            "898/898 [==============================] - 22s 25ms/step - loss: 1.0698 - accuracy: 0.5936 - val_loss: 1.0648 - val_accuracy: 0.6002 - lr: 0.0010\n",
            "Epoch 25/200\n",
            "897/898 [============================>.] - ETA: 0s - loss: 1.0904 - accuracy: 0.5860\n",
            "Epoch 25: val_loss improved from 1.00576 to 0.97891, saving model to /contentfer2013simple_cnn.25-0.98.hdf5\n",
            "898/898 [==============================] - 23s 25ms/step - loss: 1.0902 - accuracy: 0.5861 - val_loss: 0.9789 - val_accuracy: 0.6351 - lr: 0.0010\n",
            "Epoch 26/200\n",
            "897/898 [============================>.] - ETA: 0s - loss: 1.0726 - accuracy: 0.5942\n",
            "Epoch 26: val_loss did not improve from 0.97891\n",
            "898/898 [==============================] - 21s 24ms/step - loss: 1.0722 - accuracy: 0.5944 - val_loss: 0.9984 - val_accuracy: 0.6296 - lr: 0.0010\n",
            "Epoch 27/200\n",
            "897/898 [============================>.] - ETA: 0s - loss: 1.0487 - accuracy: 0.6068\n",
            "Epoch 27: val_loss did not improve from 0.97891\n",
            "898/898 [==============================] - 22s 25ms/step - loss: 1.0486 - accuracy: 0.6069 - val_loss: 0.9904 - val_accuracy: 0.6294 - lr: 0.0010\n",
            "Epoch 28/200\n",
            "897/898 [============================>.] - ETA: 0s - loss: 1.0465 - accuracy: 0.6079\n",
            "Epoch 28: val_loss did not improve from 0.97891\n",
            "898/898 [==============================] - 22s 25ms/step - loss: 1.0465 - accuracy: 0.6079 - val_loss: 0.9959 - val_accuracy: 0.6275 - lr: 0.0010\n",
            "Epoch 29/200\n",
            "896/898 [============================>.] - ETA: 0s - loss: 1.0529 - accuracy: 0.6032\n",
            "Epoch 29: val_loss improved from 0.97891 to 0.97559, saving model to /contentfer2013simple_cnn.29-0.98.hdf5\n",
            "898/898 [==============================] - 23s 26ms/step - loss: 1.0527 - accuracy: 0.6033 - val_loss: 0.9756 - val_accuracy: 0.6346 - lr: 0.0010\n",
            "Epoch 30/200\n",
            "896/898 [============================>.] - ETA: 0s - loss: 1.0723 - accuracy: 0.5939\n",
            "Epoch 30: val_loss improved from 0.97559 to 0.96995, saving model to /contentfer2013simple_cnn.30-0.97.hdf5\n",
            "898/898 [==============================] - 23s 26ms/step - loss: 1.0722 - accuracy: 0.5940 - val_loss: 0.9699 - val_accuracy: 0.6368 - lr: 0.0010\n",
            "Epoch 31/200\n",
            "896/898 [============================>.] - ETA: 0s - loss: 1.0239 - accuracy: 0.6151\n",
            "Epoch 31: val_loss did not improve from 0.96995\n",
            "898/898 [==============================] - 23s 25ms/step - loss: 1.0237 - accuracy: 0.6151 - val_loss: 0.9845 - val_accuracy: 0.6307 - lr: 0.0010\n",
            "Epoch 32/200\n",
            "897/898 [============================>.] - ETA: 0s - loss: 1.0171 - accuracy: 0.6163\n",
            "Epoch 32: val_loss improved from 0.96995 to 0.96878, saving model to /contentfer2013simple_cnn.32-0.97.hdf5\n",
            "898/898 [==============================] - 24s 26ms/step - loss: 1.0171 - accuracy: 0.6162 - val_loss: 0.9688 - val_accuracy: 0.6347 - lr: 0.0010\n",
            "Epoch 33/200\n",
            "898/898 [==============================] - ETA: 0s - loss: 1.0225 - accuracy: 0.6129\n",
            "Epoch 33: val_loss did not improve from 0.96878\n",
            "898/898 [==============================] - 23s 25ms/step - loss: 1.0225 - accuracy: 0.6129 - val_loss: 0.9897 - val_accuracy: 0.6300 - lr: 0.0010\n",
            "Epoch 34/200\n",
            "898/898 [==============================] - ETA: 0s - loss: 1.0207 - accuracy: 0.6138\n",
            "Epoch 34: val_loss did not improve from 0.96878\n",
            "898/898 [==============================] - 21s 24ms/step - loss: 1.0207 - accuracy: 0.6138 - val_loss: 0.9861 - val_accuracy: 0.6349 - lr: 0.0010\n",
            "Epoch 35/200\n",
            "897/898 [============================>.] - ETA: 0s - loss: 1.0076 - accuracy: 0.6221\n",
            "Epoch 35: val_loss improved from 0.96878 to 0.96790, saving model to /contentfer2013simple_cnn.35-0.97.hdf5\n",
            "898/898 [==============================] - 23s 26ms/step - loss: 1.0077 - accuracy: 0.6220 - val_loss: 0.9679 - val_accuracy: 0.6323 - lr: 0.0010\n",
            "Epoch 36/200\n",
            "898/898 [==============================] - ETA: 0s - loss: 1.0027 - accuracy: 0.6254\n",
            "Epoch 36: val_loss did not improve from 0.96790\n",
            "898/898 [==============================] - 22s 25ms/step - loss: 1.0027 - accuracy: 0.6254 - val_loss: 0.9710 - val_accuracy: 0.6431 - lr: 0.0010\n",
            "Epoch 37/200\n",
            "898/898 [==============================] - ETA: 0s - loss: 1.0492 - accuracy: 0.6044\n",
            "Epoch 37: val_loss improved from 0.96790 to 0.95809, saving model to /contentfer2013simple_cnn.37-0.96.hdf5\n",
            "898/898 [==============================] - 23s 26ms/step - loss: 1.0492 - accuracy: 0.6044 - val_loss: 0.9581 - val_accuracy: 0.6474 - lr: 0.0010\n",
            "Epoch 38/200\n",
            "897/898 [============================>.] - ETA: 0s - loss: 0.9890 - accuracy: 0.6263\n",
            "Epoch 38: val_loss did not improve from 0.95809\n",
            "898/898 [==============================] - 23s 25ms/step - loss: 0.9888 - accuracy: 0.6264 - val_loss: 0.9728 - val_accuracy: 0.6389 - lr: 0.0010\n",
            "Epoch 39/200\n",
            "898/898 [==============================] - ETA: 0s - loss: 1.0065 - accuracy: 0.6231\n",
            "Epoch 39: val_loss did not improve from 0.95809\n",
            "898/898 [==============================] - 21s 23ms/step - loss: 1.0065 - accuracy: 0.6231 - val_loss: 0.9856 - val_accuracy: 0.6379 - lr: 0.0010\n",
            "Epoch 40/200\n",
            "898/898 [==============================] - ETA: 0s - loss: 0.9844 - accuracy: 0.6264\n",
            "Epoch 40: val_loss did not improve from 0.95809\n",
            "898/898 [==============================] - 23s 25ms/step - loss: 0.9844 - accuracy: 0.6264 - val_loss: 0.9606 - val_accuracy: 0.6456 - lr: 0.0010\n",
            "Epoch 41/200\n",
            "896/898 [============================>.] - ETA: 0s - loss: 0.9810 - accuracy: 0.6309\n",
            "Epoch 41: val_loss did not improve from 0.95809\n",
            "898/898 [==============================] - 21s 24ms/step - loss: 0.9812 - accuracy: 0.6308 - val_loss: 0.9601 - val_accuracy: 0.6392 - lr: 0.0010\n",
            "Epoch 42/200\n",
            "896/898 [============================>.] - ETA: 0s - loss: 0.9688 - accuracy: 0.6366\n",
            "Epoch 42: val_loss did not improve from 0.95809\n",
            "898/898 [==============================] - 23s 25ms/step - loss: 0.9686 - accuracy: 0.6366 - val_loss: 0.9614 - val_accuracy: 0.6436 - lr: 0.0010\n",
            "Epoch 43/200\n",
            "897/898 [============================>.] - ETA: 0s - loss: 0.9711 - accuracy: 0.6379\n",
            "Epoch 43: val_loss did not improve from 0.95809\n",
            "898/898 [==============================] - 22s 24ms/step - loss: 0.9712 - accuracy: 0.6378 - val_loss: 0.9835 - val_accuracy: 0.6420 - lr: 0.0010\n",
            "Epoch 44/200\n",
            "896/898 [============================>.] - ETA: 0s - loss: 0.9743 - accuracy: 0.6333\n",
            "Epoch 44: val_loss improved from 0.95809 to 0.95307, saving model to /contentfer2013simple_cnn.44-0.95.hdf5\n",
            "898/898 [==============================] - 23s 26ms/step - loss: 0.9746 - accuracy: 0.6332 - val_loss: 0.9531 - val_accuracy: 0.6470 - lr: 0.0010\n",
            "Epoch 45/200\n",
            "898/898 [==============================] - ETA: 0s - loss: 0.9766 - accuracy: 0.6326\n",
            "Epoch 45: val_loss did not improve from 0.95307\n",
            "898/898 [==============================] - 23s 25ms/step - loss: 0.9766 - accuracy: 0.6326 - val_loss: 0.9570 - val_accuracy: 0.6413 - lr: 0.0010\n",
            "Epoch 46/200\n",
            "897/898 [============================>.] - ETA: 0s - loss: 0.9754 - accuracy: 0.6330\n",
            "Epoch 46: val_loss improved from 0.95307 to 0.95016, saving model to /contentfer2013simple_cnn.46-0.95.hdf5\n",
            "898/898 [==============================] - 23s 26ms/step - loss: 0.9754 - accuracy: 0.6329 - val_loss: 0.9502 - val_accuracy: 0.6452 - lr: 0.0010\n",
            "Epoch 47/200\n",
            "897/898 [============================>.] - ETA: 0s - loss: 0.9637 - accuracy: 0.6379\n",
            "Epoch 47: val_loss improved from 0.95016 to 0.93943, saving model to /contentfer2013simple_cnn.47-0.94.hdf5\n",
            "898/898 [==============================] - 23s 26ms/step - loss: 0.9636 - accuracy: 0.6380 - val_loss: 0.9394 - val_accuracy: 0.6498 - lr: 0.0010\n",
            "Epoch 48/200\n",
            "896/898 [============================>.] - ETA: 0s - loss: 0.9504 - accuracy: 0.6434\n",
            "Epoch 48: val_loss did not improve from 0.93943\n",
            "898/898 [==============================] - 23s 25ms/step - loss: 0.9504 - accuracy: 0.6433 - val_loss: 0.9404 - val_accuracy: 0.6477 - lr: 0.0010\n",
            "Epoch 49/200\n",
            "897/898 [============================>.] - ETA: 0s - loss: 0.9474 - accuracy: 0.6473\n",
            "Epoch 49: val_loss did not improve from 0.93943\n",
            "898/898 [==============================] - 22s 24ms/step - loss: 0.9472 - accuracy: 0.6473 - val_loss: 0.9712 - val_accuracy: 0.6424 - lr: 0.0010\n",
            "Epoch 50/200\n",
            "896/898 [============================>.] - ETA: 0s - loss: 0.9415 - accuracy: 0.6449\n",
            "Epoch 50: val_loss did not improve from 0.93943\n",
            "898/898 [==============================] - 23s 25ms/step - loss: 0.9417 - accuracy: 0.6449 - val_loss: 0.9611 - val_accuracy: 0.6493 - lr: 0.0010\n",
            "Epoch 51/200\n",
            "898/898 [==============================] - ETA: 0s - loss: 0.9409 - accuracy: 0.6481\n",
            "Epoch 51: val_loss did not improve from 0.93943\n",
            "898/898 [==============================] - 22s 25ms/step - loss: 0.9409 - accuracy: 0.6481 - val_loss: 0.9867 - val_accuracy: 0.6411 - lr: 0.0010\n",
            "Epoch 52/200\n",
            "896/898 [============================>.] - ETA: 0s - loss: 0.9432 - accuracy: 0.6476\n",
            "Epoch 52: val_loss did not improve from 0.93943\n",
            "898/898 [==============================] - 22s 25ms/step - loss: 0.9434 - accuracy: 0.6476 - val_loss: 0.9523 - val_accuracy: 0.6545 - lr: 0.0010\n",
            "Epoch 53/200\n",
            "896/898 [============================>.] - ETA: 0s - loss: 0.9365 - accuracy: 0.6465\n",
            "Epoch 53: val_loss did not improve from 0.93943\n",
            "898/898 [==============================] - 21s 24ms/step - loss: 0.9362 - accuracy: 0.6466 - val_loss: 0.9447 - val_accuracy: 0.6539 - lr: 0.0010\n",
            "Epoch 54/200\n",
            "898/898 [==============================] - ETA: 0s - loss: 0.9399 - accuracy: 0.6490\n",
            "Epoch 54: val_loss did not improve from 0.93943\n",
            "898/898 [==============================] - 22s 25ms/step - loss: 0.9399 - accuracy: 0.6490 - val_loss: 0.9538 - val_accuracy: 0.6548 - lr: 0.0010\n",
            "Epoch 55/200\n",
            "896/898 [============================>.] - ETA: 0s - loss: 0.9355 - accuracy: 0.6483\n",
            "Epoch 55: val_loss did not improve from 0.93943\n",
            "898/898 [==============================] - 22s 25ms/step - loss: 0.9356 - accuracy: 0.6481 - val_loss: 0.9417 - val_accuracy: 0.6531 - lr: 0.0010\n",
            "Epoch 56/200\n",
            "897/898 [============================>.] - ETA: 0s - loss: 0.9319 - accuracy: 0.6520\n",
            "Epoch 56: val_loss improved from 0.93943 to 0.93784, saving model to /contentfer2013simple_cnn.56-0.94.hdf5\n",
            "898/898 [==============================] - 23s 26ms/step - loss: 0.9320 - accuracy: 0.6519 - val_loss: 0.9378 - val_accuracy: 0.6546 - lr: 0.0010\n",
            "Epoch 57/200\n",
            "898/898 [==============================] - ETA: 0s - loss: 0.9179 - accuracy: 0.6595\n",
            "Epoch 57: val_loss did not improve from 0.93784\n",
            "898/898 [==============================] - 21s 24ms/step - loss: 0.9179 - accuracy: 0.6595 - val_loss: 0.9490 - val_accuracy: 0.6562 - lr: 0.0010\n",
            "Epoch 58/200\n",
            "897/898 [============================>.] - ETA: 0s - loss: 0.9183 - accuracy: 0.6574\n",
            "Epoch 58: val_loss did not improve from 0.93784\n",
            "898/898 [==============================] - 23s 25ms/step - loss: 0.9181 - accuracy: 0.6574 - val_loss: 0.9424 - val_accuracy: 0.6577 - lr: 0.0010\n",
            "Epoch 59/200\n",
            "897/898 [============================>.] - ETA: 0s - loss: 0.9237 - accuracy: 0.6550\n",
            "Epoch 59: val_loss did not improve from 0.93784\n",
            "898/898 [==============================] - 21s 24ms/step - loss: 0.9236 - accuracy: 0.6551 - val_loss: 0.9657 - val_accuracy: 0.6558 - lr: 0.0010\n",
            "Epoch 60/200\n",
            "898/898 [==============================] - ETA: 0s - loss: 0.9203 - accuracy: 0.6572\n",
            "Epoch 60: val_loss did not improve from 0.93784\n",
            "898/898 [==============================] - 22s 25ms/step - loss: 0.9203 - accuracy: 0.6572 - val_loss: 0.9403 - val_accuracy: 0.6599 - lr: 0.0010\n",
            "Epoch 61/200\n",
            "897/898 [============================>.] - ETA: 0s - loss: 0.9081 - accuracy: 0.6583\n",
            "Epoch 61: val_loss did not improve from 0.93784\n",
            "898/898 [==============================] - 22s 25ms/step - loss: 0.9080 - accuracy: 0.6583 - val_loss: 0.9608 - val_accuracy: 0.6520 - lr: 0.0010\n",
            "Epoch 62/200\n",
            "896/898 [============================>.] - ETA: 0s - loss: 0.9250 - accuracy: 0.6546\n",
            "Epoch 62: val_loss improved from 0.93784 to 0.93293, saving model to /contentfer2013simple_cnn.62-0.93.hdf5\n",
            "898/898 [==============================] - 22s 25ms/step - loss: 0.9248 - accuracy: 0.6546 - val_loss: 0.9329 - val_accuracy: 0.6644 - lr: 0.0010\n",
            "Epoch 63/200\n",
            "896/898 [============================>.] - ETA: 0s - loss: 0.9161 - accuracy: 0.6561\n",
            "Epoch 63: val_loss did not improve from 0.93293\n",
            "898/898 [==============================] - 24s 26ms/step - loss: 0.9165 - accuracy: 0.6559 - val_loss: 0.9481 - val_accuracy: 0.6544 - lr: 0.0010\n",
            "Epoch 64/200\n",
            "897/898 [============================>.] - ETA: 0s - loss: 0.9089 - accuracy: 0.6594\n",
            "Epoch 64: val_loss did not improve from 0.93293\n",
            "898/898 [==============================] - 23s 25ms/step - loss: 0.9090 - accuracy: 0.6593 - val_loss: 1.0065 - val_accuracy: 0.6342 - lr: 0.0010\n",
            "Epoch 65/200\n",
            "897/898 [============================>.] - ETA: 0s - loss: 0.9090 - accuracy: 0.6629\n",
            "Epoch 65: val_loss improved from 0.93293 to 0.92551, saving model to /contentfer2013simple_cnn.65-0.93.hdf5\n",
            "898/898 [==============================] - 24s 27ms/step - loss: 0.9090 - accuracy: 0.6628 - val_loss: 0.9255 - val_accuracy: 0.6655 - lr: 0.0010\n",
            "Epoch 66/200\n",
            "896/898 [============================>.] - ETA: 0s - loss: 0.8897 - accuracy: 0.6627\n",
            "Epoch 66: val_loss did not improve from 0.92551\n",
            "898/898 [==============================] - 21s 23ms/step - loss: 0.8898 - accuracy: 0.6626 - val_loss: 0.9277 - val_accuracy: 0.6675 - lr: 0.0010\n",
            "Epoch 67/200\n",
            "898/898 [==============================] - ETA: 0s - loss: 0.8889 - accuracy: 0.6672\n",
            "Epoch 67: val_loss did not improve from 0.92551\n",
            "898/898 [==============================] - 23s 26ms/step - loss: 0.8889 - accuracy: 0.6672 - val_loss: 0.9322 - val_accuracy: 0.6631 - lr: 0.0010\n",
            "Epoch 68/200\n",
            "897/898 [============================>.] - ETA: 0s - loss: 0.8921 - accuracy: 0.6650\n",
            "Epoch 68: val_loss did not improve from 0.92551\n",
            "898/898 [==============================] - 21s 24ms/step - loss: 0.8923 - accuracy: 0.6650 - val_loss: 0.9337 - val_accuracy: 0.6623 - lr: 0.0010\n",
            "Epoch 69/200\n",
            "897/898 [============================>.] - ETA: 0s - loss: 0.9001 - accuracy: 0.6645\n",
            "Epoch 69: val_loss did not improve from 0.92551\n",
            "898/898 [==============================] - 22s 25ms/step - loss: 0.9000 - accuracy: 0.6645 - val_loss: 0.9435 - val_accuracy: 0.6634 - lr: 0.0010\n",
            "Epoch 70/200\n",
            "896/898 [============================>.] - ETA: 0s - loss: 0.8970 - accuracy: 0.6646\n",
            "Epoch 70: val_loss did not improve from 0.92551\n",
            "898/898 [==============================] - 21s 24ms/step - loss: 0.8972 - accuracy: 0.6644 - val_loss: 0.9451 - val_accuracy: 0.6539 - lr: 0.0010\n",
            "Epoch 71/200\n",
            "896/898 [============================>.] - ETA: 0s - loss: 0.8824 - accuracy: 0.6706\n",
            "Epoch 71: val_loss did not improve from 0.92551\n",
            "898/898 [==============================] - 22s 25ms/step - loss: 0.8823 - accuracy: 0.6706 - val_loss: 0.9543 - val_accuracy: 0.6548 - lr: 0.0010\n",
            "Epoch 72/200\n",
            "896/898 [============================>.] - ETA: 0s - loss: 0.8799 - accuracy: 0.6739\n",
            "Epoch 72: val_loss did not improve from 0.92551\n",
            "898/898 [==============================] - 21s 24ms/step - loss: 0.8794 - accuracy: 0.6740 - val_loss: 0.9537 - val_accuracy: 0.6567 - lr: 0.0010\n",
            "Epoch 73/200\n",
            "898/898 [==============================] - ETA: 0s - loss: 0.8889 - accuracy: 0.6718\n",
            "Epoch 73: val_loss did not improve from 0.92551\n",
            "898/898 [==============================] - 24s 26ms/step - loss: 0.8889 - accuracy: 0.6718 - val_loss: 0.9274 - val_accuracy: 0.6627 - lr: 0.0010\n",
            "Epoch 74/200\n",
            "896/898 [============================>.] - ETA: 0s - loss: 0.9231 - accuracy: 0.6586\n",
            "Epoch 74: val_loss did not improve from 0.92551\n",
            "898/898 [==============================] - 21s 24ms/step - loss: 0.9230 - accuracy: 0.6586 - val_loss: 0.9367 - val_accuracy: 0.6610 - lr: 0.0010\n",
            "Epoch 75/200\n",
            "897/898 [============================>.] - ETA: 0s - loss: 0.8835 - accuracy: 0.6705\n",
            "Epoch 75: val_loss did not improve from 0.92551\n",
            "898/898 [==============================] - 23s 26ms/step - loss: 0.8835 - accuracy: 0.6704 - val_loss: 0.9363 - val_accuracy: 0.6581 - lr: 0.0010\n",
            "Epoch 76/200\n",
            "897/898 [============================>.] - ETA: 0s - loss: 0.8748 - accuracy: 0.6755\n",
            "Epoch 76: val_loss did not improve from 0.92551\n",
            "898/898 [==============================] - 23s 26ms/step - loss: 0.8746 - accuracy: 0.6756 - val_loss: 0.9446 - val_accuracy: 0.6620 - lr: 0.0010\n",
            "Epoch 77/200\n",
            "897/898 [============================>.] - ETA: 0s - loss: 0.8651 - accuracy: 0.6774\n",
            "Epoch 77: val_loss did not improve from 0.92551\n",
            "\n",
            "Epoch 77: ReduceLROnPlateau reducing learning rate to 0.00010000000474974513.\n",
            "898/898 [==============================] - 23s 25ms/step - loss: 0.8650 - accuracy: 0.6774 - val_loss: 0.9309 - val_accuracy: 0.6594 - lr: 0.0010\n",
            "Epoch 78/200\n",
            "896/898 [============================>.] - ETA: 0s - loss: 0.8528 - accuracy: 0.6814\n",
            "Epoch 78: val_loss did not improve from 0.92551\n",
            "898/898 [==============================] - 22s 25ms/step - loss: 0.8524 - accuracy: 0.6815 - val_loss: 0.9272 - val_accuracy: 0.6649 - lr: 1.0000e-04\n",
            "Epoch 79/200\n",
            "898/898 [==============================] - ETA: 0s - loss: 0.8370 - accuracy: 0.6886\n",
            "Epoch 79: val_loss improved from 0.92551 to 0.92551, saving model to /contentfer2013simple_cnn.79-0.93.hdf5\n",
            "898/898 [==============================] - 28s 31ms/step - loss: 0.8370 - accuracy: 0.6886 - val_loss: 0.9255 - val_accuracy: 0.6675 - lr: 1.0000e-04\n",
            "Epoch 80/200\n",
            "898/898 [==============================] - ETA: 0s - loss: 0.8346 - accuracy: 0.6873\n",
            "Epoch 80: val_loss improved from 0.92551 to 0.92188, saving model to /contentfer2013simple_cnn.80-0.92.hdf5\n",
            "898/898 [==============================] - 24s 27ms/step - loss: 0.8346 - accuracy: 0.6873 - val_loss: 0.9219 - val_accuracy: 0.6680 - lr: 1.0000e-04\n",
            "Epoch 81/200\n",
            "897/898 [============================>.] - ETA: 0s - loss: 0.8333 - accuracy: 0.6891\n",
            "Epoch 81: val_loss did not improve from 0.92188\n",
            "898/898 [==============================] - 22s 25ms/step - loss: 0.8331 - accuracy: 0.6892 - val_loss: 0.9224 - val_accuracy: 0.6666 - lr: 1.0000e-04\n",
            "Epoch 82/200\n",
            "898/898 [==============================] - ETA: 0s - loss: 0.8269 - accuracy: 0.6937\n",
            "Epoch 82: val_loss did not improve from 0.92188\n",
            "898/898 [==============================] - 23s 26ms/step - loss: 0.8269 - accuracy: 0.6937 - val_loss: 0.9244 - val_accuracy: 0.6669 - lr: 1.0000e-04\n",
            "Epoch 83/200\n",
            "897/898 [============================>.] - ETA: 0s - loss: 0.8200 - accuracy: 0.6958\n",
            "Epoch 83: val_loss did not improve from 0.92188\n",
            "898/898 [==============================] - 23s 26ms/step - loss: 0.8199 - accuracy: 0.6959 - val_loss: 0.9252 - val_accuracy: 0.6656 - lr: 1.0000e-04\n",
            "Epoch 84/200\n",
            "897/898 [============================>.] - ETA: 0s - loss: 0.8211 - accuracy: 0.6912\n",
            "Epoch 84: val_loss improved from 0.92188 to 0.91995, saving model to /contentfer2013simple_cnn.84-0.92.hdf5\n",
            "898/898 [==============================] - 26s 29ms/step - loss: 0.8211 - accuracy: 0.6913 - val_loss: 0.9199 - val_accuracy: 0.6677 - lr: 1.0000e-04\n",
            "Epoch 85/200\n",
            "897/898 [============================>.] - ETA: 0s - loss: 0.8178 - accuracy: 0.6976\n",
            "Epoch 85: val_loss improved from 0.91995 to 0.91645, saving model to /contentfer2013simple_cnn.85-0.92.hdf5\n",
            "898/898 [==============================] - 23s 26ms/step - loss: 0.8177 - accuracy: 0.6976 - val_loss: 0.9165 - val_accuracy: 0.6702 - lr: 1.0000e-04\n",
            "Epoch 86/200\n",
            "897/898 [============================>.] - ETA: 0s - loss: 0.8164 - accuracy: 0.6996\n",
            "Epoch 86: val_loss did not improve from 0.91645\n",
            "898/898 [==============================] - 23s 26ms/step - loss: 0.8164 - accuracy: 0.6996 - val_loss: 0.9206 - val_accuracy: 0.6714 - lr: 1.0000e-04\n",
            "Epoch 87/200\n",
            "898/898 [==============================] - ETA: 0s - loss: 0.8188 - accuracy: 0.6950\n",
            "Epoch 87: val_loss did not improve from 0.91645\n",
            "898/898 [==============================] - 23s 26ms/step - loss: 0.8188 - accuracy: 0.6950 - val_loss: 0.9208 - val_accuracy: 0.6687 - lr: 1.0000e-04\n",
            "Epoch 88/200\n",
            "896/898 [============================>.] - ETA: 0s - loss: 0.8153 - accuracy: 0.6953\n",
            "Epoch 88: val_loss did not improve from 0.91645\n",
            "898/898 [==============================] - 23s 25ms/step - loss: 0.8156 - accuracy: 0.6953 - val_loss: 0.9199 - val_accuracy: 0.6704 - lr: 1.0000e-04\n",
            "Epoch 89/200\n",
            "898/898 [==============================] - ETA: 0s - loss: 0.8067 - accuracy: 0.6985\n",
            "Epoch 89: val_loss did not improve from 0.91645\n",
            "898/898 [==============================] - 24s 26ms/step - loss: 0.8067 - accuracy: 0.6985 - val_loss: 0.9200 - val_accuracy: 0.6688 - lr: 1.0000e-04\n",
            "Epoch 90/200\n",
            "896/898 [============================>.] - ETA: 0s - loss: 0.8040 - accuracy: 0.7004\n",
            "Epoch 90: val_loss did not improve from 0.91645\n",
            "898/898 [==============================] - 23s 26ms/step - loss: 0.8038 - accuracy: 0.7004 - val_loss: 0.9181 - val_accuracy: 0.6705 - lr: 1.0000e-04\n",
            "Epoch 91/200\n",
            "896/898 [============================>.] - ETA: 0s - loss: 0.8045 - accuracy: 0.7002\n",
            "Epoch 91: val_loss did not improve from 0.91645\n",
            "898/898 [==============================] - 25s 28ms/step - loss: 0.8046 - accuracy: 0.7002 - val_loss: 0.9180 - val_accuracy: 0.6719 - lr: 1.0000e-04\n",
            "Epoch 92/200\n",
            "898/898 [==============================] - ETA: 0s - loss: 0.8066 - accuracy: 0.7010\n",
            "Epoch 92: val_loss did not improve from 0.91645\n",
            "898/898 [==============================] - 23s 25ms/step - loss: 0.8066 - accuracy: 0.7010 - val_loss: 0.9170 - val_accuracy: 0.6700 - lr: 1.0000e-04\n",
            "Epoch 93/200\n",
            "897/898 [============================>.] - ETA: 0s - loss: 0.7981 - accuracy: 0.7019\n",
            "Epoch 93: val_loss did not improve from 0.91645\n",
            "898/898 [==============================] - 23s 25ms/step - loss: 0.7979 - accuracy: 0.7019 - val_loss: 0.9205 - val_accuracy: 0.6711 - lr: 1.0000e-04\n",
            "Epoch 94/200\n",
            "897/898 [============================>.] - ETA: 0s - loss: 0.8059 - accuracy: 0.6984\n",
            "Epoch 94: val_loss did not improve from 0.91645\n",
            "898/898 [==============================] - 23s 25ms/step - loss: 0.8058 - accuracy: 0.6985 - val_loss: 0.9180 - val_accuracy: 0.6702 - lr: 1.0000e-04\n",
            "Epoch 95/200\n",
            "898/898 [==============================] - ETA: 0s - loss: 0.8072 - accuracy: 0.6980\n",
            "Epoch 95: val_loss did not improve from 0.91645\n",
            "898/898 [==============================] - 22s 25ms/step - loss: 0.8072 - accuracy: 0.6980 - val_loss: 0.9168 - val_accuracy: 0.6747 - lr: 1.0000e-04\n",
            "Epoch 96/200\n",
            "898/898 [==============================] - ETA: 0s - loss: 0.8004 - accuracy: 0.7039\n",
            "Epoch 96: val_loss did not improve from 0.91645\n",
            "898/898 [==============================] - 23s 25ms/step - loss: 0.8004 - accuracy: 0.7039 - val_loss: 0.9196 - val_accuracy: 0.6736 - lr: 1.0000e-04\n",
            "Epoch 97/200\n",
            "897/898 [============================>.] - ETA: 0s - loss: 0.7957 - accuracy: 0.7030\n",
            "Epoch 97: val_loss did not improve from 0.91645\n",
            "\n",
            "Epoch 97: ReduceLROnPlateau reducing learning rate to 1.0000000474974514e-05.\n",
            "898/898 [==============================] - 22s 25ms/step - loss: 0.7959 - accuracy: 0.7030 - val_loss: 0.9214 - val_accuracy: 0.6721 - lr: 1.0000e-04\n",
            "Epoch 98/200\n",
            "897/898 [============================>.] - ETA: 0s - loss: 0.7955 - accuracy: 0.7055\n",
            "Epoch 98: val_loss did not improve from 0.91645\n",
            "898/898 [==============================] - 22s 25ms/step - loss: 0.7952 - accuracy: 0.7056 - val_loss: 0.9190 - val_accuracy: 0.6725 - lr: 1.0000e-05\n",
            "Epoch 99/200\n",
            "896/898 [============================>.] - ETA: 0s - loss: 0.7980 - accuracy: 0.7067\n",
            "Epoch 99: val_loss did not improve from 0.91645\n",
            "898/898 [==============================] - 23s 25ms/step - loss: 0.7981 - accuracy: 0.7066 - val_loss: 0.9187 - val_accuracy: 0.6718 - lr: 1.0000e-05\n",
            "Epoch 100/200\n",
            "896/898 [============================>.] - ETA: 0s - loss: 0.7992 - accuracy: 0.7021\n",
            "Epoch 100: val_loss did not improve from 0.91645\n",
            "898/898 [==============================] - 23s 25ms/step - loss: 0.7989 - accuracy: 0.7021 - val_loss: 0.9204 - val_accuracy: 0.6709 - lr: 1.0000e-05\n",
            "Epoch 101/200\n",
            "898/898 [==============================] - ETA: 0s - loss: 0.7976 - accuracy: 0.7051\n",
            "Epoch 101: val_loss did not improve from 0.91645\n",
            "898/898 [==============================] - 22s 24ms/step - loss: 0.7976 - accuracy: 0.7051 - val_loss: 0.9194 - val_accuracy: 0.6719 - lr: 1.0000e-05\n",
            "Epoch 102/200\n",
            "898/898 [==============================] - ETA: 0s - loss: 0.7926 - accuracy: 0.7027\n",
            "Epoch 102: val_loss did not improve from 0.91645\n",
            "898/898 [==============================] - 23s 26ms/step - loss: 0.7926 - accuracy: 0.7027 - val_loss: 0.9206 - val_accuracy: 0.6708 - lr: 1.0000e-05\n",
            "Epoch 103/200\n",
            "896/898 [============================>.] - ETA: 0s - loss: 0.7968 - accuracy: 0.7034\n",
            "Epoch 103: val_loss did not improve from 0.91645\n",
            "898/898 [==============================] - 23s 26ms/step - loss: 0.7973 - accuracy: 0.7032 - val_loss: 0.9188 - val_accuracy: 0.6722 - lr: 1.0000e-05\n",
            "Epoch 104/200\n",
            "897/898 [============================>.] - ETA: 0s - loss: 0.7945 - accuracy: 0.7049\n",
            "Epoch 104: val_loss did not improve from 0.91645\n",
            "898/898 [==============================] - 24s 27ms/step - loss: 0.7950 - accuracy: 0.7048 - val_loss: 0.9186 - val_accuracy: 0.6732 - lr: 1.0000e-05\n",
            "Epoch 105/200\n",
            "898/898 [==============================] - ETA: 0s - loss: 0.7947 - accuracy: 0.7049\n",
            "Epoch 105: val_loss did not improve from 0.91645\n",
            "898/898 [==============================] - 21s 24ms/step - loss: 0.7947 - accuracy: 0.7049 - val_loss: 0.9201 - val_accuracy: 0.6714 - lr: 1.0000e-05\n",
            "Epoch 106/200\n",
            "896/898 [============================>.] - ETA: 0s - loss: 0.7907 - accuracy: 0.7048\n",
            "Epoch 106: val_loss did not improve from 0.91645\n",
            "898/898 [==============================] - 23s 25ms/step - loss: 0.7906 - accuracy: 0.7049 - val_loss: 0.9200 - val_accuracy: 0.6722 - lr: 1.0000e-05\n",
            "Epoch 107/200\n",
            "898/898 [==============================] - ETA: 0s - loss: 0.7994 - accuracy: 0.7032\n",
            "Epoch 107: val_loss did not improve from 0.91645\n",
            "898/898 [==============================] - 22s 25ms/step - loss: 0.7994 - accuracy: 0.7032 - val_loss: 0.9206 - val_accuracy: 0.6728 - lr: 1.0000e-05\n",
            "Epoch 108/200\n",
            "898/898 [==============================] - ETA: 0s - loss: 0.7994 - accuracy: 0.7004\n",
            "Epoch 108: val_loss did not improve from 0.91645\n",
            "898/898 [==============================] - 21s 24ms/step - loss: 0.7994 - accuracy: 0.7004 - val_loss: 0.9186 - val_accuracy: 0.6723 - lr: 1.0000e-05\n",
            "Epoch 109/200\n",
            "896/898 [============================>.] - ETA: 0s - loss: 0.7969 - accuracy: 0.7038\n",
            "Epoch 109: val_loss did not improve from 0.91645\n",
            "\n",
            "Epoch 109: ReduceLROnPlateau reducing learning rate to 1.0000000656873453e-06.\n",
            "898/898 [==============================] - 24s 27ms/step - loss: 0.7969 - accuracy: 0.7037 - val_loss: 0.9222 - val_accuracy: 0.6728 - lr: 1.0000e-05\n",
            "Epoch 110/200\n",
            "897/898 [============================>.] - ETA: 0s - loss: 0.7931 - accuracy: 0.7054\n",
            "Epoch 110: val_loss did not improve from 0.91645\n",
            "898/898 [==============================] - 23s 26ms/step - loss: 0.7932 - accuracy: 0.7054 - val_loss: 0.9202 - val_accuracy: 0.6732 - lr: 1.0000e-06\n",
            "Epoch 111/200\n",
            "896/898 [============================>.] - ETA: 0s - loss: 0.7998 - accuracy: 0.7031\n",
            "Epoch 111: val_loss did not improve from 0.91645\n",
            "898/898 [==============================] - 22s 24ms/step - loss: 0.7995 - accuracy: 0.7032 - val_loss: 0.9188 - val_accuracy: 0.6721 - lr: 1.0000e-06\n",
            "Epoch 112/200\n",
            "897/898 [============================>.] - ETA: 0s - loss: 0.7955 - accuracy: 0.7043\n",
            "Epoch 112: val_loss did not improve from 0.91645\n",
            "898/898 [==============================] - 23s 26ms/step - loss: 0.7956 - accuracy: 0.7042 - val_loss: 0.9192 - val_accuracy: 0.6715 - lr: 1.0000e-06\n",
            "Epoch 113/200\n",
            "896/898 [============================>.] - ETA: 0s - loss: 0.7868 - accuracy: 0.7102\n",
            "Epoch 113: val_loss did not improve from 0.91645\n",
            "898/898 [==============================] - 23s 25ms/step - loss: 0.7868 - accuracy: 0.7103 - val_loss: 0.9202 - val_accuracy: 0.6723 - lr: 1.0000e-06\n",
            "Epoch 114/200\n",
            "898/898 [==============================] - ETA: 0s - loss: 0.7850 - accuracy: 0.7103\n",
            "Epoch 114: val_loss did not improve from 0.91645\n",
            "898/898 [==============================] - 22s 24ms/step - loss: 0.7850 - accuracy: 0.7103 - val_loss: 0.9198 - val_accuracy: 0.6723 - lr: 1.0000e-06\n",
            "Epoch 115/200\n",
            "896/898 [============================>.] - ETA: 0s - loss: 0.7929 - accuracy: 0.7045\n",
            "Epoch 115: val_loss did not improve from 0.91645\n",
            "898/898 [==============================] - 23s 25ms/step - loss: 0.7932 - accuracy: 0.7043 - val_loss: 0.9184 - val_accuracy: 0.6715 - lr: 1.0000e-06\n",
            "Epoch 116/200\n",
            "898/898 [==============================] - ETA: 0s - loss: 0.7913 - accuracy: 0.7056\n",
            "Epoch 116: val_loss did not improve from 0.91645\n",
            "898/898 [==============================] - 22s 25ms/step - loss: 0.7913 - accuracy: 0.7056 - val_loss: 0.9184 - val_accuracy: 0.6719 - lr: 1.0000e-06\n",
            "Epoch 117/200\n",
            "898/898 [==============================] - ETA: 0s - loss: 0.7882 - accuracy: 0.7056\n",
            "Epoch 117: val_loss did not improve from 0.91645\n",
            "898/898 [==============================] - 23s 25ms/step - loss: 0.7882 - accuracy: 0.7056 - val_loss: 0.9182 - val_accuracy: 0.6708 - lr: 1.0000e-06\n",
            "Epoch 118/200\n",
            "897/898 [============================>.] - ETA: 0s - loss: 0.7898 - accuracy: 0.7054\n",
            "Epoch 118: val_loss did not improve from 0.91645\n",
            "898/898 [==============================] - 23s 26ms/step - loss: 0.7894 - accuracy: 0.7056 - val_loss: 0.9184 - val_accuracy: 0.6736 - lr: 1.0000e-06\n",
            "Epoch 119/200\n",
            "896/898 [============================>.] - ETA: 0s - loss: 0.7934 - accuracy: 0.7071\n",
            "Epoch 119: val_loss did not improve from 0.91645\n",
            "898/898 [==============================] - 22s 24ms/step - loss: 0.7935 - accuracy: 0.7071 - val_loss: 0.9200 - val_accuracy: 0.6719 - lr: 1.0000e-06\n",
            "Epoch 120/200\n",
            "897/898 [============================>.] - ETA: 0s - loss: 0.7967 - accuracy: 0.7052\n",
            "Epoch 120: val_loss did not improve from 0.91645\n",
            "898/898 [==============================] - 23s 26ms/step - loss: 0.7965 - accuracy: 0.7052 - val_loss: 0.9203 - val_accuracy: 0.6715 - lr: 1.0000e-06\n",
            "Epoch 121/200\n",
            "896/898 [============================>.] - ETA: 0s - loss: 0.7933 - accuracy: 0.7066\n",
            "Epoch 121: val_loss did not improve from 0.91645\n",
            "\n",
            "Epoch 121: ReduceLROnPlateau reducing learning rate to 1.0000001111620805e-07.\n",
            "898/898 [==============================] - 23s 26ms/step - loss: 0.7934 - accuracy: 0.7066 - val_loss: 0.9215 - val_accuracy: 0.6714 - lr: 1.0000e-06\n",
            "Epoch 122/200\n",
            "898/898 [==============================] - ETA: 0s - loss: 0.7945 - accuracy: 0.7063\n",
            "Epoch 122: val_loss did not improve from 0.91645\n",
            "898/898 [==============================] - 23s 25ms/step - loss: 0.7945 - accuracy: 0.7063 - val_loss: 0.9199 - val_accuracy: 0.6711 - lr: 1.0000e-07\n",
            "Epoch 123/200\n",
            "896/898 [============================>.] - ETA: 0s - loss: 0.7967 - accuracy: 0.7067\n",
            "Epoch 123: val_loss did not improve from 0.91645\n",
            "898/898 [==============================] - 22s 25ms/step - loss: 0.7963 - accuracy: 0.7068 - val_loss: 0.9195 - val_accuracy: 0.6729 - lr: 1.0000e-07\n",
            "Epoch 124/200\n",
            "897/898 [============================>.] - ETA: 0s - loss: 0.7984 - accuracy: 0.7026\n",
            "Epoch 124: val_loss did not improve from 0.91645\n",
            "898/898 [==============================] - 23s 25ms/step - loss: 0.7982 - accuracy: 0.7027 - val_loss: 0.9207 - val_accuracy: 0.6715 - lr: 1.0000e-07\n",
            "Epoch 125/200\n",
            "896/898 [============================>.] - ETA: 0s - loss: 0.7824 - accuracy: 0.7106\n",
            "Epoch 125: val_loss did not improve from 0.91645\n",
            "898/898 [==============================] - 22s 25ms/step - loss: 0.7827 - accuracy: 0.7104 - val_loss: 0.9213 - val_accuracy: 0.6716 - lr: 1.0000e-07\n",
            "Epoch 126/200\n",
            "898/898 [==============================] - ETA: 0s - loss: 0.7933 - accuracy: 0.7041\n",
            "Epoch 126: val_loss did not improve from 0.91645\n",
            "898/898 [==============================] - 22s 25ms/step - loss: 0.7933 - accuracy: 0.7041 - val_loss: 0.9206 - val_accuracy: 0.6723 - lr: 1.0000e-07\n",
            "Epoch 127/200\n",
            "897/898 [============================>.] - ETA: 0s - loss: 0.7901 - accuracy: 0.7074\n",
            "Epoch 127: val_loss did not improve from 0.91645\n",
            "898/898 [==============================] - 23s 25ms/step - loss: 0.7901 - accuracy: 0.7073 - val_loss: 0.9212 - val_accuracy: 0.6715 - lr: 1.0000e-07\n",
            "Epoch 128/200\n",
            "897/898 [============================>.] - ETA: 0s - loss: 0.7904 - accuracy: 0.7067\n",
            "Epoch 128: val_loss did not improve from 0.91645\n",
            "898/898 [==============================] - 24s 27ms/step - loss: 0.7903 - accuracy: 0.7068 - val_loss: 0.9182 - val_accuracy: 0.6711 - lr: 1.0000e-07\n",
            "Epoch 129/200\n",
            "896/898 [============================>.] - ETA: 0s - loss: 0.7894 - accuracy: 0.7054\n",
            "Epoch 129: val_loss did not improve from 0.91645\n",
            "898/898 [==============================] - 24s 26ms/step - loss: 0.7893 - accuracy: 0.7055 - val_loss: 0.9228 - val_accuracy: 0.6729 - lr: 1.0000e-07\n",
            "Epoch 130/200\n",
            "898/898 [==============================] - ETA: 0s - loss: 0.7898 - accuracy: 0.7076\n",
            "Epoch 130: val_loss did not improve from 0.91645\n",
            "898/898 [==============================] - 24s 27ms/step - loss: 0.7898 - accuracy: 0.7076 - val_loss: 0.9200 - val_accuracy: 0.6723 - lr: 1.0000e-07\n",
            "Epoch 131/200\n",
            "897/898 [============================>.] - ETA: 0s - loss: 0.7918 - accuracy: 0.7058\n",
            "Epoch 131: val_loss did not improve from 0.91645\n",
            "898/898 [==============================] - 24s 26ms/step - loss: 0.7918 - accuracy: 0.7057 - val_loss: 0.9179 - val_accuracy: 0.6732 - lr: 1.0000e-07\n",
            "Epoch 132/200\n",
            "896/898 [============================>.] - ETA: 0s - loss: 0.7970 - accuracy: 0.7029\n",
            "Epoch 132: val_loss did not improve from 0.91645\n",
            "898/898 [==============================] - 23s 25ms/step - loss: 0.7969 - accuracy: 0.7030 - val_loss: 0.9229 - val_accuracy: 0.6730 - lr: 1.0000e-07\n",
            "Epoch 133/200\n",
            "898/898 [==============================] - ETA: 0s - loss: 0.8029 - accuracy: 0.7017\n",
            "Epoch 133: val_loss did not improve from 0.91645\n",
            "\n",
            "Epoch 133: ReduceLROnPlateau reducing learning rate to 1.000000082740371e-08.\n",
            "898/898 [==============================] - 22s 25ms/step - loss: 0.8029 - accuracy: 0.7017 - val_loss: 0.9210 - val_accuracy: 0.6718 - lr: 1.0000e-07\n",
            "Epoch 134/200\n",
            "898/898 [==============================] - ETA: 0s - loss: 0.7930 - accuracy: 0.7052\n",
            "Epoch 134: val_loss did not improve from 0.91645\n",
            "898/898 [==============================] - 23s 26ms/step - loss: 0.7930 - accuracy: 0.7052 - val_loss: 0.9195 - val_accuracy: 0.6719 - lr: 1.0000e-08\n",
            "Epoch 135/200\n",
            "898/898 [==============================] - ETA: 0s - loss: 0.7923 - accuracy: 0.7027\n",
            "Epoch 135: val_loss did not improve from 0.91645\n",
            "898/898 [==============================] - 22s 25ms/step - loss: 0.7923 - accuracy: 0.7027 - val_loss: 0.9182 - val_accuracy: 0.6725 - lr: 1.0000e-08\n"
          ]
        }
      ]
    },
    {
      "cell_type": "code",
      "source": [
        "#evaluate() returns [loss,acc]\n",
        "score = model.evaluate(val_x, val_y, verbose=1)\n",
        "print('Test loss:', score[0])\n",
        "print('Test accuracy:', score[1]*100)"
      ],
      "metadata": {
        "colab": {
          "base_uri": "https://localhost:8080/"
        },
        "id": "CYbtrsVkSWwd",
        "outputId": "b954d3f1-355e-4659-d772-6515bbbf4fc8"
      },
      "id": "CYbtrsVkSWwd",
      "execution_count": 51,
      "outputs": [
        {
          "output_type": "stream",
          "name": "stdout",
          "text": [
            "225/225 [==============================] - 1s 5ms/step - loss: 0.9182 - accuracy: 0.6725\n",
            "Test loss: 0.9182459712028503\n",
            "Test accuracy: 67.24714636802673\n"
          ]
        }
      ]
    },
    {
      "cell_type": "code",
      "source": [
        "\n",
        "\"\"\" metrics collected by history object \"\"\"\n",
        "history_dict=history.history\n",
        "history_dict.keys()"
      ],
      "metadata": {
        "colab": {
          "base_uri": "https://localhost:8080/"
        },
        "id": "xpze03L7SxJ6",
        "outputId": "fc7cd81b-6e09-49d3-ce59-8a1543f11fed"
      },
      "id": "xpze03L7SxJ6",
      "execution_count": 52,
      "outputs": [
        {
          "output_type": "execute_result",
          "data": {
            "text/plain": [
              "dict_keys(['loss', 'accuracy', 'val_loss', 'val_accuracy', 'lr'])"
            ]
          },
          "metadata": {},
          "execution_count": 52
        }
      ]
    },
    {
      "cell_type": "code",
      "source": [
        "\"\"\" Visualising model training history \"\"\"\n",
        "\n",
        "import matplotlib.pyplot as plt\n",
        "\n",
        "train_loss_values = history_dict['loss']\n",
        "val_loss_values = history_dict['val_loss']\n",
        "\n",
        "epochs = range(1, len(history_dict['accuracy']) + 1)\n",
        "\n",
        "plt.plot(epochs, train_loss_values, 'bo', label='Training loss')\n",
        "plt.plot(epochs, val_loss_values, 'b', label='Validation loss')\n",
        "plt.title('Training and validation loss')\n",
        "plt.xlabel('Epochs')\n",
        "plt.ylabel('Loss')\n",
        "plt.legend()\n",
        "plt.show()"
      ],
      "metadata": {
        "id": "DW0Bzr9ALiNW",
        "colab": {
          "base_uri": "https://localhost:8080/",
          "height": 472
        },
        "outputId": "aa11a6ea-5cc7-47e2-e693-8400586af14c"
      },
      "id": "DW0Bzr9ALiNW",
      "execution_count": 53,
      "outputs": [
        {
          "output_type": "display_data",
          "data": {
            "text/plain": [
              "<Figure size 640x480 with 1 Axes>"
            ],
            "image/png": "[encoded data removed]"
          },
          "metadata": {}
        }
      ]
    },
    {
      "cell_type": "code",
      "source": [
        "train_acc = history_dict['accuracy']\n",
        "val_acc = history_dict['val_accuracy']\n",
        "plt.plot(epochs, train_acc, 'bo', label='Training acc')\n",
        "plt.plot(epochs, val_acc, 'b', label='Validation acc')\n",
        "plt.title('Training and validation accuracy')\n",
        "plt.xlabel('Epochs')\n",
        "plt.ylabel('Loss')\n",
        "plt.legend()\n",
        "plt.show()"
      ],
      "metadata": {
        "colab": {
          "base_uri": "https://localhost:8080/",
          "height": 472
        },
        "id": "SSkZ6JcxS7lT",
        "outputId": "ce470f40-4746-4062-964a-0c9a019d9242"
      },
      "id": "SSkZ6JcxS7lT",
      "execution_count": 54,
      "outputs": [
        {
          "output_type": "display_data",
          "data": {
            "text/plain": [
              "<Figure size 640x480 with 1 Axes>"
            ],
            "image/png": "[encoded data removed]"
          },
          "metadata": {}
        }
      ]
    },
    {
      "cell_type": "markdown",
      "source": [
        "**Testing the model on some images**"
      ],
      "metadata": {
        "id": "ZZFmNgblTgGg"
      },
      "id": "ZZFmNgblTgGg"
    },
    {
      "cell_type": "code",
      "source": [
        "emotion_dict = {0:\"Neutral\", 1:\"Disgusted\", 2:\"Fearful\", 3:\"Happy\", 4:\"Sad\", 5:\"Surprised\", 6:\"Neutral\"}\n",
        "\n",
        "  #emojis unicodes #\n",
        " emojis = {0:\"\\U0001f620\", 1:\"\\U0001f922\", 2:\"\\U0001f628\", 3:\"\\U0001f60A\", 4:\"\\U0001f625\", 5:\"\\U0001f632\", 6:\"\\U0001f610\"}\n",
        "\n",
        " print(emojis.values(),sep=\" \")"
      ],
      "metadata": {
        "colab": {
          "base_uri": "https://localhost:8080/",
          "height": 246
        },
        "id": "QLqhlhB_TlNA",
        "outputId": "243c1d5f-3a5f-416e-8d36-28c56e50d6ad"
      },
      "id": "QLqhlhB_TlNA",
      "execution_count": null,
      "outputs": [
        {
          "output_type": "error",
          "ename": "IndentationError",
          "evalue": "ignored",
          "traceback": [
            "\u001b[0;31m---------------------------------------------------------------------------\u001b[0m",
            "\u001b[0;31mIndentationError\u001b[0m                          Traceback (most recent call last)",
            "\u001b[0;32m/usr/local/lib/python3.10/dist-packages/IPython/core/compilerop.py\u001b[0m in \u001b[0;36mast_parse\u001b[0;34m(self, source, filename, symbol)\u001b[0m\n\u001b[1;32m     99\u001b[0m         \u001b[0mArguments\u001b[0m \u001b[0mare\u001b[0m \u001b[0mexactly\u001b[0m \u001b[0mthe\u001b[0m \u001b[0msame\u001b[0m \u001b[0;32mas\u001b[0m \u001b[0mast\u001b[0m\u001b[0;34m.\u001b[0m\u001b[0mparse\u001b[0m \u001b[0;34m(\u001b[0m\u001b[0;32min\u001b[0m \u001b[0mthe\u001b[0m \u001b[0mstandard\u001b[0m \u001b[0mlibrary\u001b[0m\u001b[0;34m)\u001b[0m\u001b[0;34m,\u001b[0m\u001b[0;34m\u001b[0m\u001b[0;34m\u001b[0m\u001b[0m\n\u001b[1;32m    100\u001b[0m         and are passed to the built-in compile function.\"\"\"\n\u001b[0;32m--> 101\u001b[0;31m         \u001b[0;32mreturn\u001b[0m \u001b[0mcompile\u001b[0m\u001b[0;34m(\u001b[0m\u001b[0msource\u001b[0m\u001b[0;34m,\u001b[0m \u001b[0mfilename\u001b[0m\u001b[0;34m,\u001b[0m \u001b[0msymbol\u001b[0m\u001b[0;34m,\u001b[0m \u001b[0mself\u001b[0m\u001b[0;34m.\u001b[0m\u001b[0mflags\u001b[0m \u001b[0;34m|\u001b[0m \u001b[0mPyCF_ONLY_AST\u001b[0m\u001b[0;34m,\u001b[0m \u001b[0;36m1\u001b[0m\u001b[0;34m)\u001b[0m\u001b[0;34m\u001b[0m\u001b[0;34m\u001b[0m\u001b[0m\n\u001b[0m\u001b[1;32m    102\u001b[0m \u001b[0;34m\u001b[0m\u001b[0m\n\u001b[1;32m    103\u001b[0m     \u001b[0;32mdef\u001b[0m \u001b[0mreset_compiler_flags\u001b[0m\u001b[0;34m(\u001b[0m\u001b[0mself\u001b[0m\u001b[0;34m)\u001b[0m\u001b[0;34m:\u001b[0m\u001b[0;34m\u001b[0m\u001b[0;34m\u001b[0m\u001b[0m\n",
            "\u001b[0;31mIndentationError\u001b[0m: unexpected indent (<ipython-input-54-92ab2bedc021>, line 4)"
          ]
        }
      ]
    },
    {
      "cell_type": "code",
      "execution_count": null,
      "metadata": {
        "id": "crB4GQdYSQQ6"
      },
      "outputs": [],
      "source": [
        "from google.colab.patches import cv2_imshow\n",
        "import cv2\n",
        "import shutil, sys, os, dlib, glob\n",
        "\n",
        "def _predict(path):\n",
        "  facecasc = cv2.CascadeClassifier('/content/haarcascade_frontalface_default.xml')\n",
        "  imagePath = '/content/'+path\n",
        "  image = cv2.imread(imagePath)\n",
        "  gray = cv2.cvtColor(image, cv2.COLOR_BGR2GRAY)\n",
        "  faces = facecasc.detectMultiScale(gray,scaleFactor=1.3, minNeighbors=10)\n",
        "  print(\"No of faces : \",len(faces))\n",
        "  i = 1\n",
        "  for (x, y, w, h) in faces:\n",
        "    cv2.rectangle(image, (x, y), (x+w, y+h), (0, 255, 0), 2)\n",
        "    roi_gray = gray[y:y + h, x:x + w]                      #croping\n",
        "    cropped_img = np.expand_dims(np.expand_dims(cv2.resize(roi_gray, (48, 48)), -1), 0)\n",
        "    prediction = model.predict(cropped_img)\n",
        "\n",
        "    maxindex = int(np.argmax(prediction))\n",
        "    print(\"person \",i,\" : \",emotion_dict[maxindex], \"-->\",emojis[maxindex])\n",
        "    cv2.putText(image, emotion_dict[maxindex], (x+10, y-20), cv2.FONT_HERSHEY_SIMPLEX, 0.7, (255, 255, 255), 2)\n",
        "                                              #if text is not apeared , change coordinates. it may work\n",
        "\n",
        "  cv2_imshow(image)"
      ],
      "id": "crB4GQdYSQQ6"
    },
    {
      "cell_type": "code",
      "source": [
        "from keras.callbacks import ModelCheckpoint, EarlyStopping, ReduceLROnPlateau"
      ],
      "metadata": {
        "id": "4hkWMZEvgiJt"
      },
      "id": "4hkWMZEvgiJt",
      "execution_count": null,
      "outputs": []
    },
    {
      "cell_type": "code",
      "source": [
        "checkpoint = ModelCheckpoint(filepath=\"contentfer2013simple_cnn.31-0.97.hdf5\", monitor='val_accuracy', verbose=1, save_best_only=True, mode='max')\n",
        "\n",
        "early_stopping = EarlyStopping(monitor='val_accuracy',\n",
        "                          min_delta=0.01,\n",
        "                          patience=10,\n",
        "                          verbose=1,\n",
        "                          restore_best_weights=True\n",
        "                          )\n",
        "\n",
        "reduce_learningrate = ReduceLROnPlateau(monitor='val_loss',\n",
        "                              factor=0.2,\n",
        "                              patience=3,\n",
        "                              verbose=1,\n",
        "                              min_delta=0.0001)\n",
        "\n",
        "callbacks_list = [early_stopping,checkpoint,reduce_learningrate]"
      ],
      "metadata": {
        "id": "ybMzykhdcAFD"
      },
      "id": "ybMzykhdcAFD",
      "execution_count": null,
      "outputs": []
    },
    {
      "cell_type": "code",
      "source": [
        "hist = model.fit(val_x, val_y, epochs = 25, validation_data = val_data, callbacks = callbacks_list)"
      ],
      "metadata": {
        "colab": {
          "base_uri": "https://localhost:8080/"
        },
        "id": "8psqbh2Yci9o",
        "outputId": "cb261133-d8cb-409b-86fd-34ada67d4445"
      },
      "id": "8psqbh2Yci9o",
      "execution_count": null,
      "outputs": [
        {
          "output_type": "stream",
          "name": "stdout",
          "text": [
            "Epoch 1/25\n",
            "225/225 [==============================] - ETA: 0s - loss: 1.0150 - accuracy: 0.6408\n",
            "Epoch 1: val_accuracy did not improve from 0.68571\n",
            "225/225 [==============================] - 6s 27ms/step - loss: 1.0150 - accuracy: 0.6408 - val_loss: 0.8990 - val_accuracy: 0.6839 - lr: 2.0000e-08\n",
            "Epoch 2/25\n",
            "223/225 [============================>.] - ETA: 0s - loss: 1.0156 - accuracy: 0.6418\n",
            "Epoch 2: val_accuracy did not improve from 0.68571\n",
            "225/225 [==============================] - 6s 25ms/step - loss: 1.0138 - accuracy: 0.6424 - val_loss: 0.8998 - val_accuracy: 0.6836 - lr: 2.0000e-08\n",
            "Epoch 3/25\n",
            "223/225 [============================>.] - ETA: 0s - loss: 1.0153 - accuracy: 0.6425\n",
            "Epoch 3: val_accuracy did not improve from 0.68571\n",
            "225/225 [==============================] - 6s 26ms/step - loss: 1.0167 - accuracy: 0.6421 - val_loss: 0.9004 - val_accuracy: 0.6842 - lr: 2.0000e-08\n",
            "Epoch 4/25\n",
            "223/225 [============================>.] - ETA: 0s - loss: 1.0098 - accuracy: 0.6459\n",
            "Epoch 4: val_accuracy did not improve from 0.68571\n",
            "\n",
            "Epoch 4: ReduceLROnPlateau reducing learning rate to 4.000000330961484e-09.\n",
            "225/225 [==============================] - 6s 26ms/step - loss: 1.0099 - accuracy: 0.6452 - val_loss: 0.8995 - val_accuracy: 0.6850 - lr: 2.0000e-08\n",
            "Epoch 5/25\n",
            "223/225 [============================>.] - ETA: 0s - loss: 1.0167 - accuracy: 0.6396\n",
            "Epoch 5: val_accuracy did not improve from 0.68571\n",
            "225/225 [==============================] - 5s 24ms/step - loss: 1.0152 - accuracy: 0.6399 - val_loss: 0.8992 - val_accuracy: 0.6839 - lr: 4.0000e-09\n",
            "Epoch 6/25\n",
            "223/225 [============================>.] - ETA: 0s - loss: 1.0191 - accuracy: 0.6428\n",
            "Epoch 6: val_accuracy did not improve from 0.68571\n",
            "225/225 [==============================] - 6s 25ms/step - loss: 1.0195 - accuracy: 0.6428 - val_loss: 0.8989 - val_accuracy: 0.6839 - lr: 4.0000e-09\n",
            "Epoch 7/25\n",
            "223/225 [============================>.] - ETA: 0s - loss: 1.0280 - accuracy: 0.6371\n",
            "Epoch 7: val_accuracy did not improve from 0.68571\n",
            "225/225 [==============================] - 6s 26ms/step - loss: 1.0272 - accuracy: 0.6369 - val_loss: 0.8987 - val_accuracy: 0.6843 - lr: 4.0000e-09\n",
            "Epoch 8/25\n",
            "223/225 [============================>.] - ETA: 0s - loss: 1.0119 - accuracy: 0.6400\n",
            "Epoch 8: val_accuracy did not improve from 0.68571\n",
            "225/225 [==============================] - 5s 24ms/step - loss: 1.0132 - accuracy: 0.6396 - val_loss: 0.8994 - val_accuracy: 0.6842 - lr: 4.0000e-09\n",
            "Epoch 9/25\n",
            "225/225 [==============================] - ETA: 0s - loss: 1.0168 - accuracy: 0.6386\n",
            "Epoch 9: val_accuracy did not improve from 0.68571\n",
            "225/225 [==============================] - 6s 26ms/step - loss: 1.0168 - accuracy: 0.6386 - val_loss: 0.8986 - val_accuracy: 0.6840 - lr: 4.0000e-09\n",
            "Epoch 10/25\n",
            "223/225 [============================>.] - ETA: 0s - loss: 1.0155 - accuracy: 0.6414\n",
            "Epoch 10: val_accuracy did not improve from 0.68571\n",
            "225/225 [==============================] - 6s 25ms/step - loss: 1.0160 - accuracy: 0.6411 - val_loss: 0.8991 - val_accuracy: 0.6836 - lr: 4.0000e-09\n",
            "Epoch 11/25\n",
            "223/225 [============================>.] - ETA: 0s - loss: 1.0188 - accuracy: 0.6362Restoring model weights from the end of the best epoch: 1.\n",
            "\n",
            "Epoch 11: val_accuracy did not improve from 0.68571\n",
            "225/225 [==============================] - 6s 27ms/step - loss: 1.0192 - accuracy: 0.6364 - val_loss: 0.8986 - val_accuracy: 0.6840 - lr: 4.0000e-09\n",
            "Epoch 11: early stopping\n"
          ]
        }
      ]
    },
    {
      "cell_type": "markdown",
      "source": [],
      "metadata": {
        "id": "gMsqmHJCSv2C"
      },
      "id": "gMsqmHJCSv2C"
    },
    {
      "cell_type": "code",
      "execution_count": null,
      "metadata": {
        "id": "5bLehWg2jNCJ",
        "colab": {
          "base_uri": "https://localhost:8080/",
          "height": 17
        },
        "outputId": "dd14a3de-7d24-4269-dd0d-472bc58bfb22"
      },
      "outputs": [
        {
          "output_type": "display_data",
          "data": {
            "text/plain": [
              "<IPython.core.display.Javascript object>"
            ],
            "application/javascript": [
              "\n",
              "    async function download(id, filename, size) {\n",
              "      if (!google.colab.kernel.accessAllowed) {\n",
              "        return;\n",
              "      }\n",
              "      const div = document.createElement('div');\n",
              "      const label = document.createElement('label');\n",
              "      label.textContent = `Downloading \"${filename}\": `;\n",
              "      div.appendChild(label);\n",
              "      const progress = document.createElement('progress');\n",
              "      progress.max = size;\n",
              "      div.appendChild(progress);\n",
              "      document.body.appendChild(div);\n",
              "\n",
              "      const buffers = [];\n",
              "      let downloaded = 0;\n",
              "\n",
              "      const channel = await google.colab.kernel.comms.open(id);\n",
              "      // Send a message to notify the kernel that we're ready.\n",
              "      channel.send({})\n",
              "\n",
              "      for await (const message of channel.messages) {\n",
              "        // Send a message to notify the kernel that we're ready.\n",
              "        channel.send({})\n",
              "        if (message.buffers) {\n",
              "          for (const buffer of message.buffers) {\n",
              "            buffers.push(buffer);\n",
              "            downloaded += buffer.byteLength;\n",
              "            progress.value = downloaded;\n",
              "          }\n",
              "        }\n",
              "      }\n",
              "      const blob = new Blob(buffers, {type: 'application/binary'});\n",
              "      const a = document.createElement('a');\n",
              "      a.href = window.URL.createObjectURL(blob);\n",
              "      a.download = filename;\n",
              "      div.appendChild(a);\n",
              "      a.click();\n",
              "      div.remove();\n",
              "    }\n",
              "  "
            ]
          },
          "metadata": {}
        },
        {
          "output_type": "display_data",
          "data": {
            "text/plain": [
              "<IPython.core.display.Javascript object>"
            ],
            "application/javascript": [
              "download(\"download_b69571d2-0a82-4d65-8069-6c6902d07a24\", \"contentfer2013simple_cnn.31-0.97.hdf5\", 231142288)"
            ]
          },
          "metadata": {}
        }
      ],
      "source": [
        "from google.colab import files\n",
        "files.download('contentfer2013simple_cnn.31-0.97.hdf5')"
      ],
      "id": "5bLehWg2jNCJ"
    },
    {
      "cell_type": "code",
      "execution_count": null,
      "metadata": {
        "id": "UmQmDdIod8WS",
        "colab": {
          "base_uri": "https://localhost:8080/"
        },
        "outputId": "9ae1401f-6cc6-4770-82a0-697f8f96f096"
      },
      "outputs": [
        {
          "output_type": "stream",
          "name": "stdout",
          "text": [
            "909/909 [==============================] - 6s 6ms/step - loss: 92.2517 - accuracy: 0.1910\n"
          ]
        },
        {
          "output_type": "execute_result",
          "data": {
            "text/plain": [
              "0.19100041687488556"
            ]
          },
          "metadata": {},
          "execution_count": 69
        }
      ],
      "source": [
        "model.evaluate(X_train, y_train)[1]"
      ],
      "id": "UmQmDdIod8WS"
    },
    {
      "cell_type": "code",
      "execution_count": null,
      "metadata": {
        "id": "0XivXfjkj-f0"
      },
      "outputs": [],
      "source": [],
      "id": "0XivXfjkj-f0"
    },
    {
      "cell_type": "code",
      "execution_count": null,
      "metadata": {
        "id": "yloutdRpWSWY"
      },
      "outputs": [],
      "source": [
        "c"
      ],
      "id": "yloutdRpWSWY"
    },
    {
      "cell_type": "code",
      "execution_count": null,
      "metadata": {
        "id": "FSKmNM6OeTUj"
      },
      "outputs": [],
      "source": [],
      "id": "FSKmNM6OeTUj"
    },
    {
      "cell_type": "code",
      "execution_count": null,
      "metadata": {
        "id": "73VOrLA9aPvU"
      },
      "outputs": [],
      "source": [
        "# parameters\n",
        "batch_size = 32 #Number of samples per gradient update\n",
        "num_epochs = 200 # Number of epochs to train the model.\n",
        "#input_shape = (64, 64, 1)\n",
        "verbose = 1 #per epohs  progress bar\n",
        "num_classes = 7\n",
        "patience = 50\n",
        "base_path = 'drive/Colab Notebooks/emotion/simplecnn/'"
      ],
      "id": "73VOrLA9aPvU"
    },
    {
      "cell_type": "code",
      "execution_count": null,
      "metadata": {
        "id": "F7Rd4P8Ym8As"
      },
      "outputs": [],
      "source": [
        "from tensorflow.keras.models import load_model\n",
        "model=load_model(\"Emotion_Detection.h5\")"
      ],
      "id": "F7Rd4P8Ym8As"
    },
    {
      "cell_type": "code",
      "execution_count": null,
      "metadata": {
        "id": "aHx7BrOJr3vh"
      },
      "outputs": [],
      "source": [
        "!jupyter nbconvert --to pdf /content/MemoireProject.ipynb"
      ],
      "id": "aHx7BrOJr3vh"
    }
  ],
  "metadata": {
    "colab": {
      "provenance": [],
      "gpuType": "T4",
      "include_colab_link": true
    },
    "kernelspec": {
      "display_name": "Python 3",
      "name": "python3"
    },
    "language_info": {
      "codemirror_mode": {
        "name": "ipython",
        "version": 3
      },
      "file_extension": ".py",
      "mimetype": "text/x-python",
      "name": "python",
      "nbconvert_exporter": "python",
      "pygments_lexer": "ipython3",
      "version": "3.9.12"
    },
    "accelerator": "GPU"
  },
  "nbformat": 4,
  "nbformat_minor": 5
}